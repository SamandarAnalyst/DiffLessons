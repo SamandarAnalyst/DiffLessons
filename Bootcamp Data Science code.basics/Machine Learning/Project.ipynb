{
 "cells": [
  {
   "cell_type": "markdown",
   "id": "d8b6c32b",
   "metadata": {},
   "source": [
    "# Exercise 2 - Create a markdown cell with the title of the notebook.\n",
    "# Title: Data Science Notebook"
   ]
  },
  {
   "cell_type": "markdown",
   "id": "c81e7c22",
   "metadata": {},
   "source": [
    "# Exercise 3 - Create a markdown cell for an introduction.\n",
    "# Introduction: Welcome to the Data Science Notebook. This notebook contains various exercises related to data science concepts and tools."
   ]
  },
  {
   "cell_type": "markdown",
   "id": "091ee194",
   "metadata": {},
   "source": [
    "# Exercise 4 - Create a markdown cell to list data science languages.\n",
    "# Data Science Languages:\n",
    "# - Python\n",
    "# - R\n",
    "# - Julia"
   ]
  },
  {
   "cell_type": "markdown",
   "id": "e9511262",
   "metadata": {},
   "source": [
    "# Exercise 5 - Create a markdown cell to list data science libraries.\n",
    "# Data Science Libraries:\n",
    "# - NumPy\n",
    "# - Pandas\n",
    "# - Matplotlib"
   ]
  },
  {
   "cell_type": "markdown",
   "id": "6144bb4c",
   "metadata": {},
   "source": [
    "# Exercise 6 - Create a markdown cell with a table of Data Science tools.\n",
    "# | Tool       | Description                      |\n",
    "# | -----------| ---------------------------------|\n",
    "# | Jupyter    | Interactive notebooks            |\n",
    "# | TensorFlow | Machine learning framework       |\n",
    "# | Scikit-learn| Machine learning library         |"
   ]
  },
  {
   "cell_type": "markdown",
   "id": "8452ce3d",
   "metadata": {},
   "source": [
    "# Exercise 7 - Create a markdown cell introducing arithmetic expression examples.\n",
    "# Arithmetic Expression Examples:\n",
    "# 1. Addition: 2 + 3 = 5\n",
    "# 2. Subtraction: 5 - 2 = 3\n",
    "# 3. Multiplication: 4 * 3 = 12\n",
    "# 4. Division: 10 / 2 = 5"
   ]
  },
  {
   "cell_type": "markdown",
   "id": "f80180c9",
   "metadata": {},
   "source": [
    "# Exercise 8 - Create a code cell to multiply and add numbers.\n",
    "# Multiply and Add Numbers:\n",
    "a = 2\n",
    "b = 3\n",
    "result_multiply = a * b\n",
    "result_add = a + b\n",
    "print(\"Multiplication Result:\", result_multiply)\n",
    "print(\"Addition Result:\", result_add)"
   ]
  },
  {
   "cell_type": "markdown",
   "id": "c91da5e0",
   "metadata": {},
   "source": [
    "# Exercise 9 - Create a code cell to convert minutes to hours.\n",
    "# Convert Minutes to Hours:\n",
    "minutes = 120\n",
    "hours = minutes / 60\n",
    "print(\"Hours:\", hours)"
   ]
  },
  {
   "cell_type": "markdown",
   "id": "41aa3bee",
   "metadata": {},
   "source": [
    "# Exercise 10 - Insert a markdown cell to list Objectives.\n",
    "# Objectives:\n",
    "# 1. Learn about data science languages and libraries.\n",
    "# 2. Explore data science tools.\n",
    "# 3. Practice arithmetic expressions."
   ]
  },
  {
   "cell_type": "markdown",
   "id": "d3a7325c",
   "metadata": {},
   "source": [
    "# Exercise 11 - Create a markdown cell to indicate the Author’s name.\n",
    "# Author: Your Name"
   ]
  }
 ],
 "metadata": {
  "kernelspec": {
   "display_name": "Python 3 (ipykernel)",
   "language": "python",
   "name": "python3"
  },
  "language_info": {
   "codemirror_mode": {
    "name": "ipython",
    "version": 3
   },
   "file_extension": ".py",
   "mimetype": "text/x-python",
   "name": "python",
   "nbconvert_exporter": "python",
   "pygments_lexer": "ipython3",
   "version": "3.11.5"
  }
 },
 "nbformat": 4,
 "nbformat_minor": 5
}
