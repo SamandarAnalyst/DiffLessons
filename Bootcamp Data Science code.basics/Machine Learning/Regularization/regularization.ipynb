{
 "cells": [
  {
   "cell_type": "code",
   "execution_count": 1,
   "id": "initial_id",
   "metadata": {
    "collapsed": true,
    "ExecuteTime": {
     "end_time": "2023-11-02T11:55:44.465953900Z",
     "start_time": "2023-11-02T11:55:44.447654200Z"
    }
   },
   "outputs": [],
   "source": [
    "import numpy as np\n",
    "import matplotlib.pyplot as plt\n",
    "import pandas as pd\n",
    "import seaborn as sns"
   ]
  },
  {
   "cell_type": "code",
   "execution_count": 2,
   "outputs": [],
   "source": [
    "import warnings\n",
    "warnings.filterwarnings('ignore')"
   ],
   "metadata": {
    "collapsed": false,
    "ExecuteTime": {
     "end_time": "2023-11-02T11:55:52.587735200Z",
     "start_time": "2023-11-02T11:55:52.568788300Z"
    }
   },
   "id": "bd48b0848b67613f"
  },
  {
   "cell_type": "code",
   "execution_count": 3,
   "outputs": [
    {
     "data": {
      "text/plain": "       Suburb             Address  Rooms Type      Price Method SellerG  \\\n0  Abbotsford       68 Studley St      2    h        NaN     SS  Jellis   \n1  Abbotsford        85 Turner St      2    h  1480000.0      S  Biggin   \n2  Abbotsford     25 Bloomburg St      2    h  1035000.0      S  Biggin   \n3  Abbotsford  18/659 Victoria St      3    u        NaN     VB  Rounds   \n4  Abbotsford        5 Charles St      3    h  1465000.0     SP  Biggin   \n\n        Date  Distance  Postcode  ...  Bathroom  Car  Landsize  BuildingArea  \\\n0  3/09/2016       2.5    3067.0  ...       1.0  1.0     126.0           NaN   \n1  3/12/2016       2.5    3067.0  ...       1.0  1.0     202.0           NaN   \n2  4/02/2016       2.5    3067.0  ...       1.0  0.0     156.0          79.0   \n3  4/02/2016       2.5    3067.0  ...       2.0  1.0       0.0           NaN   \n4  4/03/2017       2.5    3067.0  ...       2.0  0.0     134.0         150.0   \n\n   YearBuilt         CouncilArea Lattitude  Longtitude             Regionname  \\\n0        NaN  Yarra City Council  -37.8014    144.9958  Northern Metropolitan   \n1        NaN  Yarra City Council  -37.7996    144.9984  Northern Metropolitan   \n2     1900.0  Yarra City Council  -37.8079    144.9934  Northern Metropolitan   \n3        NaN  Yarra City Council  -37.8114    145.0116  Northern Metropolitan   \n4     1900.0  Yarra City Council  -37.8093    144.9944  Northern Metropolitan   \n\n  Propertycount  \n0        4019.0  \n1        4019.0  \n2        4019.0  \n3        4019.0  \n4        4019.0  \n\n[5 rows x 21 columns]",
      "text/html": "<div>\n<style scoped>\n    .dataframe tbody tr th:only-of-type {\n        vertical-align: middle;\n    }\n\n    .dataframe tbody tr th {\n        vertical-align: top;\n    }\n\n    .dataframe thead th {\n        text-align: right;\n    }\n</style>\n<table border=\"1\" class=\"dataframe\">\n  <thead>\n    <tr style=\"text-align: right;\">\n      <th></th>\n      <th>Suburb</th>\n      <th>Address</th>\n      <th>Rooms</th>\n      <th>Type</th>\n      <th>Price</th>\n      <th>Method</th>\n      <th>SellerG</th>\n      <th>Date</th>\n      <th>Distance</th>\n      <th>Postcode</th>\n      <th>...</th>\n      <th>Bathroom</th>\n      <th>Car</th>\n      <th>Landsize</th>\n      <th>BuildingArea</th>\n      <th>YearBuilt</th>\n      <th>CouncilArea</th>\n      <th>Lattitude</th>\n      <th>Longtitude</th>\n      <th>Regionname</th>\n      <th>Propertycount</th>\n    </tr>\n  </thead>\n  <tbody>\n    <tr>\n      <th>0</th>\n      <td>Abbotsford</td>\n      <td>68 Studley St</td>\n      <td>2</td>\n      <td>h</td>\n      <td>NaN</td>\n      <td>SS</td>\n      <td>Jellis</td>\n      <td>3/09/2016</td>\n      <td>2.5</td>\n      <td>3067.0</td>\n      <td>...</td>\n      <td>1.0</td>\n      <td>1.0</td>\n      <td>126.0</td>\n      <td>NaN</td>\n      <td>NaN</td>\n      <td>Yarra City Council</td>\n      <td>-37.8014</td>\n      <td>144.9958</td>\n      <td>Northern Metropolitan</td>\n      <td>4019.0</td>\n    </tr>\n    <tr>\n      <th>1</th>\n      <td>Abbotsford</td>\n      <td>85 Turner St</td>\n      <td>2</td>\n      <td>h</td>\n      <td>1480000.0</td>\n      <td>S</td>\n      <td>Biggin</td>\n      <td>3/12/2016</td>\n      <td>2.5</td>\n      <td>3067.0</td>\n      <td>...</td>\n      <td>1.0</td>\n      <td>1.0</td>\n      <td>202.0</td>\n      <td>NaN</td>\n      <td>NaN</td>\n      <td>Yarra City Council</td>\n      <td>-37.7996</td>\n      <td>144.9984</td>\n      <td>Northern Metropolitan</td>\n      <td>4019.0</td>\n    </tr>\n    <tr>\n      <th>2</th>\n      <td>Abbotsford</td>\n      <td>25 Bloomburg St</td>\n      <td>2</td>\n      <td>h</td>\n      <td>1035000.0</td>\n      <td>S</td>\n      <td>Biggin</td>\n      <td>4/02/2016</td>\n      <td>2.5</td>\n      <td>3067.0</td>\n      <td>...</td>\n      <td>1.0</td>\n      <td>0.0</td>\n      <td>156.0</td>\n      <td>79.0</td>\n      <td>1900.0</td>\n      <td>Yarra City Council</td>\n      <td>-37.8079</td>\n      <td>144.9934</td>\n      <td>Northern Metropolitan</td>\n      <td>4019.0</td>\n    </tr>\n    <tr>\n      <th>3</th>\n      <td>Abbotsford</td>\n      <td>18/659 Victoria St</td>\n      <td>3</td>\n      <td>u</td>\n      <td>NaN</td>\n      <td>VB</td>\n      <td>Rounds</td>\n      <td>4/02/2016</td>\n      <td>2.5</td>\n      <td>3067.0</td>\n      <td>...</td>\n      <td>2.0</td>\n      <td>1.0</td>\n      <td>0.0</td>\n      <td>NaN</td>\n      <td>NaN</td>\n      <td>Yarra City Council</td>\n      <td>-37.8114</td>\n      <td>145.0116</td>\n      <td>Northern Metropolitan</td>\n      <td>4019.0</td>\n    </tr>\n    <tr>\n      <th>4</th>\n      <td>Abbotsford</td>\n      <td>5 Charles St</td>\n      <td>3</td>\n      <td>h</td>\n      <td>1465000.0</td>\n      <td>SP</td>\n      <td>Biggin</td>\n      <td>4/03/2017</td>\n      <td>2.5</td>\n      <td>3067.0</td>\n      <td>...</td>\n      <td>2.0</td>\n      <td>0.0</td>\n      <td>134.0</td>\n      <td>150.0</td>\n      <td>1900.0</td>\n      <td>Yarra City Council</td>\n      <td>-37.8093</td>\n      <td>144.9944</td>\n      <td>Northern Metropolitan</td>\n      <td>4019.0</td>\n    </tr>\n  </tbody>\n</table>\n<p>5 rows × 21 columns</p>\n</div>"
     },
     "execution_count": 3,
     "metadata": {},
     "output_type": "execute_result"
    }
   ],
   "source": [
    "dataset = pd.read_csv('Melbourne_housing_FULL.csv')\n",
    "dataset.head()"
   ],
   "metadata": {
    "collapsed": false,
    "ExecuteTime": {
     "end_time": "2023-11-02T11:56:10.625085400Z",
     "start_time": "2023-11-02T11:56:10.371442200Z"
    }
   },
   "id": "a50c56e822e777fb"
  },
  {
   "cell_type": "code",
   "execution_count": 6,
   "outputs": [
    {
     "data": {
      "text/plain": "Suburb             351\nAddress          34009\nRooms               12\nType                 3\nPrice             2871\nMethod               9\nSellerG            388\nDate                78\nDistance           215\nPostcode           211\nBedroom2            15\nBathroom            11\nCar                 15\nLandsize          1684\nBuildingArea       740\nYearBuilt          160\nCouncilArea         33\nLattitude        13402\nLongtitude       14524\nRegionname           8\nPropertycount      342\ndtype: int64"
     },
     "execution_count": 6,
     "metadata": {},
     "output_type": "execute_result"
    }
   ],
   "source": [
    "dataset.nunique()"
   ],
   "metadata": {
    "collapsed": false,
    "ExecuteTime": {
     "end_time": "2023-11-02T11:56:57.236311800Z",
     "start_time": "2023-11-02T11:56:57.184545700Z"
    }
   },
   "id": "ebfdb5e5b2125b84"
  },
  {
   "cell_type": "code",
   "execution_count": 7,
   "outputs": [
    {
     "data": {
      "text/plain": "(34857, 21)"
     },
     "execution_count": 7,
     "metadata": {},
     "output_type": "execute_result"
    }
   ],
   "source": [
    "dataset.shape"
   ],
   "metadata": {
    "collapsed": false,
    "ExecuteTime": {
     "end_time": "2023-11-02T11:57:15.023091500Z",
     "start_time": "2023-11-02T11:57:14.999121600Z"
    }
   },
   "id": "fec7521068107fce"
  },
  {
   "cell_type": "code",
   "execution_count": 8,
   "outputs": [
    {
     "data": {
      "text/plain": "       Suburb  Rooms Type Method SellerG             Regionname  \\\n0  Abbotsford      2    h     SS  Jellis  Northern Metropolitan   \n1  Abbotsford      2    h      S  Biggin  Northern Metropolitan   \n2  Abbotsford      2    h      S  Biggin  Northern Metropolitan   \n3  Abbotsford      3    u     VB  Rounds  Northern Metropolitan   \n4  Abbotsford      3    h     SP  Biggin  Northern Metropolitan   \n\n   Propertycount  Distance         CouncilArea  Bedroom2  Bathroom  Car  \\\n0         4019.0       2.5  Yarra City Council       2.0       1.0  1.0   \n1         4019.0       2.5  Yarra City Council       2.0       1.0  1.0   \n2         4019.0       2.5  Yarra City Council       2.0       1.0  0.0   \n3         4019.0       2.5  Yarra City Council       3.0       2.0  1.0   \n4         4019.0       2.5  Yarra City Council       3.0       2.0  0.0   \n\n   Landsize  BuildingArea      Price  \n0     126.0           NaN        NaN  \n1     202.0           NaN  1480000.0  \n2     156.0          79.0  1035000.0  \n3       0.0           NaN        NaN  \n4     134.0         150.0  1465000.0  ",
      "text/html": "<div>\n<style scoped>\n    .dataframe tbody tr th:only-of-type {\n        vertical-align: middle;\n    }\n\n    .dataframe tbody tr th {\n        vertical-align: top;\n    }\n\n    .dataframe thead th {\n        text-align: right;\n    }\n</style>\n<table border=\"1\" class=\"dataframe\">\n  <thead>\n    <tr style=\"text-align: right;\">\n      <th></th>\n      <th>Suburb</th>\n      <th>Rooms</th>\n      <th>Type</th>\n      <th>Method</th>\n      <th>SellerG</th>\n      <th>Regionname</th>\n      <th>Propertycount</th>\n      <th>Distance</th>\n      <th>CouncilArea</th>\n      <th>Bedroom2</th>\n      <th>Bathroom</th>\n      <th>Car</th>\n      <th>Landsize</th>\n      <th>BuildingArea</th>\n      <th>Price</th>\n    </tr>\n  </thead>\n  <tbody>\n    <tr>\n      <th>0</th>\n      <td>Abbotsford</td>\n      <td>2</td>\n      <td>h</td>\n      <td>SS</td>\n      <td>Jellis</td>\n      <td>Northern Metropolitan</td>\n      <td>4019.0</td>\n      <td>2.5</td>\n      <td>Yarra City Council</td>\n      <td>2.0</td>\n      <td>1.0</td>\n      <td>1.0</td>\n      <td>126.0</td>\n      <td>NaN</td>\n      <td>NaN</td>\n    </tr>\n    <tr>\n      <th>1</th>\n      <td>Abbotsford</td>\n      <td>2</td>\n      <td>h</td>\n      <td>S</td>\n      <td>Biggin</td>\n      <td>Northern Metropolitan</td>\n      <td>4019.0</td>\n      <td>2.5</td>\n      <td>Yarra City Council</td>\n      <td>2.0</td>\n      <td>1.0</td>\n      <td>1.0</td>\n      <td>202.0</td>\n      <td>NaN</td>\n      <td>1480000.0</td>\n    </tr>\n    <tr>\n      <th>2</th>\n      <td>Abbotsford</td>\n      <td>2</td>\n      <td>h</td>\n      <td>S</td>\n      <td>Biggin</td>\n      <td>Northern Metropolitan</td>\n      <td>4019.0</td>\n      <td>2.5</td>\n      <td>Yarra City Council</td>\n      <td>2.0</td>\n      <td>1.0</td>\n      <td>0.0</td>\n      <td>156.0</td>\n      <td>79.0</td>\n      <td>1035000.0</td>\n    </tr>\n    <tr>\n      <th>3</th>\n      <td>Abbotsford</td>\n      <td>3</td>\n      <td>u</td>\n      <td>VB</td>\n      <td>Rounds</td>\n      <td>Northern Metropolitan</td>\n      <td>4019.0</td>\n      <td>2.5</td>\n      <td>Yarra City Council</td>\n      <td>3.0</td>\n      <td>2.0</td>\n      <td>1.0</td>\n      <td>0.0</td>\n      <td>NaN</td>\n      <td>NaN</td>\n    </tr>\n    <tr>\n      <th>4</th>\n      <td>Abbotsford</td>\n      <td>3</td>\n      <td>h</td>\n      <td>SP</td>\n      <td>Biggin</td>\n      <td>Northern Metropolitan</td>\n      <td>4019.0</td>\n      <td>2.5</td>\n      <td>Yarra City Council</td>\n      <td>3.0</td>\n      <td>2.0</td>\n      <td>0.0</td>\n      <td>134.0</td>\n      <td>150.0</td>\n      <td>1465000.0</td>\n    </tr>\n  </tbody>\n</table>\n</div>"
     },
     "execution_count": 8,
     "metadata": {},
     "output_type": "execute_result"
    }
   ],
   "source": [
    "cols_to_use = ['Suburb', 'Rooms', 'Type', 'Method', 'SellerG', 'Regionname', 'Propertycount',\n",
    "               'Distance', 'CouncilArea', 'Bedroom2', 'Bathroom', 'Car', 'Landsize', 'BuildingArea', 'Price']\n",
    "dataset = dataset[cols_to_use]\n",
    "dataset.head()"
   ],
   "metadata": {
    "collapsed": false,
    "ExecuteTime": {
     "end_time": "2023-11-02T11:59:24.041922900Z",
     "start_time": "2023-11-02T11:59:23.981427900Z"
    }
   },
   "id": "a18663bcccd6a3b2"
  },
  {
   "cell_type": "code",
   "execution_count": 9,
   "outputs": [
    {
     "data": {
      "text/plain": "(34857, 15)"
     },
     "execution_count": 9,
     "metadata": {},
     "output_type": "execute_result"
    }
   ],
   "source": [
    "dataset.shape"
   ],
   "metadata": {
    "collapsed": false,
    "ExecuteTime": {
     "end_time": "2023-11-02T11:59:36.583906900Z",
     "start_time": "2023-11-02T11:59:36.557657800Z"
    }
   },
   "id": "7d8229e1cb277853"
  },
  {
   "cell_type": "code",
   "execution_count": 10,
   "outputs": [
    {
     "data": {
      "text/plain": "Suburb               0\nRooms                0\nType                 0\nMethod               0\nSellerG              0\nRegionname           3\nPropertycount        3\nDistance             1\nCouncilArea          3\nBedroom2          8217\nBathroom          8226\nCar               8728\nLandsize         11810\nBuildingArea     21115\nPrice             7610\ndtype: int64"
     },
     "execution_count": 10,
     "metadata": {},
     "output_type": "execute_result"
    }
   ],
   "source": [
    "dataset.isna().sum()"
   ],
   "metadata": {
    "collapsed": false,
    "ExecuteTime": {
     "end_time": "2023-11-02T11:59:54.078218700Z",
     "start_time": "2023-11-02T11:59:54.028866700Z"
    }
   },
   "id": "f6781d2252549df5"
  },
  {
   "cell_type": "code",
   "execution_count": 13,
   "outputs": [
    {
     "data": {
      "text/plain": "Suburb               0\nRooms                0\nType                 0\nMethod               0\nSellerG              0\nRegionname           3\nPropertycount        0\nDistance             0\nCouncilArea          3\nBedroom2             0\nBathroom             0\nCar                  0\nLandsize         11810\nBuildingArea     21115\nPrice             7610\ndtype: int64"
     },
     "execution_count": 13,
     "metadata": {},
     "output_type": "execute_result"
    }
   ],
   "source": [
    "cols_to_fill_zero = ['Propertycount', 'Distance', 'Bedroom2', 'Bathroom', 'Car']\n",
    "dataset[cols_to_fill_zero] = dataset[cols_to_fill_zero].fillna(0)\n",
    "dataset.isna().sum()"
   ],
   "metadata": {
    "collapsed": false,
    "ExecuteTime": {
     "end_time": "2023-11-02T12:02:58.650965300Z",
     "start_time": "2023-11-02T12:02:58.589180600Z"
    }
   },
   "id": "e5a2c70d0756ea05"
  },
  {
   "cell_type": "code",
   "execution_count": 14,
   "outputs": [],
   "source": [
    "dataset['Landsize'] = dataset['Landsize'].fillna(dataset.Landsize.mean())"
   ],
   "metadata": {
    "collapsed": false,
    "ExecuteTime": {
     "end_time": "2023-11-02T12:04:24.629826200Z",
     "start_time": "2023-11-02T12:04:24.618341900Z"
    }
   },
   "id": "a1536e753084aac6"
  },
  {
   "cell_type": "code",
   "execution_count": 15,
   "outputs": [],
   "source": [
    "dataset['BuildingArea'] = dataset['BuildingArea'].fillna(dataset.BuildingArea.mean())"
   ],
   "metadata": {
    "collapsed": false,
    "ExecuteTime": {
     "end_time": "2023-11-02T12:04:53.779284400Z",
     "start_time": "2023-11-02T12:04:53.763484300Z"
    }
   },
   "id": "615fef8b40cb62db"
  },
  {
   "cell_type": "code",
   "execution_count": 16,
   "outputs": [
    {
     "data": {
      "text/plain": "Suburb              0\nRooms               0\nType                0\nMethod              0\nSellerG             0\nRegionname          3\nPropertycount       0\nDistance            0\nCouncilArea         3\nBedroom2            0\nBathroom            0\nCar                 0\nLandsize            0\nBuildingArea        0\nPrice            7610\ndtype: int64"
     },
     "execution_count": 16,
     "metadata": {},
     "output_type": "execute_result"
    }
   ],
   "source": [
    "dataset.isna().sum()"
   ],
   "metadata": {
    "collapsed": false,
    "ExecuteTime": {
     "end_time": "2023-11-02T12:05:10.986626800Z",
     "start_time": "2023-11-02T12:05:10.941449500Z"
    }
   },
   "id": "b99bd0130e508d0e"
  },
  {
   "cell_type": "code",
   "execution_count": 17,
   "outputs": [],
   "source": [
    "dataset.dropna(inplace=True)"
   ],
   "metadata": {
    "collapsed": false,
    "ExecuteTime": {
     "end_time": "2023-11-02T12:05:52.491826800Z",
     "start_time": "2023-11-02T12:05:52.428654700Z"
    }
   },
   "id": "4c42d69ef3e6c4e4"
  },
  {
   "cell_type": "code",
   "execution_count": 18,
   "outputs": [
    {
     "data": {
      "text/plain": "Suburb           0\nRooms            0\nType             0\nMethod           0\nSellerG          0\nRegionname       0\nPropertycount    0\nDistance         0\nCouncilArea      0\nBedroom2         0\nBathroom         0\nCar              0\nLandsize         0\nBuildingArea     0\nPrice            0\ndtype: int64"
     },
     "execution_count": 18,
     "metadata": {},
     "output_type": "execute_result"
    }
   ],
   "source": [
    "dataset.isna().sum()"
   ],
   "metadata": {
    "collapsed": false,
    "ExecuteTime": {
     "end_time": "2023-11-02T12:05:58.050225600Z",
     "start_time": "2023-11-02T12:05:58.002696700Z"
    }
   },
   "id": "8276e5e45737e0c"
  },
  {
   "cell_type": "code",
   "execution_count": 20,
   "outputs": [
    {
     "data": {
      "text/plain": "   Rooms  Propertycount  Distance  Bedroom2  Bathroom  Car  Landsize  \\\n1      2         4019.0       2.5       2.0       1.0  1.0     202.0   \n2      2         4019.0       2.5       2.0       1.0  0.0     156.0   \n4      3         4019.0       2.5       3.0       2.0  0.0     134.0   \n5      3         4019.0       2.5       3.0       2.0  1.0      94.0   \n6      4         4019.0       2.5       3.0       1.0  2.0     120.0   \n\n   BuildingArea      Price  Suburb_Aberfeldie  ...  \\\n1      160.2564  1480000.0                  0  ...   \n2       79.0000  1035000.0                  0  ...   \n4      150.0000  1465000.0                  0  ...   \n5      160.2564   850000.0                  0  ...   \n6      142.0000  1600000.0                  0  ...   \n\n   CouncilArea_Moorabool Shire Council  CouncilArea_Moreland City Council  \\\n1                                    0                                  0   \n2                                    0                                  0   \n4                                    0                                  0   \n5                                    0                                  0   \n6                                    0                                  0   \n\n   CouncilArea_Nillumbik Shire Council  CouncilArea_Port Phillip City Council  \\\n1                                    0                                      0   \n2                                    0                                      0   \n4                                    0                                      0   \n5                                    0                                      0   \n6                                    0                                      0   \n\n   CouncilArea_Stonnington City Council  CouncilArea_Whitehorse City Council  \\\n1                                     0                                    0   \n2                                     0                                    0   \n4                                     0                                    0   \n5                                     0                                    0   \n6                                     0                                    0   \n\n   CouncilArea_Whittlesea City Council  CouncilArea_Wyndham City Council  \\\n1                                    0                                 0   \n2                                    0                                 0   \n4                                    0                                 0   \n5                                    0                                 0   \n6                                    0                                 0   \n\n   CouncilArea_Yarra City Council  CouncilArea_Yarra Ranges Shire Council  \n1                               1                                       0  \n2                               1                                       0  \n4                               1                                       0  \n5                               1                                       0  \n6                               1                                       0  \n\n[5 rows x 745 columns]",
      "text/html": "<div>\n<style scoped>\n    .dataframe tbody tr th:only-of-type {\n        vertical-align: middle;\n    }\n\n    .dataframe tbody tr th {\n        vertical-align: top;\n    }\n\n    .dataframe thead th {\n        text-align: right;\n    }\n</style>\n<table border=\"1\" class=\"dataframe\">\n  <thead>\n    <tr style=\"text-align: right;\">\n      <th></th>\n      <th>Rooms</th>\n      <th>Propertycount</th>\n      <th>Distance</th>\n      <th>Bedroom2</th>\n      <th>Bathroom</th>\n      <th>Car</th>\n      <th>Landsize</th>\n      <th>BuildingArea</th>\n      <th>Price</th>\n      <th>Suburb_Aberfeldie</th>\n      <th>...</th>\n      <th>CouncilArea_Moorabool Shire Council</th>\n      <th>CouncilArea_Moreland City Council</th>\n      <th>CouncilArea_Nillumbik Shire Council</th>\n      <th>CouncilArea_Port Phillip City Council</th>\n      <th>CouncilArea_Stonnington City Council</th>\n      <th>CouncilArea_Whitehorse City Council</th>\n      <th>CouncilArea_Whittlesea City Council</th>\n      <th>CouncilArea_Wyndham City Council</th>\n      <th>CouncilArea_Yarra City Council</th>\n      <th>CouncilArea_Yarra Ranges Shire Council</th>\n    </tr>\n  </thead>\n  <tbody>\n    <tr>\n      <th>1</th>\n      <td>2</td>\n      <td>4019.0</td>\n      <td>2.5</td>\n      <td>2.0</td>\n      <td>1.0</td>\n      <td>1.0</td>\n      <td>202.0</td>\n      <td>160.2564</td>\n      <td>1480000.0</td>\n      <td>0</td>\n      <td>...</td>\n      <td>0</td>\n      <td>0</td>\n      <td>0</td>\n      <td>0</td>\n      <td>0</td>\n      <td>0</td>\n      <td>0</td>\n      <td>0</td>\n      <td>1</td>\n      <td>0</td>\n    </tr>\n    <tr>\n      <th>2</th>\n      <td>2</td>\n      <td>4019.0</td>\n      <td>2.5</td>\n      <td>2.0</td>\n      <td>1.0</td>\n      <td>0.0</td>\n      <td>156.0</td>\n      <td>79.0000</td>\n      <td>1035000.0</td>\n      <td>0</td>\n      <td>...</td>\n      <td>0</td>\n      <td>0</td>\n      <td>0</td>\n      <td>0</td>\n      <td>0</td>\n      <td>0</td>\n      <td>0</td>\n      <td>0</td>\n      <td>1</td>\n      <td>0</td>\n    </tr>\n    <tr>\n      <th>4</th>\n      <td>3</td>\n      <td>4019.0</td>\n      <td>2.5</td>\n      <td>3.0</td>\n      <td>2.0</td>\n      <td>0.0</td>\n      <td>134.0</td>\n      <td>150.0000</td>\n      <td>1465000.0</td>\n      <td>0</td>\n      <td>...</td>\n      <td>0</td>\n      <td>0</td>\n      <td>0</td>\n      <td>0</td>\n      <td>0</td>\n      <td>0</td>\n      <td>0</td>\n      <td>0</td>\n      <td>1</td>\n      <td>0</td>\n    </tr>\n    <tr>\n      <th>5</th>\n      <td>3</td>\n      <td>4019.0</td>\n      <td>2.5</td>\n      <td>3.0</td>\n      <td>2.0</td>\n      <td>1.0</td>\n      <td>94.0</td>\n      <td>160.2564</td>\n      <td>850000.0</td>\n      <td>0</td>\n      <td>...</td>\n      <td>0</td>\n      <td>0</td>\n      <td>0</td>\n      <td>0</td>\n      <td>0</td>\n      <td>0</td>\n      <td>0</td>\n      <td>0</td>\n      <td>1</td>\n      <td>0</td>\n    </tr>\n    <tr>\n      <th>6</th>\n      <td>4</td>\n      <td>4019.0</td>\n      <td>2.5</td>\n      <td>3.0</td>\n      <td>1.0</td>\n      <td>2.0</td>\n      <td>120.0</td>\n      <td>142.0000</td>\n      <td>1600000.0</td>\n      <td>0</td>\n      <td>...</td>\n      <td>0</td>\n      <td>0</td>\n      <td>0</td>\n      <td>0</td>\n      <td>0</td>\n      <td>0</td>\n      <td>0</td>\n      <td>0</td>\n      <td>1</td>\n      <td>0</td>\n    </tr>\n  </tbody>\n</table>\n<p>5 rows × 745 columns</p>\n</div>"
     },
     "execution_count": 20,
     "metadata": {},
     "output_type": "execute_result"
    }
   ],
   "source": [
    "dataset = pd.get_dummies(dataset, drop_first=True)\n",
    "dataset.head()"
   ],
   "metadata": {
    "collapsed": false,
    "ExecuteTime": {
     "end_time": "2023-11-02T12:07:03.855554500Z",
     "start_time": "2023-11-02T12:07:03.779417800Z"
    }
   },
   "id": "f8825de50e001f6"
  },
  {
   "cell_type": "code",
   "execution_count": 21,
   "outputs": [
    {
     "data": {
      "text/plain": "(27244, 745)"
     },
     "execution_count": 21,
     "metadata": {},
     "output_type": "execute_result"
    }
   ],
   "source": [
    "dataset.shape"
   ],
   "metadata": {
    "collapsed": false,
    "ExecuteTime": {
     "end_time": "2023-11-02T12:08:14.992322Z",
     "start_time": "2023-11-02T12:08:14.960561700Z"
    }
   },
   "id": "3846b2bdcf14203c"
  },
  {
   "cell_type": "code",
   "execution_count": 22,
   "outputs": [],
   "source": [
    "X = dataset.drop('Price', axis='columns')\n",
    "y = dataset['Price']"
   ],
   "metadata": {
    "collapsed": false,
    "ExecuteTime": {
     "end_time": "2023-11-02T12:09:11.985210Z",
     "start_time": "2023-11-02T12:09:11.937021300Z"
    }
   },
   "id": "70601dfe4884f4a0"
  },
  {
   "cell_type": "code",
   "execution_count": 23,
   "outputs": [],
   "source": [
    "from sklearn.model_selection import train_test_split\n",
    "x_train, x_test, y_train, y_test = train_test_split(X, y, test_size=0.3, random_state=2)"
   ],
   "metadata": {
    "collapsed": false,
    "ExecuteTime": {
     "end_time": "2023-11-02T12:10:00.008843Z",
     "start_time": "2023-11-02T12:09:59.319080200Z"
    }
   },
   "id": "dbe9b37509d7346b"
  },
  {
   "cell_type": "code",
   "execution_count": 24,
   "outputs": [
    {
     "data": {
      "text/plain": "19070"
     },
     "execution_count": 24,
     "metadata": {},
     "output_type": "execute_result"
    }
   ],
   "source": [
    "len(x_train)"
   ],
   "metadata": {
    "collapsed": false,
    "ExecuteTime": {
     "end_time": "2023-11-02T12:10:06.503821800Z",
     "start_time": "2023-11-02T12:10:06.501832700Z"
    }
   },
   "id": "68679b03ff4874d"
  },
  {
   "cell_type": "code",
   "execution_count": 25,
   "outputs": [
    {
     "data": {
      "text/plain": "8174"
     },
     "execution_count": 25,
     "metadata": {},
     "output_type": "execute_result"
    }
   ],
   "source": [
    "len(x_test)"
   ],
   "metadata": {
    "collapsed": false,
    "ExecuteTime": {
     "end_time": "2023-11-02T12:10:14.339173Z",
     "start_time": "2023-11-02T12:10:14.323255300Z"
    }
   },
   "id": "ff69faa0351745d3"
  },
  {
   "cell_type": "code",
   "execution_count": 26,
   "outputs": [],
   "source": [
    "from sklearn.linear_model import LinearRegression\n",
    "reg = LinearRegression().fit(x_train, y_train)"
   ],
   "metadata": {
    "collapsed": false,
    "ExecuteTime": {
     "end_time": "2023-11-02T12:11:07.882993400Z",
     "start_time": "2023-11-02T12:11:06.527158600Z"
    }
   },
   "id": "afb44305f02763f6"
  },
  {
   "cell_type": "code",
   "execution_count": 27,
   "outputs": [
    {
     "data": {
      "text/plain": "0.1385368316163511"
     },
     "execution_count": 27,
     "metadata": {},
     "output_type": "execute_result"
    }
   ],
   "source": [
    "reg.score(x_test, y_test)"
   ],
   "metadata": {
    "collapsed": false,
    "ExecuteTime": {
     "end_time": "2023-11-02T12:11:18.572881800Z",
     "start_time": "2023-11-02T12:11:18.524034Z"
    }
   },
   "id": "20e023b2c98a030d"
  },
  {
   "cell_type": "code",
   "execution_count": 28,
   "outputs": [
    {
     "data": {
      "text/plain": "0.6827792395792723"
     },
     "execution_count": 28,
     "metadata": {},
     "output_type": "execute_result"
    }
   ],
   "source": [
    "reg.score(x_train, y_train)"
   ],
   "metadata": {
    "collapsed": false,
    "ExecuteTime": {
     "end_time": "2023-11-02T12:11:54.080737700Z",
     "start_time": "2023-11-02T12:11:53.962318500Z"
    }
   },
   "id": "d370e904e694b395"
  },
  {
   "cell_type": "code",
   "execution_count": 30,
   "outputs": [
    {
     "data": {
      "text/plain": "Lasso(alpha=50, max_iter=100, tol=0.1)",
      "text/html": "<style>#sk-container-id-1 {color: black;}#sk-container-id-1 pre{padding: 0;}#sk-container-id-1 div.sk-toggleable {background-color: white;}#sk-container-id-1 label.sk-toggleable__label {cursor: pointer;display: block;width: 100%;margin-bottom: 0;padding: 0.3em;box-sizing: border-box;text-align: center;}#sk-container-id-1 label.sk-toggleable__label-arrow:before {content: \"▸\";float: left;margin-right: 0.25em;color: #696969;}#sk-container-id-1 label.sk-toggleable__label-arrow:hover:before {color: black;}#sk-container-id-1 div.sk-estimator:hover label.sk-toggleable__label-arrow:before {color: black;}#sk-container-id-1 div.sk-toggleable__content {max-height: 0;max-width: 0;overflow: hidden;text-align: left;background-color: #f0f8ff;}#sk-container-id-1 div.sk-toggleable__content pre {margin: 0.2em;color: black;border-radius: 0.25em;background-color: #f0f8ff;}#sk-container-id-1 input.sk-toggleable__control:checked~div.sk-toggleable__content {max-height: 200px;max-width: 100%;overflow: auto;}#sk-container-id-1 input.sk-toggleable__control:checked~label.sk-toggleable__label-arrow:before {content: \"▾\";}#sk-container-id-1 div.sk-estimator input.sk-toggleable__control:checked~label.sk-toggleable__label {background-color: #d4ebff;}#sk-container-id-1 div.sk-label input.sk-toggleable__control:checked~label.sk-toggleable__label {background-color: #d4ebff;}#sk-container-id-1 input.sk-hidden--visually {border: 0;clip: rect(1px 1px 1px 1px);clip: rect(1px, 1px, 1px, 1px);height: 1px;margin: -1px;overflow: hidden;padding: 0;position: absolute;width: 1px;}#sk-container-id-1 div.sk-estimator {font-family: monospace;background-color: #f0f8ff;border: 1px dotted black;border-radius: 0.25em;box-sizing: border-box;margin-bottom: 0.5em;}#sk-container-id-1 div.sk-estimator:hover {background-color: #d4ebff;}#sk-container-id-1 div.sk-parallel-item::after {content: \"\";width: 100%;border-bottom: 1px solid gray;flex-grow: 1;}#sk-container-id-1 div.sk-label:hover label.sk-toggleable__label {background-color: #d4ebff;}#sk-container-id-1 div.sk-serial::before {content: \"\";position: absolute;border-left: 1px solid gray;box-sizing: border-box;top: 0;bottom: 0;left: 50%;z-index: 0;}#sk-container-id-1 div.sk-serial {display: flex;flex-direction: column;align-items: center;background-color: white;padding-right: 0.2em;padding-left: 0.2em;position: relative;}#sk-container-id-1 div.sk-item {position: relative;z-index: 1;}#sk-container-id-1 div.sk-parallel {display: flex;align-items: stretch;justify-content: center;background-color: white;position: relative;}#sk-container-id-1 div.sk-item::before, #sk-container-id-1 div.sk-parallel-item::before {content: \"\";position: absolute;border-left: 1px solid gray;box-sizing: border-box;top: 0;bottom: 0;left: 50%;z-index: -1;}#sk-container-id-1 div.sk-parallel-item {display: flex;flex-direction: column;z-index: 1;position: relative;background-color: white;}#sk-container-id-1 div.sk-parallel-item:first-child::after {align-self: flex-end;width: 50%;}#sk-container-id-1 div.sk-parallel-item:last-child::after {align-self: flex-start;width: 50%;}#sk-container-id-1 div.sk-parallel-item:only-child::after {width: 0;}#sk-container-id-1 div.sk-dashed-wrapped {border: 1px dashed gray;margin: 0 0.4em 0.5em 0.4em;box-sizing: border-box;padding-bottom: 0.4em;background-color: white;}#sk-container-id-1 div.sk-label label {font-family: monospace;font-weight: bold;display: inline-block;line-height: 1.2em;}#sk-container-id-1 div.sk-label-container {text-align: center;}#sk-container-id-1 div.sk-container {/* jupyter's `normalize.less` sets `[hidden] { display: none; }` but bootstrap.min.css set `[hidden] { display: none !important; }` so we also need the `!important` here to be able to override the default hidden behavior on the sphinx rendered scikit-learn.org. See: https://github.com/scikit-learn/scikit-learn/issues/21755 */display: inline-block !important;position: relative;}#sk-container-id-1 div.sk-text-repr-fallback {display: none;}</style><div id=\"sk-container-id-1\" class=\"sk-top-container\"><div class=\"sk-text-repr-fallback\"><pre>Lasso(alpha=50, max_iter=100, tol=0.1)</pre><b>In a Jupyter environment, please rerun this cell to show the HTML representation or trust the notebook. <br />On GitHub, the HTML representation is unable to render, please try loading this page with nbviewer.org.</b></div><div class=\"sk-container\" hidden><div class=\"sk-item\"><div class=\"sk-estimator sk-toggleable\"><input class=\"sk-toggleable__control sk-hidden--visually\" id=\"sk-estimator-id-1\" type=\"checkbox\" checked><label for=\"sk-estimator-id-1\" class=\"sk-toggleable__label sk-toggleable__label-arrow\">Lasso</label><div class=\"sk-toggleable__content\"><pre>Lasso(alpha=50, max_iter=100, tol=0.1)</pre></div></div></div></div></div>"
     },
     "execution_count": 30,
     "metadata": {},
     "output_type": "execute_result"
    }
   ],
   "source": [
    "from sklearn import linear_model\n",
    "\n",
    "lasso = linear_model.Lasso(alpha=50, max_iter=100, tol=0.1)\n",
    "\n",
    "lasso.fit(x_train, y_train)"
   ],
   "metadata": {
    "collapsed": false,
    "ExecuteTime": {
     "end_time": "2023-11-02T12:14:10.497464200Z",
     "start_time": "2023-11-02T12:14:08.899660100Z"
    }
   },
   "id": "3a7be053b70f5c4c"
  },
  {
   "cell_type": "code",
   "execution_count": 31,
   "outputs": [
    {
     "data": {
      "text/plain": "0.6636111369404488"
     },
     "execution_count": 31,
     "metadata": {},
     "output_type": "execute_result"
    }
   ],
   "source": [
    "lasso.score(x_test, y_test)"
   ],
   "metadata": {
    "collapsed": false,
    "ExecuteTime": {
     "end_time": "2023-11-02T12:14:38.339248700Z",
     "start_time": "2023-11-02T12:14:38.290433800Z"
    }
   },
   "id": "74217477e0085830"
  },
  {
   "cell_type": "code",
   "execution_count": null,
   "outputs": [],
   "source": [],
   "metadata": {
    "collapsed": false
   },
   "id": "6fd5e67dda3069b4"
  }
 ],
 "metadata": {
  "kernelspec": {
   "display_name": "Python 3",
   "language": "python",
   "name": "python3"
  },
  "language_info": {
   "codemirror_mode": {
    "name": "ipython",
    "version": 2
   },
   "file_extension": ".py",
   "mimetype": "text/x-python",
   "name": "python",
   "nbconvert_exporter": "python",
   "pygments_lexer": "ipython2",
   "version": "2.7.6"
  }
 },
 "nbformat": 4,
 "nbformat_minor": 5
}
