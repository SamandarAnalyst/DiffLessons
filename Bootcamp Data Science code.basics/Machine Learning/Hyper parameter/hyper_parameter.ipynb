{
 "cells": [
  {
   "cell_type": "code",
   "execution_count": 1,
   "id": "initial_id",
   "metadata": {
    "collapsed": true,
    "ExecuteTime": {
     "end_time": "2023-10-31T13:02:47.214793100Z",
     "start_time": "2023-10-31T13:02:45.328632900Z"
    }
   },
   "outputs": [],
   "source": [
    "import numpy as np\n",
    "from sklearn import svm, datasets\n",
    "iris = datasets.load_iris()"
   ]
  },
  {
   "cell_type": "code",
   "execution_count": 2,
   "outputs": [
    {
     "data": {
      "text/plain": "    sepal length (cm)  sepal width (cm)  petal length (cm)  petal width (cm)  \\\n47                4.6               3.2                1.4               0.2   \n48                5.3               3.7                1.5               0.2   \n49                5.0               3.3                1.4               0.2   \n50                7.0               3.2                4.7               1.4   \n51                6.4               3.2                4.5               1.5   \n\n        flower  \n47      setosa  \n48      setosa  \n49      setosa  \n50  versicolor  \n51  versicolor  ",
      "text/html": "<div>\n<style scoped>\n    .dataframe tbody tr th:only-of-type {\n        vertical-align: middle;\n    }\n\n    .dataframe tbody tr th {\n        vertical-align: top;\n    }\n\n    .dataframe thead th {\n        text-align: right;\n    }\n</style>\n<table border=\"1\" class=\"dataframe\">\n  <thead>\n    <tr style=\"text-align: right;\">\n      <th></th>\n      <th>sepal length (cm)</th>\n      <th>sepal width (cm)</th>\n      <th>petal length (cm)</th>\n      <th>petal width (cm)</th>\n      <th>flower</th>\n    </tr>\n  </thead>\n  <tbody>\n    <tr>\n      <th>47</th>\n      <td>4.6</td>\n      <td>3.2</td>\n      <td>1.4</td>\n      <td>0.2</td>\n      <td>setosa</td>\n    </tr>\n    <tr>\n      <th>48</th>\n      <td>5.3</td>\n      <td>3.7</td>\n      <td>1.5</td>\n      <td>0.2</td>\n      <td>setosa</td>\n    </tr>\n    <tr>\n      <th>49</th>\n      <td>5.0</td>\n      <td>3.3</td>\n      <td>1.4</td>\n      <td>0.2</td>\n      <td>setosa</td>\n    </tr>\n    <tr>\n      <th>50</th>\n      <td>7.0</td>\n      <td>3.2</td>\n      <td>4.7</td>\n      <td>1.4</td>\n      <td>versicolor</td>\n    </tr>\n    <tr>\n      <th>51</th>\n      <td>6.4</td>\n      <td>3.2</td>\n      <td>4.5</td>\n      <td>1.5</td>\n      <td>versicolor</td>\n    </tr>\n  </tbody>\n</table>\n</div>"
     },
     "execution_count": 2,
     "metadata": {},
     "output_type": "execute_result"
    }
   ],
   "source": [
    "import pandas as pd\n",
    "df = pd.DataFrame(iris.data, columns=iris.feature_names)\n",
    "df['flower'] = iris.target\n",
    "df['flower'] = df['flower'].apply(lambda x: iris.target_names[x])\n",
    "df[47:52]"
   ],
   "metadata": {
    "collapsed": false,
    "ExecuteTime": {
     "end_time": "2023-10-31T13:04:12.201667600Z",
     "start_time": "2023-10-31T13:04:11.325403800Z"
    }
   },
   "id": "6007433c35b4431e"
  },
  {
   "cell_type": "code",
   "execution_count": 9,
   "outputs": [],
   "source": [
    "from sklearn.model_selection import train_test_split\n",
    "x_train, x_test, y_train, y_test = train_test_split(iris.data, iris.target, test_size=0.3)"
   ],
   "metadata": {
    "collapsed": false,
    "ExecuteTime": {
     "end_time": "2023-10-31T13:07:30.319403800Z",
     "start_time": "2023-10-31T13:07:30.319403800Z"
    }
   },
   "id": "7758b083480a6283"
  },
  {
   "cell_type": "code",
   "execution_count": 10,
   "outputs": [
    {
     "data": {
      "text/plain": "0.9555555555555556"
     },
     "execution_count": 10,
     "metadata": {},
     "output_type": "execute_result"
    }
   ],
   "source": [
    "model = svm.SVC(kernel='rbf', C=30, gamma='auto')\n",
    "model.fit(x_train, y_train)\n",
    "model.score(x_test, y_test)"
   ],
   "metadata": {
    "collapsed": false,
    "ExecuteTime": {
     "end_time": "2023-10-31T13:07:30.670892800Z",
     "start_time": "2023-10-31T13:07:30.654761100Z"
    }
   },
   "id": "1dc036d617d77401"
  },
  {
   "cell_type": "code",
   "execution_count": 11,
   "outputs": [],
   "source": [
    "from sklearn.model_selection import cross_val_score"
   ],
   "metadata": {
    "collapsed": false,
    "ExecuteTime": {
     "end_time": "2023-10-31T13:09:32.580621100Z",
     "start_time": "2023-10-31T13:09:32.538918100Z"
    }
   },
   "id": "4293f5a40d41efbf"
  },
  {
   "cell_type": "code",
   "execution_count": 12,
   "outputs": [
    {
     "data": {
      "text/plain": "array([1.        , 1.        , 0.9       , 0.96666667, 1.        ])"
     },
     "execution_count": 12,
     "metadata": {},
     "output_type": "execute_result"
    }
   ],
   "source": [
    "cross_val_score(svm.SVC(kernel='linear', C=10, gamma='auto'), iris.data, iris.target, cv=5)"
   ],
   "metadata": {
    "collapsed": false,
    "ExecuteTime": {
     "end_time": "2023-10-31T13:10:20.296784Z",
     "start_time": "2023-10-31T13:10:20.246464900Z"
    }
   },
   "id": "785fe0de8e07edb3"
  },
  {
   "cell_type": "code",
   "execution_count": 13,
   "outputs": [
    {
     "data": {
      "text/plain": "array([0.96666667, 1.        , 0.96666667, 0.96666667, 1.        ])"
     },
     "execution_count": 13,
     "metadata": {},
     "output_type": "execute_result"
    }
   ],
   "source": [
    "cross_val_score(svm.SVC(kernel='rbf', C=10, gamma='auto'), iris.data, iris.target, cv=5)"
   ],
   "metadata": {
    "collapsed": false,
    "ExecuteTime": {
     "end_time": "2023-10-31T13:10:43.334126900Z",
     "start_time": "2023-10-31T13:10:43.292420300Z"
    }
   },
   "id": "7fbd88436cc62eb0"
  },
  {
   "cell_type": "code",
   "execution_count": 14,
   "outputs": [
    {
     "data": {
      "text/plain": "array([0.96666667, 1.        , 0.9       , 0.96666667, 1.        ])"
     },
     "execution_count": 14,
     "metadata": {},
     "output_type": "execute_result"
    }
   ],
   "source": [
    "cross_val_score(svm.SVC(kernel='rbf', C=20, gamma='auto'), iris.data, iris.target, cv=5)"
   ],
   "metadata": {
    "collapsed": false,
    "ExecuteTime": {
     "end_time": "2023-10-31T13:10:59.343190100Z",
     "start_time": "2023-10-31T13:10:59.311132300Z"
    }
   },
   "id": "3cfde86e5e007b59"
  },
  {
   "cell_type": "code",
   "execution_count": 16,
   "outputs": [
    {
     "data": {
      "text/plain": "{'rbf_1': 0.9800000000000001,\n 'rbf_10': 0.9800000000000001,\n 'rbf_20': 0.9666666666666668,\n 'linear_1': 0.9800000000000001,\n 'linear_10': 0.9733333333333334,\n 'linear_20': 0.9666666666666666}"
     },
     "execution_count": 16,
     "metadata": {},
     "output_type": "execute_result"
    }
   ],
   "source": [
    "import numpy as np\n",
    "kernels = ['rbf', 'linear']\n",
    "C = [1, 10, 20]\n",
    "avg_scores = {}\n",
    "for kval in kernels:\n",
    "    for cval in C:\n",
    "        cv_scores = cross_val_score(svm.SVC(kernel=kval, C=cval, gamma='auto'), iris.data, iris.target, cv=5)\n",
    "        avg_scores[kval + '_' + str(cval)] = np.average(cv_scores)\n",
    "avg_scores"
   ],
   "metadata": {
    "collapsed": false,
    "ExecuteTime": {
     "end_time": "2023-10-31T13:15:26.097700200Z",
     "start_time": "2023-10-31T13:15:26.007938100Z"
    }
   },
   "id": "8900c948d58bf47a"
  },
  {
   "cell_type": "code",
   "execution_count": 17,
   "outputs": [
    {
     "data": {
      "text/plain": "{'mean_fit_time': array([0.00078669, 0.        , 0.        , 0.        , 0.00290179,\n        0.        ]),\n 'std_fit_time': array([0.00103022, 0.        , 0.        , 0.        , 0.00580359,\n        0.        ]),\n 'mean_score_time': array([0.00104847, 0.00300221, 0.00355196, 0.        , 0.        ,\n        0.        ]),\n 'std_score_time': array([0.00126475, 0.00600443, 0.00710392, 0.        , 0.        ,\n        0.        ]),\n 'param_C': masked_array(data=[1, 1, 10, 10, 20, 20],\n              mask=[False, False, False, False, False, False],\n        fill_value='?',\n             dtype=object),\n 'param_kernel': masked_array(data=['rbf', 'linear', 'rbf', 'linear', 'rbf', 'linear'],\n              mask=[False, False, False, False, False, False],\n        fill_value='?',\n             dtype=object),\n 'params': [{'C': 1, 'kernel': 'rbf'},\n  {'C': 1, 'kernel': 'linear'},\n  {'C': 10, 'kernel': 'rbf'},\n  {'C': 10, 'kernel': 'linear'},\n  {'C': 20, 'kernel': 'rbf'},\n  {'C': 20, 'kernel': 'linear'}],\n 'split0_test_score': array([0.96666667, 0.96666667, 0.96666667, 1.        , 0.96666667,\n        1.        ]),\n 'split1_test_score': array([1., 1., 1., 1., 1., 1.]),\n 'split2_test_score': array([0.96666667, 0.96666667, 0.96666667, 0.9       , 0.9       ,\n        0.9       ]),\n 'split3_test_score': array([0.96666667, 0.96666667, 0.96666667, 0.96666667, 0.96666667,\n        0.93333333]),\n 'split4_test_score': array([1., 1., 1., 1., 1., 1.]),\n 'mean_test_score': array([0.98      , 0.98      , 0.98      , 0.97333333, 0.96666667,\n        0.96666667]),\n 'std_test_score': array([0.01632993, 0.01632993, 0.01632993, 0.03887301, 0.03651484,\n        0.0421637 ]),\n 'rank_test_score': array([1, 1, 1, 4, 5, 6])}"
     },
     "execution_count": 17,
     "metadata": {},
     "output_type": "execute_result"
    }
   ],
   "source": [
    "from sklearn.model_selection import GridSearchCV\n",
    "\n",
    "clf = GridSearchCV(svm.SVC(gamma='auto'), {\n",
    "    'C' : [1, 10, 20],\n",
    "    'kernel' : ['rbf', 'linear']\n",
    "}, cv=5, return_train_score=False)\n",
    "clf.fit(iris.data, iris.target)\n",
    "clf.cv_results_"
   ],
   "metadata": {
    "collapsed": false,
    "ExecuteTime": {
     "end_time": "2023-10-31T13:19:07.234537100Z",
     "start_time": "2023-10-31T13:19:07.153600400Z"
    }
   },
   "id": "3c694e6f547a557e"
  },
  {
   "cell_type": "code",
   "execution_count": 18,
   "outputs": [
    {
     "data": {
      "text/plain": "   mean_fit_time  std_fit_time  mean_score_time  std_score_time param_C  \\\n0       0.000787      0.001030         0.001048        0.001265       1   \n1       0.000000      0.000000         0.003002        0.006004       1   \n2       0.000000      0.000000         0.003552        0.007104      10   \n3       0.000000      0.000000         0.000000        0.000000      10   \n4       0.002902      0.005804         0.000000        0.000000      20   \n\n  param_kernel                         params  split0_test_score  \\\n0          rbf      {'C': 1, 'kernel': 'rbf'}           0.966667   \n1       linear   {'C': 1, 'kernel': 'linear'}           0.966667   \n2          rbf     {'C': 10, 'kernel': 'rbf'}           0.966667   \n3       linear  {'C': 10, 'kernel': 'linear'}           1.000000   \n4          rbf     {'C': 20, 'kernel': 'rbf'}           0.966667   \n\n   split1_test_score  split2_test_score  split3_test_score  split4_test_score  \\\n0                1.0           0.966667           0.966667                1.0   \n1                1.0           0.966667           0.966667                1.0   \n2                1.0           0.966667           0.966667                1.0   \n3                1.0           0.900000           0.966667                1.0   \n4                1.0           0.900000           0.966667                1.0   \n\n   mean_test_score  std_test_score  rank_test_score  \n0         0.980000        0.016330                1  \n1         0.980000        0.016330                1  \n2         0.980000        0.016330                1  \n3         0.973333        0.038873                4  \n4         0.966667        0.036515                5  ",
      "text/html": "<div>\n<style scoped>\n    .dataframe tbody tr th:only-of-type {\n        vertical-align: middle;\n    }\n\n    .dataframe tbody tr th {\n        vertical-align: top;\n    }\n\n    .dataframe thead th {\n        text-align: right;\n    }\n</style>\n<table border=\"1\" class=\"dataframe\">\n  <thead>\n    <tr style=\"text-align: right;\">\n      <th></th>\n      <th>mean_fit_time</th>\n      <th>std_fit_time</th>\n      <th>mean_score_time</th>\n      <th>std_score_time</th>\n      <th>param_C</th>\n      <th>param_kernel</th>\n      <th>params</th>\n      <th>split0_test_score</th>\n      <th>split1_test_score</th>\n      <th>split2_test_score</th>\n      <th>split3_test_score</th>\n      <th>split4_test_score</th>\n      <th>mean_test_score</th>\n      <th>std_test_score</th>\n      <th>rank_test_score</th>\n    </tr>\n  </thead>\n  <tbody>\n    <tr>\n      <th>0</th>\n      <td>0.000787</td>\n      <td>0.001030</td>\n      <td>0.001048</td>\n      <td>0.001265</td>\n      <td>1</td>\n      <td>rbf</td>\n      <td>{'C': 1, 'kernel': 'rbf'}</td>\n      <td>0.966667</td>\n      <td>1.0</td>\n      <td>0.966667</td>\n      <td>0.966667</td>\n      <td>1.0</td>\n      <td>0.980000</td>\n      <td>0.016330</td>\n      <td>1</td>\n    </tr>\n    <tr>\n      <th>1</th>\n      <td>0.000000</td>\n      <td>0.000000</td>\n      <td>0.003002</td>\n      <td>0.006004</td>\n      <td>1</td>\n      <td>linear</td>\n      <td>{'C': 1, 'kernel': 'linear'}</td>\n      <td>0.966667</td>\n      <td>1.0</td>\n      <td>0.966667</td>\n      <td>0.966667</td>\n      <td>1.0</td>\n      <td>0.980000</td>\n      <td>0.016330</td>\n      <td>1</td>\n    </tr>\n    <tr>\n      <th>2</th>\n      <td>0.000000</td>\n      <td>0.000000</td>\n      <td>0.003552</td>\n      <td>0.007104</td>\n      <td>10</td>\n      <td>rbf</td>\n      <td>{'C': 10, 'kernel': 'rbf'}</td>\n      <td>0.966667</td>\n      <td>1.0</td>\n      <td>0.966667</td>\n      <td>0.966667</td>\n      <td>1.0</td>\n      <td>0.980000</td>\n      <td>0.016330</td>\n      <td>1</td>\n    </tr>\n    <tr>\n      <th>3</th>\n      <td>0.000000</td>\n      <td>0.000000</td>\n      <td>0.000000</td>\n      <td>0.000000</td>\n      <td>10</td>\n      <td>linear</td>\n      <td>{'C': 10, 'kernel': 'linear'}</td>\n      <td>1.000000</td>\n      <td>1.0</td>\n      <td>0.900000</td>\n      <td>0.966667</td>\n      <td>1.0</td>\n      <td>0.973333</td>\n      <td>0.038873</td>\n      <td>4</td>\n    </tr>\n    <tr>\n      <th>4</th>\n      <td>0.002902</td>\n      <td>0.005804</td>\n      <td>0.000000</td>\n      <td>0.000000</td>\n      <td>20</td>\n      <td>rbf</td>\n      <td>{'C': 20, 'kernel': 'rbf'}</td>\n      <td>0.966667</td>\n      <td>1.0</td>\n      <td>0.900000</td>\n      <td>0.966667</td>\n      <td>1.0</td>\n      <td>0.966667</td>\n      <td>0.036515</td>\n      <td>5</td>\n    </tr>\n  </tbody>\n</table>\n</div>"
     },
     "execution_count": 18,
     "metadata": {},
     "output_type": "execute_result"
    }
   ],
   "source": [
    "df = pd.DataFrame(clf.cv_results_)\n",
    "df.head()"
   ],
   "metadata": {
    "collapsed": false,
    "ExecuteTime": {
     "end_time": "2023-10-31T13:20:23.686147400Z",
     "start_time": "2023-10-31T13:20:23.655124800Z"
    }
   },
   "id": "4135dc03dae6da3c"
  },
  {
   "cell_type": "code",
   "execution_count": 20,
   "outputs": [
    {
     "data": {
      "text/plain": "  param_C param_kernel  mean_test_score\n0       1          rbf         0.980000\n1       1       linear         0.980000\n2      10          rbf         0.980000\n3      10       linear         0.973333\n4      20          rbf         0.966667\n5      20       linear         0.966667",
      "text/html": "<div>\n<style scoped>\n    .dataframe tbody tr th:only-of-type {\n        vertical-align: middle;\n    }\n\n    .dataframe tbody tr th {\n        vertical-align: top;\n    }\n\n    .dataframe thead th {\n        text-align: right;\n    }\n</style>\n<table border=\"1\" class=\"dataframe\">\n  <thead>\n    <tr style=\"text-align: right;\">\n      <th></th>\n      <th>param_C</th>\n      <th>param_kernel</th>\n      <th>mean_test_score</th>\n    </tr>\n  </thead>\n  <tbody>\n    <tr>\n      <th>0</th>\n      <td>1</td>\n      <td>rbf</td>\n      <td>0.980000</td>\n    </tr>\n    <tr>\n      <th>1</th>\n      <td>1</td>\n      <td>linear</td>\n      <td>0.980000</td>\n    </tr>\n    <tr>\n      <th>2</th>\n      <td>10</td>\n      <td>rbf</td>\n      <td>0.980000</td>\n    </tr>\n    <tr>\n      <th>3</th>\n      <td>10</td>\n      <td>linear</td>\n      <td>0.973333</td>\n    </tr>\n    <tr>\n      <th>4</th>\n      <td>20</td>\n      <td>rbf</td>\n      <td>0.966667</td>\n    </tr>\n    <tr>\n      <th>5</th>\n      <td>20</td>\n      <td>linear</td>\n      <td>0.966667</td>\n    </tr>\n  </tbody>\n</table>\n</div>"
     },
     "execution_count": 20,
     "metadata": {},
     "output_type": "execute_result"
    }
   ],
   "source": [
    "df[['param_C', 'param_kernel', 'mean_test_score']]"
   ],
   "metadata": {
    "collapsed": false,
    "ExecuteTime": {
     "end_time": "2023-10-31T13:21:33.348812500Z",
     "start_time": "2023-10-31T13:21:33.332971100Z"
    }
   },
   "id": "46aa5763fb097252"
  },
  {
   "cell_type": "code",
   "execution_count": 21,
   "outputs": [
    {
     "data": {
      "text/plain": "0.9800000000000001"
     },
     "execution_count": 21,
     "metadata": {},
     "output_type": "execute_result"
    }
   ],
   "source": [
    "clf.best_score_"
   ],
   "metadata": {
    "collapsed": false,
    "ExecuteTime": {
     "end_time": "2023-10-31T13:24:17.798671700Z",
     "start_time": "2023-10-31T13:24:17.772454400Z"
    }
   },
   "id": "fe4036ee0b3b4dea"
  },
  {
   "cell_type": "code",
   "execution_count": 22,
   "outputs": [
    {
     "data": {
      "text/plain": "{'C': 1, 'kernel': 'rbf'}"
     },
     "execution_count": 22,
     "metadata": {},
     "output_type": "execute_result"
    }
   ],
   "source": [
    "clf.best_params_"
   ],
   "metadata": {
    "collapsed": false,
    "ExecuteTime": {
     "end_time": "2023-10-31T13:24:25.742755300Z",
     "start_time": "2023-10-31T13:24:25.726929Z"
    }
   },
   "id": "ee2cf9985995ce4e"
  },
  {
   "cell_type": "code",
   "execution_count": 25,
   "outputs": [
    {
     "data": {
      "text/plain": "  param_C param_kernel  mean_test_score\n0       1       linear         0.980000\n1      10       linear         0.973333",
      "text/html": "<div>\n<style scoped>\n    .dataframe tbody tr th:only-of-type {\n        vertical-align: middle;\n    }\n\n    .dataframe tbody tr th {\n        vertical-align: top;\n    }\n\n    .dataframe thead th {\n        text-align: right;\n    }\n</style>\n<table border=\"1\" class=\"dataframe\">\n  <thead>\n    <tr style=\"text-align: right;\">\n      <th></th>\n      <th>param_C</th>\n      <th>param_kernel</th>\n      <th>mean_test_score</th>\n    </tr>\n  </thead>\n  <tbody>\n    <tr>\n      <th>0</th>\n      <td>1</td>\n      <td>linear</td>\n      <td>0.980000</td>\n    </tr>\n    <tr>\n      <th>1</th>\n      <td>10</td>\n      <td>linear</td>\n      <td>0.973333</td>\n    </tr>\n  </tbody>\n</table>\n</div>"
     },
     "execution_count": 25,
     "metadata": {},
     "output_type": "execute_result"
    }
   ],
   "source": [
    "from sklearn.model_selection import RandomizedSearchCV\n",
    "\n",
    "rs = RandomizedSearchCV(svm.SVC(gamma='auto'), {\n",
    "    'C' : [1, 10, 20],\n",
    "    'kernel' : ['rbf', 'linear']\n",
    "}, cv=5, return_train_score=False, n_iter=2)\n",
    "rs.fit(iris.data, iris.target)\n",
    "pd.DataFrame(rs.cv_results_)[['param_C', 'param_kernel', 'mean_test_score']]"
   ],
   "metadata": {
    "collapsed": false,
    "ExecuteTime": {
     "end_time": "2023-10-31T13:33:32.072287300Z",
     "start_time": "2023-10-31T13:33:32.037826800Z"
    }
   },
   "id": "928e4384799526"
  },
  {
   "cell_type": "code",
   "execution_count": 30,
   "outputs": [],
   "source": [
    "from sklearn import svm\n",
    "from sklearn.ensemble import  RandomForestClassifier\n",
    "from sklearn.linear_model import LogisticRegression"
   ],
   "metadata": {
    "collapsed": false,
    "ExecuteTime": {
     "end_time": "2023-10-31T13:35:44.670543900Z",
     "start_time": "2023-10-31T13:35:44.662482500Z"
    }
   },
   "id": "4f0d2bb7ce6584d7"
  },
  {
   "cell_type": "code",
   "execution_count": 31,
   "outputs": [],
   "source": [
    "model_params = {\n",
    "    'svm': {\n",
    "        'model': svm.SVC(gamma='auto'),\n",
    "        'params' : {\n",
    "            'C': [1,10,20],\n",
    "            'kernel': ['rbf','linear']\n",
    "        }\n",
    "    },\n",
    "    'random_forest': {\n",
    "        'model': RandomForestClassifier(),\n",
    "        'params' : {\n",
    "            'n_estimators': [1,5,10]\n",
    "        }\n",
    "    },\n",
    "    'logistic_regression' : {\n",
    "        'model': LogisticRegression(solver='liblinear',multi_class='auto'),\n",
    "        'params': {\n",
    "            'C': [1,5,10]\n",
    "        }\n",
    "    }\n",
    "}"
   ],
   "metadata": {
    "collapsed": false,
    "ExecuteTime": {
     "end_time": "2023-10-31T13:35:45.197123200Z",
     "start_time": "2023-10-31T13:35:45.196614800Z"
    }
   },
   "id": "1074af6588dc0586"
  },
  {
   "cell_type": "code",
   "execution_count": 32,
   "outputs": [
    {
     "data": {
      "text/plain": "                 model  best_score                best_params\n0                  svm    0.980000  {'C': 1, 'kernel': 'rbf'}\n1        random_forest    0.960000       {'n_estimators': 10}\n2  logistic_regression    0.966667                   {'C': 5}",
      "text/html": "<div>\n<style scoped>\n    .dataframe tbody tr th:only-of-type {\n        vertical-align: middle;\n    }\n\n    .dataframe tbody tr th {\n        vertical-align: top;\n    }\n\n    .dataframe thead th {\n        text-align: right;\n    }\n</style>\n<table border=\"1\" class=\"dataframe\">\n  <thead>\n    <tr style=\"text-align: right;\">\n      <th></th>\n      <th>model</th>\n      <th>best_score</th>\n      <th>best_params</th>\n    </tr>\n  </thead>\n  <tbody>\n    <tr>\n      <th>0</th>\n      <td>svm</td>\n      <td>0.980000</td>\n      <td>{'C': 1, 'kernel': 'rbf'}</td>\n    </tr>\n    <tr>\n      <th>1</th>\n      <td>random_forest</td>\n      <td>0.960000</td>\n      <td>{'n_estimators': 10}</td>\n    </tr>\n    <tr>\n      <th>2</th>\n      <td>logistic_regression</td>\n      <td>0.966667</td>\n      <td>{'C': 5}</td>\n    </tr>\n  </tbody>\n</table>\n</div>"
     },
     "execution_count": 32,
     "metadata": {},
     "output_type": "execute_result"
    }
   ],
   "source": [
    "scores = []\n",
    "\n",
    "for model_name, mp in model_params.items():\n",
    "    clf =  GridSearchCV(mp['model'], mp['params'], cv=5, return_train_score=False)\n",
    "    clf.fit(iris.data, iris.target)\n",
    "    scores.append({\n",
    "        'model': model_name,\n",
    "        'best_score': clf.best_score_,\n",
    "        'best_params': clf.best_params_\n",
    "    })\n",
    "\n",
    "df = pd.DataFrame(scores,columns=['model','best_score','best_params'])\n",
    "df"
   ],
   "metadata": {
    "collapsed": false,
    "ExecuteTime": {
     "end_time": "2023-10-31T13:36:00.676013800Z",
     "start_time": "2023-10-31T13:35:59.778145800Z"
    }
   },
   "id": "edaf2341b23aef94"
  },
  {
   "cell_type": "code",
   "execution_count": null,
   "outputs": [],
   "source": [],
   "metadata": {
    "collapsed": false
   },
   "id": "3dfbe7d7a8af0e57"
  }
 ],
 "metadata": {
  "kernelspec": {
   "display_name": "Python 3",
   "language": "python",
   "name": "python3"
  },
  "language_info": {
   "codemirror_mode": {
    "name": "ipython",
    "version": 2
   },
   "file_extension": ".py",
   "mimetype": "text/x-python",
   "name": "python",
   "nbconvert_exporter": "python",
   "pygments_lexer": "ipython2",
   "version": "2.7.6"
  }
 },
 "nbformat": 4,
 "nbformat_minor": 5
}
