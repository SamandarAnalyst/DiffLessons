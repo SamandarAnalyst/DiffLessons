{
 "cells": [
  {
   "cell_type": "code",
   "execution_count": 1,
   "id": "initial_id",
   "metadata": {
    "collapsed": true,
    "ExecuteTime": {
     "end_time": "2023-10-22T05:29:25.825082900Z",
     "start_time": "2023-10-22T05:29:25.802348600Z"
    }
   },
   "outputs": [],
   "source": [
    "people = {\n",
    "    \"first\" : ['Corey', 'Jane', 'John'],\n",
    "    \"last\" : ['Schafer', 'Doe', 'Doe'],\n",
    "    \"email\" : ['CoreyMSchafer@gmail.com', 'JaneDoe@gmail.com', 'JohnDoe@gmail.com']\n",
    "}"
   ]
  },
  {
   "cell_type": "code",
   "execution_count": 2,
   "outputs": [],
   "source": [
    "import pandas as pd"
   ],
   "metadata": {
    "collapsed": false,
    "ExecuteTime": {
     "end_time": "2023-10-22T05:29:32.173565Z",
     "start_time": "2023-10-22T05:29:31.494631500Z"
    }
   },
   "id": "e01e9ae6bc0db830"
  },
  {
   "cell_type": "code",
   "execution_count": 3,
   "outputs": [],
   "source": [
    "df = pd.DataFrame(people)"
   ],
   "metadata": {
    "collapsed": false,
    "ExecuteTime": {
     "end_time": "2023-10-22T05:29:44.984305700Z",
     "start_time": "2023-10-22T05:29:44.952699900Z"
    }
   },
   "id": "307ffec571ee5960"
  },
  {
   "cell_type": "code",
   "execution_count": 4,
   "outputs": [
    {
     "data": {
      "text/plain": "   first     last                    email\n0  Corey  Schafer  CoreyMSchafer@gmail.com\n1   Jane      Doe        JaneDoe@gmail.com\n2   John      Doe        JohnDoe@gmail.com",
      "text/html": "<div>\n<style scoped>\n    .dataframe tbody tr th:only-of-type {\n        vertical-align: middle;\n    }\n\n    .dataframe tbody tr th {\n        vertical-align: top;\n    }\n\n    .dataframe thead th {\n        text-align: right;\n    }\n</style>\n<table border=\"1\" class=\"dataframe\">\n  <thead>\n    <tr style=\"text-align: right;\">\n      <th></th>\n      <th>first</th>\n      <th>last</th>\n      <th>email</th>\n    </tr>\n  </thead>\n  <tbody>\n    <tr>\n      <th>0</th>\n      <td>Corey</td>\n      <td>Schafer</td>\n      <td>CoreyMSchafer@gmail.com</td>\n    </tr>\n    <tr>\n      <th>1</th>\n      <td>Jane</td>\n      <td>Doe</td>\n      <td>JaneDoe@gmail.com</td>\n    </tr>\n    <tr>\n      <th>2</th>\n      <td>John</td>\n      <td>Doe</td>\n      <td>JohnDoe@gmail.com</td>\n    </tr>\n  </tbody>\n</table>\n</div>"
     },
     "execution_count": 4,
     "metadata": {},
     "output_type": "execute_result"
    }
   ],
   "source": [
    "df"
   ],
   "metadata": {
    "collapsed": false,
    "ExecuteTime": {
     "end_time": "2023-10-22T05:29:46.195960700Z",
     "start_time": "2023-10-22T05:29:46.127633200Z"
    }
   },
   "id": "c1b8f97a957941d8"
  },
  {
   "cell_type": "code",
   "execution_count": 5,
   "outputs": [
    {
     "data": {
      "text/plain": "0    CoreyMSchafer@gmail.com\n1          JaneDoe@gmail.com\n2          JohnDoe@gmail.com\nName: email, dtype: object"
     },
     "execution_count": 5,
     "metadata": {},
     "output_type": "execute_result"
    }
   ],
   "source": [
    "df['email']"
   ],
   "metadata": {
    "collapsed": false,
    "ExecuteTime": {
     "end_time": "2023-10-22T05:32:30.824620700Z",
     "start_time": "2023-10-22T05:32:30.792653200Z"
    }
   },
   "id": "2d0d92f7ed7a1253"
  },
  {
   "cell_type": "code",
   "execution_count": 6,
   "outputs": [
    {
     "data": {
      "text/plain": "                         first     last\nemail                                  \nCoreyMSchafer@gmail.com  Corey  Schafer\nJaneDoe@gmail.com         Jane      Doe\nJohnDoe@gmail.com         John      Doe",
      "text/html": "<div>\n<style scoped>\n    .dataframe tbody tr th:only-of-type {\n        vertical-align: middle;\n    }\n\n    .dataframe tbody tr th {\n        vertical-align: top;\n    }\n\n    .dataframe thead th {\n        text-align: right;\n    }\n</style>\n<table border=\"1\" class=\"dataframe\">\n  <thead>\n    <tr style=\"text-align: right;\">\n      <th></th>\n      <th>first</th>\n      <th>last</th>\n    </tr>\n    <tr>\n      <th>email</th>\n      <th></th>\n      <th></th>\n    </tr>\n  </thead>\n  <tbody>\n    <tr>\n      <th>CoreyMSchafer@gmail.com</th>\n      <td>Corey</td>\n      <td>Schafer</td>\n    </tr>\n    <tr>\n      <th>JaneDoe@gmail.com</th>\n      <td>Jane</td>\n      <td>Doe</td>\n    </tr>\n    <tr>\n      <th>JohnDoe@gmail.com</th>\n      <td>John</td>\n      <td>Doe</td>\n    </tr>\n  </tbody>\n</table>\n</div>"
     },
     "execution_count": 6,
     "metadata": {},
     "output_type": "execute_result"
    }
   ],
   "source": [
    "df.set_index('email')"
   ],
   "metadata": {
    "collapsed": false,
    "ExecuteTime": {
     "end_time": "2023-10-22T05:32:37.483589100Z",
     "start_time": "2023-10-22T05:32:37.436676900Z"
    }
   },
   "id": "cc05a980a36207b9"
  },
  {
   "cell_type": "code",
   "execution_count": 7,
   "outputs": [
    {
     "data": {
      "text/plain": "   first     last                    email\n0  Corey  Schafer  CoreyMSchafer@gmail.com\n1   Jane      Doe        JaneDoe@gmail.com\n2   John      Doe        JohnDoe@gmail.com",
      "text/html": "<div>\n<style scoped>\n    .dataframe tbody tr th:only-of-type {\n        vertical-align: middle;\n    }\n\n    .dataframe tbody tr th {\n        vertical-align: top;\n    }\n\n    .dataframe thead th {\n        text-align: right;\n    }\n</style>\n<table border=\"1\" class=\"dataframe\">\n  <thead>\n    <tr style=\"text-align: right;\">\n      <th></th>\n      <th>first</th>\n      <th>last</th>\n      <th>email</th>\n    </tr>\n  </thead>\n  <tbody>\n    <tr>\n      <th>0</th>\n      <td>Corey</td>\n      <td>Schafer</td>\n      <td>CoreyMSchafer@gmail.com</td>\n    </tr>\n    <tr>\n      <th>1</th>\n      <td>Jane</td>\n      <td>Doe</td>\n      <td>JaneDoe@gmail.com</td>\n    </tr>\n    <tr>\n      <th>2</th>\n      <td>John</td>\n      <td>Doe</td>\n      <td>JohnDoe@gmail.com</td>\n    </tr>\n  </tbody>\n</table>\n</div>"
     },
     "execution_count": 7,
     "metadata": {},
     "output_type": "execute_result"
    }
   ],
   "source": [
    "df"
   ],
   "metadata": {
    "collapsed": false,
    "ExecuteTime": {
     "end_time": "2023-10-22T05:35:10.566823100Z",
     "start_time": "2023-10-22T05:35:10.546630900Z"
    }
   },
   "id": "7d3111203d4bd50b"
  },
  {
   "cell_type": "code",
   "execution_count": 8,
   "outputs": [],
   "source": [
    "df.set_index('email', inplace=True)"
   ],
   "metadata": {
    "collapsed": false,
    "ExecuteTime": {
     "end_time": "2023-10-22T05:35:30.342791500Z",
     "start_time": "2023-10-22T05:35:30.322268400Z"
    }
   },
   "id": "67a4f24e5c3c5fed"
  },
  {
   "cell_type": "code",
   "execution_count": 9,
   "outputs": [
    {
     "data": {
      "text/plain": "                         first     last\nemail                                  \nCoreyMSchafer@gmail.com  Corey  Schafer\nJaneDoe@gmail.com         Jane      Doe\nJohnDoe@gmail.com         John      Doe",
      "text/html": "<div>\n<style scoped>\n    .dataframe tbody tr th:only-of-type {\n        vertical-align: middle;\n    }\n\n    .dataframe tbody tr th {\n        vertical-align: top;\n    }\n\n    .dataframe thead th {\n        text-align: right;\n    }\n</style>\n<table border=\"1\" class=\"dataframe\">\n  <thead>\n    <tr style=\"text-align: right;\">\n      <th></th>\n      <th>first</th>\n      <th>last</th>\n    </tr>\n    <tr>\n      <th>email</th>\n      <th></th>\n      <th></th>\n    </tr>\n  </thead>\n  <tbody>\n    <tr>\n      <th>CoreyMSchafer@gmail.com</th>\n      <td>Corey</td>\n      <td>Schafer</td>\n    </tr>\n    <tr>\n      <th>JaneDoe@gmail.com</th>\n      <td>Jane</td>\n      <td>Doe</td>\n    </tr>\n    <tr>\n      <th>JohnDoe@gmail.com</th>\n      <td>John</td>\n      <td>Doe</td>\n    </tr>\n  </tbody>\n</table>\n</div>"
     },
     "execution_count": 9,
     "metadata": {},
     "output_type": "execute_result"
    }
   ],
   "source": [
    "df"
   ],
   "metadata": {
    "collapsed": false,
    "ExecuteTime": {
     "end_time": "2023-10-22T05:35:31.702533100Z",
     "start_time": "2023-10-22T05:35:31.670935200Z"
    }
   },
   "id": "171842f9630d90ea"
  },
  {
   "cell_type": "code",
   "execution_count": 10,
   "outputs": [
    {
     "ename": "KeyError",
     "evalue": "0",
     "output_type": "error",
     "traceback": [
      "\u001B[1;31m---------------------------------------------------------------------------\u001B[0m",
      "\u001B[1;31mKeyError\u001B[0m                                  Traceback (most recent call last)",
      "File \u001B[1;32m~\\anaconda3\\Lib\\site-packages\\pandas\\core\\indexes\\base.py:3802\u001B[0m, in \u001B[0;36mIndex.get_loc\u001B[1;34m(self, key, method, tolerance)\u001B[0m\n\u001B[0;32m   3801\u001B[0m \u001B[38;5;28;01mtry\u001B[39;00m:\n\u001B[1;32m-> 3802\u001B[0m     \u001B[38;5;28;01mreturn\u001B[39;00m \u001B[38;5;28mself\u001B[39m\u001B[38;5;241m.\u001B[39m_engine\u001B[38;5;241m.\u001B[39mget_loc(casted_key)\n\u001B[0;32m   3803\u001B[0m \u001B[38;5;28;01mexcept\u001B[39;00m \u001B[38;5;167;01mKeyError\u001B[39;00m \u001B[38;5;28;01mas\u001B[39;00m err:\n",
      "File \u001B[1;32m~\\anaconda3\\Lib\\site-packages\\pandas\\_libs\\index.pyx:138\u001B[0m, in \u001B[0;36mpandas._libs.index.IndexEngine.get_loc\u001B[1;34m()\u001B[0m\n",
      "File \u001B[1;32m~\\anaconda3\\Lib\\site-packages\\pandas\\_libs\\index.pyx:165\u001B[0m, in \u001B[0;36mpandas._libs.index.IndexEngine.get_loc\u001B[1;34m()\u001B[0m\n",
      "File \u001B[1;32mpandas\\_libs\\hashtable_class_helper.pxi:5745\u001B[0m, in \u001B[0;36mpandas._libs.hashtable.PyObjectHashTable.get_item\u001B[1;34m()\u001B[0m\n",
      "File \u001B[1;32mpandas\\_libs\\hashtable_class_helper.pxi:5753\u001B[0m, in \u001B[0;36mpandas._libs.hashtable.PyObjectHashTable.get_item\u001B[1;34m()\u001B[0m\n",
      "\u001B[1;31mKeyError\u001B[0m: 0",
      "\nThe above exception was the direct cause of the following exception:\n",
      "\u001B[1;31mKeyError\u001B[0m                                  Traceback (most recent call last)",
      "Cell \u001B[1;32mIn[10], line 1\u001B[0m\n\u001B[1;32m----> 1\u001B[0m df\u001B[38;5;241m.\u001B[39mloc[\u001B[38;5;241m0\u001B[39m]\n",
      "File \u001B[1;32m~\\anaconda3\\Lib\\site-packages\\pandas\\core\\indexing.py:1073\u001B[0m, in \u001B[0;36m_LocationIndexer.__getitem__\u001B[1;34m(self, key)\u001B[0m\n\u001B[0;32m   1070\u001B[0m axis \u001B[38;5;241m=\u001B[39m \u001B[38;5;28mself\u001B[39m\u001B[38;5;241m.\u001B[39maxis \u001B[38;5;129;01mor\u001B[39;00m \u001B[38;5;241m0\u001B[39m\n\u001B[0;32m   1072\u001B[0m maybe_callable \u001B[38;5;241m=\u001B[39m com\u001B[38;5;241m.\u001B[39mapply_if_callable(key, \u001B[38;5;28mself\u001B[39m\u001B[38;5;241m.\u001B[39mobj)\n\u001B[1;32m-> 1073\u001B[0m \u001B[38;5;28;01mreturn\u001B[39;00m \u001B[38;5;28mself\u001B[39m\u001B[38;5;241m.\u001B[39m_getitem_axis(maybe_callable, axis\u001B[38;5;241m=\u001B[39maxis)\n",
      "File \u001B[1;32m~\\anaconda3\\Lib\\site-packages\\pandas\\core\\indexing.py:1312\u001B[0m, in \u001B[0;36m_LocIndexer._getitem_axis\u001B[1;34m(self, key, axis)\u001B[0m\n\u001B[0;32m   1310\u001B[0m \u001B[38;5;66;03m# fall thru to straight lookup\u001B[39;00m\n\u001B[0;32m   1311\u001B[0m \u001B[38;5;28mself\u001B[39m\u001B[38;5;241m.\u001B[39m_validate_key(key, axis)\n\u001B[1;32m-> 1312\u001B[0m \u001B[38;5;28;01mreturn\u001B[39;00m \u001B[38;5;28mself\u001B[39m\u001B[38;5;241m.\u001B[39m_get_label(key, axis\u001B[38;5;241m=\u001B[39maxis)\n",
      "File \u001B[1;32m~\\anaconda3\\Lib\\site-packages\\pandas\\core\\indexing.py:1260\u001B[0m, in \u001B[0;36m_LocIndexer._get_label\u001B[1;34m(self, label, axis)\u001B[0m\n\u001B[0;32m   1258\u001B[0m \u001B[38;5;28;01mdef\u001B[39;00m \u001B[38;5;21m_get_label\u001B[39m(\u001B[38;5;28mself\u001B[39m, label, axis: \u001B[38;5;28mint\u001B[39m):\n\u001B[0;32m   1259\u001B[0m     \u001B[38;5;66;03m# GH#5567 this will fail if the label is not present in the axis.\u001B[39;00m\n\u001B[1;32m-> 1260\u001B[0m     \u001B[38;5;28;01mreturn\u001B[39;00m \u001B[38;5;28mself\u001B[39m\u001B[38;5;241m.\u001B[39mobj\u001B[38;5;241m.\u001B[39mxs(label, axis\u001B[38;5;241m=\u001B[39maxis)\n",
      "File \u001B[1;32m~\\anaconda3\\Lib\\site-packages\\pandas\\core\\generic.py:4056\u001B[0m, in \u001B[0;36mNDFrame.xs\u001B[1;34m(self, key, axis, level, drop_level)\u001B[0m\n\u001B[0;32m   4054\u001B[0m             new_index \u001B[38;5;241m=\u001B[39m index[loc]\n\u001B[0;32m   4055\u001B[0m \u001B[38;5;28;01melse\u001B[39;00m:\n\u001B[1;32m-> 4056\u001B[0m     loc \u001B[38;5;241m=\u001B[39m index\u001B[38;5;241m.\u001B[39mget_loc(key)\n\u001B[0;32m   4058\u001B[0m     \u001B[38;5;28;01mif\u001B[39;00m \u001B[38;5;28misinstance\u001B[39m(loc, np\u001B[38;5;241m.\u001B[39mndarray):\n\u001B[0;32m   4059\u001B[0m         \u001B[38;5;28;01mif\u001B[39;00m loc\u001B[38;5;241m.\u001B[39mdtype \u001B[38;5;241m==\u001B[39m np\u001B[38;5;241m.\u001B[39mbool_:\n",
      "File \u001B[1;32m~\\anaconda3\\Lib\\site-packages\\pandas\\core\\indexes\\base.py:3804\u001B[0m, in \u001B[0;36mIndex.get_loc\u001B[1;34m(self, key, method, tolerance)\u001B[0m\n\u001B[0;32m   3802\u001B[0m     \u001B[38;5;28;01mreturn\u001B[39;00m \u001B[38;5;28mself\u001B[39m\u001B[38;5;241m.\u001B[39m_engine\u001B[38;5;241m.\u001B[39mget_loc(casted_key)\n\u001B[0;32m   3803\u001B[0m \u001B[38;5;28;01mexcept\u001B[39;00m \u001B[38;5;167;01mKeyError\u001B[39;00m \u001B[38;5;28;01mas\u001B[39;00m err:\n\u001B[1;32m-> 3804\u001B[0m     \u001B[38;5;28;01mraise\u001B[39;00m \u001B[38;5;167;01mKeyError\u001B[39;00m(key) \u001B[38;5;28;01mfrom\u001B[39;00m \u001B[38;5;21;01merr\u001B[39;00m\n\u001B[0;32m   3805\u001B[0m \u001B[38;5;28;01mexcept\u001B[39;00m \u001B[38;5;167;01mTypeError\u001B[39;00m:\n\u001B[0;32m   3806\u001B[0m     \u001B[38;5;66;03m# If we have a listlike key, _check_indexing_error will raise\u001B[39;00m\n\u001B[0;32m   3807\u001B[0m     \u001B[38;5;66;03m#  InvalidIndexError. Otherwise we fall through and re-raise\u001B[39;00m\n\u001B[0;32m   3808\u001B[0m     \u001B[38;5;66;03m#  the TypeError.\u001B[39;00m\n\u001B[0;32m   3809\u001B[0m     \u001B[38;5;28mself\u001B[39m\u001B[38;5;241m.\u001B[39m_check_indexing_error(key)\n",
      "\u001B[1;31mKeyError\u001B[0m: 0"
     ]
    }
   ],
   "source": [
    "df.loc[0]"
   ],
   "metadata": {
    "collapsed": false,
    "ExecuteTime": {
     "end_time": "2023-10-22T05:35:42.206618300Z",
     "start_time": "2023-10-22T05:35:39.750052400Z"
    }
   },
   "id": "b5a7f35543d7305e"
  },
  {
   "cell_type": "code",
   "execution_count": 14,
   "outputs": [
    {
     "data": {
      "text/plain": "'Schafer'"
     },
     "execution_count": 14,
     "metadata": {},
     "output_type": "execute_result"
    }
   ],
   "source": [
    "df.loc['CoreyMSchafer@gmail.com', 'last']"
   ],
   "metadata": {
    "collapsed": false,
    "ExecuteTime": {
     "end_time": "2023-10-22T08:16:40.123607Z",
     "start_time": "2023-10-22T08:16:40.101430700Z"
    }
   },
   "id": "580200219a056e19"
  },
  {
   "cell_type": "code",
   "execution_count": 15,
   "outputs": [
    {
     "data": {
      "text/plain": "first      Corey\nlast     Schafer\nName: CoreyMSchafer@gmail.com, dtype: object"
     },
     "execution_count": 15,
     "metadata": {},
     "output_type": "execute_result"
    }
   ],
   "source": [
    "df.iloc[0]"
   ],
   "metadata": {
    "collapsed": false,
    "ExecuteTime": {
     "end_time": "2023-10-22T08:17:14.984346400Z",
     "start_time": "2023-10-22T08:17:14.948678700Z"
    }
   },
   "id": "335d6f184511ade6"
  },
  {
   "cell_type": "code",
   "execution_count": 16,
   "outputs": [],
   "source": [
    "df.reset_index(inplace=True)"
   ],
   "metadata": {
    "collapsed": false,
    "ExecuteTime": {
     "end_time": "2023-10-22T08:17:32.661915900Z",
     "start_time": "2023-10-22T08:17:32.645159300Z"
    }
   },
   "id": "29bdba03c1cbdc2"
  },
  {
   "cell_type": "code",
   "execution_count": 17,
   "outputs": [
    {
     "data": {
      "text/plain": "                     email  first     last\n0  CoreyMSchafer@gmail.com  Corey  Schafer\n1        JaneDoe@gmail.com   Jane      Doe\n2        JohnDoe@gmail.com   John      Doe",
      "text/html": "<div>\n<style scoped>\n    .dataframe tbody tr th:only-of-type {\n        vertical-align: middle;\n    }\n\n    .dataframe tbody tr th {\n        vertical-align: top;\n    }\n\n    .dataframe thead th {\n        text-align: right;\n    }\n</style>\n<table border=\"1\" class=\"dataframe\">\n  <thead>\n    <tr style=\"text-align: right;\">\n      <th></th>\n      <th>email</th>\n      <th>first</th>\n      <th>last</th>\n    </tr>\n  </thead>\n  <tbody>\n    <tr>\n      <th>0</th>\n      <td>CoreyMSchafer@gmail.com</td>\n      <td>Corey</td>\n      <td>Schafer</td>\n    </tr>\n    <tr>\n      <th>1</th>\n      <td>JaneDoe@gmail.com</td>\n      <td>Jane</td>\n      <td>Doe</td>\n    </tr>\n    <tr>\n      <th>2</th>\n      <td>JohnDoe@gmail.com</td>\n      <td>John</td>\n      <td>Doe</td>\n    </tr>\n  </tbody>\n</table>\n</div>"
     },
     "execution_count": 17,
     "metadata": {},
     "output_type": "execute_result"
    }
   ],
   "source": [
    "df"
   ],
   "metadata": {
    "collapsed": false,
    "ExecuteTime": {
     "end_time": "2023-10-22T08:17:34.423038300Z",
     "start_time": "2023-10-22T08:17:34.395519600Z"
    }
   },
   "id": "4ff5c78a29270efb"
  },
  {
   "cell_type": "code",
   "execution_count": 24,
   "outputs": [],
   "source": [
    "df = pd.read_csv('survey_results_public.csv', index_col='Respondent')\n",
    "schema_df = pd.read_csv('survey_results_schema.csv', index_col='Column')"
   ],
   "metadata": {
    "collapsed": false,
    "ExecuteTime": {
     "end_time": "2023-10-22T08:24:48.139073Z",
     "start_time": "2023-10-22T08:24:45.966547400Z"
    }
   },
   "id": "3308bb1575e15b48"
  },
  {
   "cell_type": "code",
   "execution_count": 19,
   "outputs": [],
   "source": [
    "pd.set_option('display.max_columns', 85)\n",
    "pd.set_option('display.max_rows', 85)"
   ],
   "metadata": {
    "collapsed": false,
    "ExecuteTime": {
     "end_time": "2023-10-22T08:20:43.104663500Z",
     "start_time": "2023-10-22T08:20:43.086492900Z"
    }
   },
   "id": "a610ecaab917f75"
  },
  {
   "cell_type": "code",
   "execution_count": 22,
   "outputs": [
    {
     "data": {
      "text/plain": "                                                 Professional  \\\nRespondent                                                      \n1                                                     Student   \n2                                                     Student   \n3                                      Professional developer   \n4           Professional non-developer who sometimes write...   \n5                                      Professional developer   \n\n                         ProgramHobby         Country      University  \\\nRespondent                                                              \n1                           Yes, both   United States              No   \n2                           Yes, both  United Kingdom  Yes, full-time   \n3                           Yes, both  United Kingdom              No   \n4                           Yes, both   United States              No   \n5           Yes, I program as a hobby     Switzerland              No   \n\n                                  EmploymentStatus  \\\nRespondent                                           \n1           Not employed, and not looking for work   \n2                               Employed part-time   \n3                               Employed full-time   \n4                               Employed full-time   \n5                               Employed full-time   \n\n                                              FormalEducation  \\\nRespondent                                                      \n1                                            Secondary school   \n2           Some college/university study without earning ...   \n3                                           Bachelor's degree   \n4                                             Doctoral degree   \n5                                             Master's degree   \n\n                                           MajorUndergrad  \\\nRespondent                                                  \n1                                                     NaN   \n2                Computer science or software engineering   \n3                Computer science or software engineering   \n4           A non-computer-focused engineering discipline   \n5                Computer science or software engineering   \n\n                                                   HomeRemote  \\\nRespondent                                                      \n1                                                         NaN   \n2                       More than half, but not all, the time   \n3           Less than half the time, but at least one day ...   \n4           Less than half the time, but at least one day ...   \n5                                                       Never   \n\n                         CompanySize  \\\nRespondent                             \n1                                NaN   \n2                 20 to 99 employees   \n3           10,000 or more employees   \n4           10,000 or more employees   \n5                 10 to 19 employees   \n\n                                                  CompanyType  \\\nRespondent                                                      \n1                                                         NaN   \n2           Privately-held limited company, not in startup...   \n3                                 Publicly-traded corporation   \n4           Non-profit/non-governmental organization or pr...   \n5           Privately-held limited company, not in startup...   \n\n                YearsProgram     YearsCodedJob YearsCodedJobPast  \\\nRespondent                                                         \n1               2 to 3 years               NaN               NaN   \n2              9 to 10 years               NaN               NaN   \n3           20 or more years  20 or more years               NaN   \n4             14 to 15 years     9 to 10 years               NaN   \n5           20 or more years    10 to 11 years               NaN   \n\n                                                DeveloperType  \\\nRespondent                                                      \n1                                                         NaN   \n2                                                         NaN   \n3                                                       Other   \n4                                                         NaN   \n5           Mobile developer; Graphics programming; Deskto...   \n\n           WebDeveloperType MobileDeveloperType NonDeveloperType  \\\nRespondent                                                         \n1                       NaN                 NaN              NaN   \n2                       NaN                 NaN              NaN   \n3                       NaN                 NaN              NaN   \n4                       NaN                 NaN   Data scientist   \n5                       NaN                 NaN              NaN   \n\n            CareerSatisfaction  JobSatisfaction ExCoderReturn ExCoderNotForMe  \\\nRespondent                                                                      \n1                          NaN              NaN           NaN             NaN   \n2                          NaN              NaN           NaN             NaN   \n3                          8.0              9.0           NaN             NaN   \n4                          6.0              3.0           NaN             NaN   \n5                          6.0              8.0           NaN             NaN   \n\n           ExCoderBalance ExCoder10Years ExCoderBelonged ExCoderSkills  \\\nRespondent                                                               \n1                     NaN            NaN             NaN           NaN   \n2                     NaN            NaN             NaN           NaN   \n3                     NaN            NaN             NaN           NaN   \n4                     NaN            NaN             NaN           NaN   \n5                     NaN            NaN             NaN           NaN   \n\n           ExCoderWillNotCode ExCoderActive                  PronounceGIF  \\\nRespondent                                                                  \n1                         NaN           NaN  With a soft \"g,\" like \"jiff\"   \n2                         NaN           NaN  With a hard \"g,\" like \"gift\"   \n3                         NaN           NaN  With a hard \"g,\" like \"gift\"   \n4                         NaN           NaN  With a soft \"g,\" like \"jiff\"   \n5                         NaN           NaN  With a soft \"g,\" like \"jiff\"   \n\n            ProblemSolving  BuildingThings LearningNewTech   BoringDetails  \\\nRespondent                                                                   \n1           Strongly agree  Strongly agree           Agree        Disagree   \n2                      NaN             NaN             NaN             NaN   \n3           Strongly agree  Strongly agree  Strongly agree  Somewhat agree   \n4           Strongly agree  Strongly agree  Strongly agree        Disagree   \n5                      NaN             NaN             NaN             NaN   \n\n               JobSecurity DiversityImportant AnnoyingUI FriendsDevelopers  \\\nRespondent                                                                   \n1           Strongly agree              Agree      Agree          Disagree   \n2                      NaN                NaN        NaN               NaN   \n3                    Agree     Strongly agree      Agree    Somewhat agree   \n4           Somewhat agree              Agree      Agree             Agree   \n5                      NaN                NaN        NaN               NaN   \n\n             RightWrongWay UnderstandComputers     SeriousWork  \\\nRespondent                                                       \n1           Somewhat agree            Disagree  Strongly agree   \n2                      NaN                 NaN             NaN   \n3                 Disagree            Disagree           Agree   \n4           Somewhat agree   Strongly disagree  Strongly agree   \n5                      NaN                 NaN             NaN   \n\n           InvestTimeTools        WorkPayCare KinshipDevelopers  ...  \\\nRespondent                                                       ...   \n1           Strongly agree  Strongly disagree             Agree  ...   \n2                      NaN                NaN               NaN  ...   \n3           Somewhat agree           Disagree    Somewhat agree  ...   \n4                    Agree           Disagree    Strongly agree  ...   \n5                      NaN                NaN               NaN  ...   \n\n           EquipmentSatisfiedStorage EquipmentSatisfiedRW   InfluenceInternet  \\\nRespondent                                                                      \n1                     Very satisfied            Satisfied  Not very satisfied   \n2                          Satisfied   Somewhat satisfied           Satisfied   \n3                          Satisfied   Somewhat satisfied      Very satisfied   \n4                                NaN                  NaN                 NaN   \n5                          Satisfied            Satisfied           Satisfied   \n\n           InfluenceWorkstation    InfluenceHardware     InfluenceServers  \\\nRespondent                                                                  \n1                           NaN                  NaN                  NaN   \n2           No influence at all  No influence at all  No influence at all   \n3            A lot of influence       Some influence       Some influence   \n4                           NaN                  NaN                  NaN   \n5                           NaN                  NaN                  NaN   \n\n             InfluenceTechStack    InfluenceDeptTech    InfluenceVizTools  \\\nRespondent                                                                  \n1                           NaN                  NaN                  NaN   \n2           No influence at all  No influence at all  No influence at all   \n3                Some influence   A lot of influence       Some influence   \n4                           NaN                  NaN                  NaN   \n5                           NaN                  NaN                  NaN   \n\n              InfluenceDatabase       InfluenceCloud InfluenceConsultants  \\\nRespondent                                                                  \n1                           NaN                  NaN                  NaN   \n2           No influence at all  No influence at all  No influence at all   \n3                Some influence       Some influence       Some influence   \n4                           NaN                  NaN                  NaN   \n5                           NaN                  NaN                  NaN   \n\n           InfluenceRecruitment InfluenceCommunication  \\\nRespondent                                               \n1                           NaN                    NaN   \n2           No influence at all    No influence at all   \n3                Some influence         Some influence   \n4                           NaN                    NaN   \n5                           NaN                    NaN   \n\n                                       StackOverflowDescribes  \\\nRespondent                                                      \n1           I have created a CV or Developer Story on Stac...   \n2           I have created a CV or Developer Story on Stac...   \n3           I have created a CV or Developer Story on Stac...   \n4           I have created a CV or Developer Story on Stac...   \n5                                                         NaN   \n\n           StackOverflowSatisfaction  \\\nRespondent                             \n1                                9.0   \n2                                8.0   \n3                                8.0   \n4                               10.0   \n5                                NaN   \n\n                                         StackOverflowDevices  \\\nRespondent                                                      \n1                                            Desktop; iOS app   \n2           Desktop; iOS browser; iOS app; Android browser...   \n3                               Desktop; iOS browser; iOS app   \n4                               Desktop; iOS browser; iOS app   \n5                                                         NaN   \n\n           StackOverflowFoundAnswer StackOverflowCopiedCode  \\\nRespondent                                                    \n1           At least once each week     Haven't done at all   \n2                     Several times           Several times   \n3                     Once or twice     Haven't done at all   \n4           At least once each week           Several times   \n5                               NaN                     NaN   \n\n            StackOverflowJobListing StackOverflowCompanyPage  \\\nRespondent                                                     \n1                     Once or twice      Haven't done at all   \n2                     Once or twice            Once or twice   \n3               Haven't done at all      Haven't done at all   \n4           At least once each week            Several times   \n5                               NaN                      NaN   \n\n             StackOverflowJobSearch StackOverflowNewQuestion  \\\nRespondent                                                     \n1               Haven't done at all            Several times   \n2                     Once or twice      Haven't done at all   \n3               Haven't done at all      Haven't done at all   \n4           At least once each week            Several times   \n5                               NaN                      NaN   \n\n               StackOverflowAnswer    StackOverflowMetaChat  \\\nRespondent                                                    \n1                    Several times            Once or twice   \n2                    Several times  At least once each week   \n3           At least once each day   At least once each day   \n4           At least once each day   At least once each day   \n5                              NaN                      NaN   \n\n           StackOverflowAdsRelevant StackOverflowAdsDistracting  \\\nRespondent                                                        \n1                    Somewhat agree           Strongly disagree   \n2                          Disagree           Strongly disagree   \n3                          Disagree                    Disagree   \n4                             Agree           Strongly disagree   \n5                               NaN                         NaN   \n\n           StackOverflowModeration StackOverflowCommunity  \\\nRespondent                                                  \n1                Strongly disagree         Strongly agree   \n2                Strongly disagree         Strongly agree   \n3                Strongly disagree         Strongly agree   \n4                Strongly disagree         Strongly agree   \n5                              NaN                    NaN   \n\n           StackOverflowHelpful StackOverflowBetter StackOverflowWhatDo  \\\nRespondent                                                                \n1                         Agree      Strongly agree      Strongly agree   \n2                         Agree      Strongly agree      Strongly agree   \n3                         Agree               Agree               Agree   \n4                Strongly agree               Agree      Strongly agree   \n5                           NaN                 NaN                 NaN   \n\n           StackOverflowMakeMoney Gender HighestEducationParents  \\\nRespondent                                                         \n1               Strongly disagree   Male             High school   \n2               Strongly disagree   Male       A master's degree   \n3                        Disagree   Male   A professional degree   \n4                        Disagree   Male       A doctoral degree   \n5                             NaN    NaN                     NaN   \n\n                                    Race         SurveyLong  \\\nRespondent                                                    \n1           White or of European descent  Strongly disagree   \n2           White or of European descent     Somewhat agree   \n3           White or of European descent     Somewhat agree   \n4           White or of European descent              Agree   \n5                                    NaN                NaN   \n\n           QuestionsInteresting QuestionsConfusing InterestedAnswers  \\\nRespondent                                                             \n1                Strongly agree           Disagree    Strongly agree   \n2                Somewhat agree           Disagree    Strongly agree   \n3                         Agree           Disagree             Agree   \n4                         Agree     Somewhat agree    Strongly agree   \n5                           NaN                NaN               NaN   \n\n              Salary ExpectedSalary  \nRespondent                           \n1                NaN            NaN  \n2                NaN        37500.0  \n3           113750.0            NaN  \n4                NaN            NaN  \n5                NaN            NaN  \n\n[5 rows x 153 columns]",
      "text/html": "<div>\n<style scoped>\n    .dataframe tbody tr th:only-of-type {\n        vertical-align: middle;\n    }\n\n    .dataframe tbody tr th {\n        vertical-align: top;\n    }\n\n    .dataframe thead th {\n        text-align: right;\n    }\n</style>\n<table border=\"1\" class=\"dataframe\">\n  <thead>\n    <tr style=\"text-align: right;\">\n      <th></th>\n      <th>Professional</th>\n      <th>ProgramHobby</th>\n      <th>Country</th>\n      <th>University</th>\n      <th>EmploymentStatus</th>\n      <th>FormalEducation</th>\n      <th>MajorUndergrad</th>\n      <th>HomeRemote</th>\n      <th>CompanySize</th>\n      <th>CompanyType</th>\n      <th>YearsProgram</th>\n      <th>YearsCodedJob</th>\n      <th>YearsCodedJobPast</th>\n      <th>DeveloperType</th>\n      <th>WebDeveloperType</th>\n      <th>MobileDeveloperType</th>\n      <th>NonDeveloperType</th>\n      <th>CareerSatisfaction</th>\n      <th>JobSatisfaction</th>\n      <th>ExCoderReturn</th>\n      <th>ExCoderNotForMe</th>\n      <th>ExCoderBalance</th>\n      <th>ExCoder10Years</th>\n      <th>ExCoderBelonged</th>\n      <th>ExCoderSkills</th>\n      <th>ExCoderWillNotCode</th>\n      <th>ExCoderActive</th>\n      <th>PronounceGIF</th>\n      <th>ProblemSolving</th>\n      <th>BuildingThings</th>\n      <th>LearningNewTech</th>\n      <th>BoringDetails</th>\n      <th>JobSecurity</th>\n      <th>DiversityImportant</th>\n      <th>AnnoyingUI</th>\n      <th>FriendsDevelopers</th>\n      <th>RightWrongWay</th>\n      <th>UnderstandComputers</th>\n      <th>SeriousWork</th>\n      <th>InvestTimeTools</th>\n      <th>WorkPayCare</th>\n      <th>KinshipDevelopers</th>\n      <th>...</th>\n      <th>EquipmentSatisfiedStorage</th>\n      <th>EquipmentSatisfiedRW</th>\n      <th>InfluenceInternet</th>\n      <th>InfluenceWorkstation</th>\n      <th>InfluenceHardware</th>\n      <th>InfluenceServers</th>\n      <th>InfluenceTechStack</th>\n      <th>InfluenceDeptTech</th>\n      <th>InfluenceVizTools</th>\n      <th>InfluenceDatabase</th>\n      <th>InfluenceCloud</th>\n      <th>InfluenceConsultants</th>\n      <th>InfluenceRecruitment</th>\n      <th>InfluenceCommunication</th>\n      <th>StackOverflowDescribes</th>\n      <th>StackOverflowSatisfaction</th>\n      <th>StackOverflowDevices</th>\n      <th>StackOverflowFoundAnswer</th>\n      <th>StackOverflowCopiedCode</th>\n      <th>StackOverflowJobListing</th>\n      <th>StackOverflowCompanyPage</th>\n      <th>StackOverflowJobSearch</th>\n      <th>StackOverflowNewQuestion</th>\n      <th>StackOverflowAnswer</th>\n      <th>StackOverflowMetaChat</th>\n      <th>StackOverflowAdsRelevant</th>\n      <th>StackOverflowAdsDistracting</th>\n      <th>StackOverflowModeration</th>\n      <th>StackOverflowCommunity</th>\n      <th>StackOverflowHelpful</th>\n      <th>StackOverflowBetter</th>\n      <th>StackOverflowWhatDo</th>\n      <th>StackOverflowMakeMoney</th>\n      <th>Gender</th>\n      <th>HighestEducationParents</th>\n      <th>Race</th>\n      <th>SurveyLong</th>\n      <th>QuestionsInteresting</th>\n      <th>QuestionsConfusing</th>\n      <th>InterestedAnswers</th>\n      <th>Salary</th>\n      <th>ExpectedSalary</th>\n    </tr>\n    <tr>\n      <th>Respondent</th>\n      <th></th>\n      <th></th>\n      <th></th>\n      <th></th>\n      <th></th>\n      <th></th>\n      <th></th>\n      <th></th>\n      <th></th>\n      <th></th>\n      <th></th>\n      <th></th>\n      <th></th>\n      <th></th>\n      <th></th>\n      <th></th>\n      <th></th>\n      <th></th>\n      <th></th>\n      <th></th>\n      <th></th>\n      <th></th>\n      <th></th>\n      <th></th>\n      <th></th>\n      <th></th>\n      <th></th>\n      <th></th>\n      <th></th>\n      <th></th>\n      <th></th>\n      <th></th>\n      <th></th>\n      <th></th>\n      <th></th>\n      <th></th>\n      <th></th>\n      <th></th>\n      <th></th>\n      <th></th>\n      <th></th>\n      <th></th>\n      <th></th>\n      <th></th>\n      <th></th>\n      <th></th>\n      <th></th>\n      <th></th>\n      <th></th>\n      <th></th>\n      <th></th>\n      <th></th>\n      <th></th>\n      <th></th>\n      <th></th>\n      <th></th>\n      <th></th>\n      <th></th>\n      <th></th>\n      <th></th>\n      <th></th>\n      <th></th>\n      <th></th>\n      <th></th>\n      <th></th>\n      <th></th>\n      <th></th>\n      <th></th>\n      <th></th>\n      <th></th>\n      <th></th>\n      <th></th>\n      <th></th>\n      <th></th>\n      <th></th>\n      <th></th>\n      <th></th>\n      <th></th>\n      <th></th>\n      <th></th>\n      <th></th>\n      <th></th>\n      <th></th>\n      <th></th>\n      <th></th>\n    </tr>\n  </thead>\n  <tbody>\n    <tr>\n      <th>1</th>\n      <td>Student</td>\n      <td>Yes, both</td>\n      <td>United States</td>\n      <td>No</td>\n      <td>Not employed, and not looking for work</td>\n      <td>Secondary school</td>\n      <td>NaN</td>\n      <td>NaN</td>\n      <td>NaN</td>\n      <td>NaN</td>\n      <td>2 to 3 years</td>\n      <td>NaN</td>\n      <td>NaN</td>\n      <td>NaN</td>\n      <td>NaN</td>\n      <td>NaN</td>\n      <td>NaN</td>\n      <td>NaN</td>\n      <td>NaN</td>\n      <td>NaN</td>\n      <td>NaN</td>\n      <td>NaN</td>\n      <td>NaN</td>\n      <td>NaN</td>\n      <td>NaN</td>\n      <td>NaN</td>\n      <td>NaN</td>\n      <td>With a soft \"g,\" like \"jiff\"</td>\n      <td>Strongly agree</td>\n      <td>Strongly agree</td>\n      <td>Agree</td>\n      <td>Disagree</td>\n      <td>Strongly agree</td>\n      <td>Agree</td>\n      <td>Agree</td>\n      <td>Disagree</td>\n      <td>Somewhat agree</td>\n      <td>Disagree</td>\n      <td>Strongly agree</td>\n      <td>Strongly agree</td>\n      <td>Strongly disagree</td>\n      <td>Agree</td>\n      <td>...</td>\n      <td>Very satisfied</td>\n      <td>Satisfied</td>\n      <td>Not very satisfied</td>\n      <td>NaN</td>\n      <td>NaN</td>\n      <td>NaN</td>\n      <td>NaN</td>\n      <td>NaN</td>\n      <td>NaN</td>\n      <td>NaN</td>\n      <td>NaN</td>\n      <td>NaN</td>\n      <td>NaN</td>\n      <td>NaN</td>\n      <td>I have created a CV or Developer Story on Stac...</td>\n      <td>9.0</td>\n      <td>Desktop; iOS app</td>\n      <td>At least once each week</td>\n      <td>Haven't done at all</td>\n      <td>Once or twice</td>\n      <td>Haven't done at all</td>\n      <td>Haven't done at all</td>\n      <td>Several times</td>\n      <td>Several times</td>\n      <td>Once or twice</td>\n      <td>Somewhat agree</td>\n      <td>Strongly disagree</td>\n      <td>Strongly disagree</td>\n      <td>Strongly agree</td>\n      <td>Agree</td>\n      <td>Strongly agree</td>\n      <td>Strongly agree</td>\n      <td>Strongly disagree</td>\n      <td>Male</td>\n      <td>High school</td>\n      <td>White or of European descent</td>\n      <td>Strongly disagree</td>\n      <td>Strongly agree</td>\n      <td>Disagree</td>\n      <td>Strongly agree</td>\n      <td>NaN</td>\n      <td>NaN</td>\n    </tr>\n    <tr>\n      <th>2</th>\n      <td>Student</td>\n      <td>Yes, both</td>\n      <td>United Kingdom</td>\n      <td>Yes, full-time</td>\n      <td>Employed part-time</td>\n      <td>Some college/university study without earning ...</td>\n      <td>Computer science or software engineering</td>\n      <td>More than half, but not all, the time</td>\n      <td>20 to 99 employees</td>\n      <td>Privately-held limited company, not in startup...</td>\n      <td>9 to 10 years</td>\n      <td>NaN</td>\n      <td>NaN</td>\n      <td>NaN</td>\n      <td>NaN</td>\n      <td>NaN</td>\n      <td>NaN</td>\n      <td>NaN</td>\n      <td>NaN</td>\n      <td>NaN</td>\n      <td>NaN</td>\n      <td>NaN</td>\n      <td>NaN</td>\n      <td>NaN</td>\n      <td>NaN</td>\n      <td>NaN</td>\n      <td>NaN</td>\n      <td>With a hard \"g,\" like \"gift\"</td>\n      <td>NaN</td>\n      <td>NaN</td>\n      <td>NaN</td>\n      <td>NaN</td>\n      <td>NaN</td>\n      <td>NaN</td>\n      <td>NaN</td>\n      <td>NaN</td>\n      <td>NaN</td>\n      <td>NaN</td>\n      <td>NaN</td>\n      <td>NaN</td>\n      <td>NaN</td>\n      <td>NaN</td>\n      <td>...</td>\n      <td>Satisfied</td>\n      <td>Somewhat satisfied</td>\n      <td>Satisfied</td>\n      <td>No influence at all</td>\n      <td>No influence at all</td>\n      <td>No influence at all</td>\n      <td>No influence at all</td>\n      <td>No influence at all</td>\n      <td>No influence at all</td>\n      <td>No influence at all</td>\n      <td>No influence at all</td>\n      <td>No influence at all</td>\n      <td>No influence at all</td>\n      <td>No influence at all</td>\n      <td>I have created a CV or Developer Story on Stac...</td>\n      <td>8.0</td>\n      <td>Desktop; iOS browser; iOS app; Android browser...</td>\n      <td>Several times</td>\n      <td>Several times</td>\n      <td>Once or twice</td>\n      <td>Once or twice</td>\n      <td>Once or twice</td>\n      <td>Haven't done at all</td>\n      <td>Several times</td>\n      <td>At least once each week</td>\n      <td>Disagree</td>\n      <td>Strongly disagree</td>\n      <td>Strongly disagree</td>\n      <td>Strongly agree</td>\n      <td>Agree</td>\n      <td>Strongly agree</td>\n      <td>Strongly agree</td>\n      <td>Strongly disagree</td>\n      <td>Male</td>\n      <td>A master's degree</td>\n      <td>White or of European descent</td>\n      <td>Somewhat agree</td>\n      <td>Somewhat agree</td>\n      <td>Disagree</td>\n      <td>Strongly agree</td>\n      <td>NaN</td>\n      <td>37500.0</td>\n    </tr>\n    <tr>\n      <th>3</th>\n      <td>Professional developer</td>\n      <td>Yes, both</td>\n      <td>United Kingdom</td>\n      <td>No</td>\n      <td>Employed full-time</td>\n      <td>Bachelor's degree</td>\n      <td>Computer science or software engineering</td>\n      <td>Less than half the time, but at least one day ...</td>\n      <td>10,000 or more employees</td>\n      <td>Publicly-traded corporation</td>\n      <td>20 or more years</td>\n      <td>20 or more years</td>\n      <td>NaN</td>\n      <td>Other</td>\n      <td>NaN</td>\n      <td>NaN</td>\n      <td>NaN</td>\n      <td>8.0</td>\n      <td>9.0</td>\n      <td>NaN</td>\n      <td>NaN</td>\n      <td>NaN</td>\n      <td>NaN</td>\n      <td>NaN</td>\n      <td>NaN</td>\n      <td>NaN</td>\n      <td>NaN</td>\n      <td>With a hard \"g,\" like \"gift\"</td>\n      <td>Strongly agree</td>\n      <td>Strongly agree</td>\n      <td>Strongly agree</td>\n      <td>Somewhat agree</td>\n      <td>Agree</td>\n      <td>Strongly agree</td>\n      <td>Agree</td>\n      <td>Somewhat agree</td>\n      <td>Disagree</td>\n      <td>Disagree</td>\n      <td>Agree</td>\n      <td>Somewhat agree</td>\n      <td>Disagree</td>\n      <td>Somewhat agree</td>\n      <td>...</td>\n      <td>Satisfied</td>\n      <td>Somewhat satisfied</td>\n      <td>Very satisfied</td>\n      <td>A lot of influence</td>\n      <td>Some influence</td>\n      <td>Some influence</td>\n      <td>Some influence</td>\n      <td>A lot of influence</td>\n      <td>Some influence</td>\n      <td>Some influence</td>\n      <td>Some influence</td>\n      <td>Some influence</td>\n      <td>Some influence</td>\n      <td>Some influence</td>\n      <td>I have created a CV or Developer Story on Stac...</td>\n      <td>8.0</td>\n      <td>Desktop; iOS browser; iOS app</td>\n      <td>Once or twice</td>\n      <td>Haven't done at all</td>\n      <td>Haven't done at all</td>\n      <td>Haven't done at all</td>\n      <td>Haven't done at all</td>\n      <td>Haven't done at all</td>\n      <td>At least once each day</td>\n      <td>At least once each day</td>\n      <td>Disagree</td>\n      <td>Disagree</td>\n      <td>Strongly disagree</td>\n      <td>Strongly agree</td>\n      <td>Agree</td>\n      <td>Agree</td>\n      <td>Agree</td>\n      <td>Disagree</td>\n      <td>Male</td>\n      <td>A professional degree</td>\n      <td>White or of European descent</td>\n      <td>Somewhat agree</td>\n      <td>Agree</td>\n      <td>Disagree</td>\n      <td>Agree</td>\n      <td>113750.0</td>\n      <td>NaN</td>\n    </tr>\n    <tr>\n      <th>4</th>\n      <td>Professional non-developer who sometimes write...</td>\n      <td>Yes, both</td>\n      <td>United States</td>\n      <td>No</td>\n      <td>Employed full-time</td>\n      <td>Doctoral degree</td>\n      <td>A non-computer-focused engineering discipline</td>\n      <td>Less than half the time, but at least one day ...</td>\n      <td>10,000 or more employees</td>\n      <td>Non-profit/non-governmental organization or pr...</td>\n      <td>14 to 15 years</td>\n      <td>9 to 10 years</td>\n      <td>NaN</td>\n      <td>NaN</td>\n      <td>NaN</td>\n      <td>NaN</td>\n      <td>Data scientist</td>\n      <td>6.0</td>\n      <td>3.0</td>\n      <td>NaN</td>\n      <td>NaN</td>\n      <td>NaN</td>\n      <td>NaN</td>\n      <td>NaN</td>\n      <td>NaN</td>\n      <td>NaN</td>\n      <td>NaN</td>\n      <td>With a soft \"g,\" like \"jiff\"</td>\n      <td>Strongly agree</td>\n      <td>Strongly agree</td>\n      <td>Strongly agree</td>\n      <td>Disagree</td>\n      <td>Somewhat agree</td>\n      <td>Agree</td>\n      <td>Agree</td>\n      <td>Agree</td>\n      <td>Somewhat agree</td>\n      <td>Strongly disagree</td>\n      <td>Strongly agree</td>\n      <td>Agree</td>\n      <td>Disagree</td>\n      <td>Strongly agree</td>\n      <td>...</td>\n      <td>NaN</td>\n      <td>NaN</td>\n      <td>NaN</td>\n      <td>NaN</td>\n      <td>NaN</td>\n      <td>NaN</td>\n      <td>NaN</td>\n      <td>NaN</td>\n      <td>NaN</td>\n      <td>NaN</td>\n      <td>NaN</td>\n      <td>NaN</td>\n      <td>NaN</td>\n      <td>NaN</td>\n      <td>I have created a CV or Developer Story on Stac...</td>\n      <td>10.0</td>\n      <td>Desktop; iOS browser; iOS app</td>\n      <td>At least once each week</td>\n      <td>Several times</td>\n      <td>At least once each week</td>\n      <td>Several times</td>\n      <td>At least once each week</td>\n      <td>Several times</td>\n      <td>At least once each day</td>\n      <td>At least once each day</td>\n      <td>Agree</td>\n      <td>Strongly disagree</td>\n      <td>Strongly disagree</td>\n      <td>Strongly agree</td>\n      <td>Strongly agree</td>\n      <td>Agree</td>\n      <td>Strongly agree</td>\n      <td>Disagree</td>\n      <td>Male</td>\n      <td>A doctoral degree</td>\n      <td>White or of European descent</td>\n      <td>Agree</td>\n      <td>Agree</td>\n      <td>Somewhat agree</td>\n      <td>Strongly agree</td>\n      <td>NaN</td>\n      <td>NaN</td>\n    </tr>\n    <tr>\n      <th>5</th>\n      <td>Professional developer</td>\n      <td>Yes, I program as a hobby</td>\n      <td>Switzerland</td>\n      <td>No</td>\n      <td>Employed full-time</td>\n      <td>Master's degree</td>\n      <td>Computer science or software engineering</td>\n      <td>Never</td>\n      <td>10 to 19 employees</td>\n      <td>Privately-held limited company, not in startup...</td>\n      <td>20 or more years</td>\n      <td>10 to 11 years</td>\n      <td>NaN</td>\n      <td>Mobile developer; Graphics programming; Deskto...</td>\n      <td>NaN</td>\n      <td>NaN</td>\n      <td>NaN</td>\n      <td>6.0</td>\n      <td>8.0</td>\n      <td>NaN</td>\n      <td>NaN</td>\n      <td>NaN</td>\n      <td>NaN</td>\n      <td>NaN</td>\n      <td>NaN</td>\n      <td>NaN</td>\n      <td>NaN</td>\n      <td>With a soft \"g,\" like \"jiff\"</td>\n      <td>NaN</td>\n      <td>NaN</td>\n      <td>NaN</td>\n      <td>NaN</td>\n      <td>NaN</td>\n      <td>NaN</td>\n      <td>NaN</td>\n      <td>NaN</td>\n      <td>NaN</td>\n      <td>NaN</td>\n      <td>NaN</td>\n      <td>NaN</td>\n      <td>NaN</td>\n      <td>NaN</td>\n      <td>...</td>\n      <td>Satisfied</td>\n      <td>Satisfied</td>\n      <td>Satisfied</td>\n      <td>NaN</td>\n      <td>NaN</td>\n      <td>NaN</td>\n      <td>NaN</td>\n      <td>NaN</td>\n      <td>NaN</td>\n      <td>NaN</td>\n      <td>NaN</td>\n      <td>NaN</td>\n      <td>NaN</td>\n      <td>NaN</td>\n      <td>NaN</td>\n      <td>NaN</td>\n      <td>NaN</td>\n      <td>NaN</td>\n      <td>NaN</td>\n      <td>NaN</td>\n      <td>NaN</td>\n      <td>NaN</td>\n      <td>NaN</td>\n      <td>NaN</td>\n      <td>NaN</td>\n      <td>NaN</td>\n      <td>NaN</td>\n      <td>NaN</td>\n      <td>NaN</td>\n      <td>NaN</td>\n      <td>NaN</td>\n      <td>NaN</td>\n      <td>NaN</td>\n      <td>NaN</td>\n      <td>NaN</td>\n      <td>NaN</td>\n      <td>NaN</td>\n      <td>NaN</td>\n      <td>NaN</td>\n      <td>NaN</td>\n      <td>NaN</td>\n      <td>NaN</td>\n    </tr>\n  </tbody>\n</table>\n<p>5 rows × 153 columns</p>\n</div>"
     },
     "execution_count": 22,
     "metadata": {},
     "output_type": "execute_result"
    }
   ],
   "source": [
    "df.head()"
   ],
   "metadata": {
    "collapsed": false,
    "ExecuteTime": {
     "end_time": "2023-10-22T08:23:12.915162800Z",
     "start_time": "2023-10-22T08:23:12.877249200Z"
    }
   },
   "id": "5a674410c6f0b273"
  },
  {
   "cell_type": "code",
   "execution_count": 25,
   "outputs": [
    {
     "data": {
      "text/plain": "                                                               Question\nColumn                                                                 \nRespondent                                         Respondent ID number\nProfessional                 Which of the following best describes you?\nProgramHobby          Do you program as a hobby or contribute to ope...\nCountry                         In which country do you currently live?\nUniversity            Are you currently enrolled in a formal, degree...\n...                                                                 ...\nQuestionsInteresting                     The questions were interesting\nQuestionsConfusing                         The questions were confusing\nInterestedAnswers     I'm interested in learning how other developer...\nSalary                What is your current annual base salary, befor...\nExpectedSalary        You said before that you are currently learnin...\n\n[154 rows x 1 columns]",
      "text/html": "<div>\n<style scoped>\n    .dataframe tbody tr th:only-of-type {\n        vertical-align: middle;\n    }\n\n    .dataframe tbody tr th {\n        vertical-align: top;\n    }\n\n    .dataframe thead th {\n        text-align: right;\n    }\n</style>\n<table border=\"1\" class=\"dataframe\">\n  <thead>\n    <tr style=\"text-align: right;\">\n      <th></th>\n      <th>Question</th>\n    </tr>\n    <tr>\n      <th>Column</th>\n      <th></th>\n    </tr>\n  </thead>\n  <tbody>\n    <tr>\n      <th>Respondent</th>\n      <td>Respondent ID number</td>\n    </tr>\n    <tr>\n      <th>Professional</th>\n      <td>Which of the following best describes you?</td>\n    </tr>\n    <tr>\n      <th>ProgramHobby</th>\n      <td>Do you program as a hobby or contribute to ope...</td>\n    </tr>\n    <tr>\n      <th>Country</th>\n      <td>In which country do you currently live?</td>\n    </tr>\n    <tr>\n      <th>University</th>\n      <td>Are you currently enrolled in a formal, degree...</td>\n    </tr>\n    <tr>\n      <th>...</th>\n      <td>...</td>\n    </tr>\n    <tr>\n      <th>QuestionsInteresting</th>\n      <td>The questions were interesting</td>\n    </tr>\n    <tr>\n      <th>QuestionsConfusing</th>\n      <td>The questions were confusing</td>\n    </tr>\n    <tr>\n      <th>InterestedAnswers</th>\n      <td>I'm interested in learning how other developer...</td>\n    </tr>\n    <tr>\n      <th>Salary</th>\n      <td>What is your current annual base salary, befor...</td>\n    </tr>\n    <tr>\n      <th>ExpectedSalary</th>\n      <td>You said before that you are currently learnin...</td>\n    </tr>\n  </tbody>\n</table>\n<p>154 rows × 1 columns</p>\n</div>"
     },
     "execution_count": 25,
     "metadata": {},
     "output_type": "execute_result"
    }
   ],
   "source": [
    "schema_df"
   ],
   "metadata": {
    "collapsed": false,
    "ExecuteTime": {
     "end_time": "2023-10-22T08:24:48.712011800Z",
     "start_time": "2023-10-22T08:24:48.682463200Z"
    }
   },
   "id": "8c72c92208ececca"
  },
  {
   "cell_type": "code",
   "execution_count": 28,
   "outputs": [
    {
     "data": {
      "text/plain": "'In terms of the number of employees, how large is the company or organization you work for?'"
     },
     "execution_count": 28,
     "metadata": {},
     "output_type": "execute_result"
    }
   ],
   "source": [
    "schema_df.loc['CompanySize', 'Question']"
   ],
   "metadata": {
    "collapsed": false,
    "ExecuteTime": {
     "end_time": "2023-10-22T08:27:05.874848200Z",
     "start_time": "2023-10-22T08:27:05.858796400Z"
    }
   },
   "id": "159d1dcdee830b3b"
  },
  {
   "cell_type": "code",
   "execution_count": 30,
   "outputs": [],
   "source": [
    "schema_df.sort_index(inplace=True)"
   ],
   "metadata": {
    "collapsed": false,
    "ExecuteTime": {
     "end_time": "2023-10-22T08:29:00.715089700Z",
     "start_time": "2023-10-22T08:29:00.675545400Z"
    }
   },
   "id": "6f95913ffdccf6a9"
  },
  {
   "cell_type": "code",
   "execution_count": 31,
   "outputs": [
    {
     "data": {
      "text/plain": "                                                                Question\nColumn                                                                  \nAnnoyingUI                      It annoys me when software has a poor UI\nAssessJobCommute       When you're assessing potential jobs to apply ...\nAssessJobCompensation  When you're assessing potential jobs to apply ...\nAssessJobDept          When you're assessing potential jobs to apply ...\nAssessJobDiversity     When you're assessing potential jobs to apply ...\n...                                                                  ...\nWorkPayCare            I don't really care what I work on, so long as...\nWorkStart              Suppose you could choose your own working hour...\nYearsCodedJob          For how many years have you coded as part of y...\nYearsCodedJobPast      For how many years did you code as part of you...\nYearsProgram           How long has it been since you first learned h...\n\n[154 rows x 1 columns]",
      "text/html": "<div>\n<style scoped>\n    .dataframe tbody tr th:only-of-type {\n        vertical-align: middle;\n    }\n\n    .dataframe tbody tr th {\n        vertical-align: top;\n    }\n\n    .dataframe thead th {\n        text-align: right;\n    }\n</style>\n<table border=\"1\" class=\"dataframe\">\n  <thead>\n    <tr style=\"text-align: right;\">\n      <th></th>\n      <th>Question</th>\n    </tr>\n    <tr>\n      <th>Column</th>\n      <th></th>\n    </tr>\n  </thead>\n  <tbody>\n    <tr>\n      <th>AnnoyingUI</th>\n      <td>It annoys me when software has a poor UI</td>\n    </tr>\n    <tr>\n      <th>AssessJobCommute</th>\n      <td>When you're assessing potential jobs to apply ...</td>\n    </tr>\n    <tr>\n      <th>AssessJobCompensation</th>\n      <td>When you're assessing potential jobs to apply ...</td>\n    </tr>\n    <tr>\n      <th>AssessJobDept</th>\n      <td>When you're assessing potential jobs to apply ...</td>\n    </tr>\n    <tr>\n      <th>AssessJobDiversity</th>\n      <td>When you're assessing potential jobs to apply ...</td>\n    </tr>\n    <tr>\n      <th>...</th>\n      <td>...</td>\n    </tr>\n    <tr>\n      <th>WorkPayCare</th>\n      <td>I don't really care what I work on, so long as...</td>\n    </tr>\n    <tr>\n      <th>WorkStart</th>\n      <td>Suppose you could choose your own working hour...</td>\n    </tr>\n    <tr>\n      <th>YearsCodedJob</th>\n      <td>For how many years have you coded as part of y...</td>\n    </tr>\n    <tr>\n      <th>YearsCodedJobPast</th>\n      <td>For how many years did you code as part of you...</td>\n    </tr>\n    <tr>\n      <th>YearsProgram</th>\n      <td>How long has it been since you first learned h...</td>\n    </tr>\n  </tbody>\n</table>\n<p>154 rows × 1 columns</p>\n</div>"
     },
     "execution_count": 31,
     "metadata": {},
     "output_type": "execute_result"
    }
   ],
   "source": [
    "schema_df"
   ],
   "metadata": {
    "collapsed": false,
    "ExecuteTime": {
     "end_time": "2023-10-22T08:29:03.455029500Z",
     "start_time": "2023-10-22T08:29:03.436342800Z"
    }
   },
   "id": "a76f1113bc75b99e"
  },
  {
   "cell_type": "code",
   "execution_count": null,
   "outputs": [],
   "source": [],
   "metadata": {
    "collapsed": false
   },
   "id": "a03eb4b2e4db5f07"
  }
 ],
 "metadata": {
  "kernelspec": {
   "display_name": "Python 3",
   "language": "python",
   "name": "python3"
  },
  "language_info": {
   "codemirror_mode": {
    "name": "ipython",
    "version": 2
   },
   "file_extension": ".py",
   "mimetype": "text/x-python",
   "name": "python",
   "nbconvert_exporter": "python",
   "pygments_lexer": "ipython2",
   "version": "2.7.6"
  }
 },
 "nbformat": 4,
 "nbformat_minor": 5
}
