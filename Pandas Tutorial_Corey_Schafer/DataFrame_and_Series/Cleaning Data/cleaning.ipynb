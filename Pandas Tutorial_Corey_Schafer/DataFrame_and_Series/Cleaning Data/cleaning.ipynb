{
 "cells": [
  {
   "cell_type": "code",
   "execution_count": 2,
   "id": "initial_id",
   "metadata": {
    "collapsed": true,
    "ExecuteTime": {
     "end_time": "2023-10-26T07:01:27.166815600Z",
     "start_time": "2023-10-26T07:01:26.088291900Z"
    }
   },
   "outputs": [],
   "source": [
    "import pandas as pd\n",
    "import numpy as np"
   ]
  },
  {
   "cell_type": "code",
   "execution_count": 3,
   "outputs": [],
   "source": [
    "people = {\n",
    "    'people' : ['Corey', 'Jane', 'John', 'Chris', np.nan, None, 'NA'],\n",
    "    'last' : ['Schafer', 'Doe', 'Doe', 'Schafer', np.nan, np.nan, 'Missing'],\n",
    "    'email' : ['CoreyMschafer@gmail.com', 'JaneDoe@gmail.com', 'JohnDoe@gmail.com', 'ChrisSchafer@gmail.com', None, np.nan, 'Anonymous@gmail.com'],\n",
    "    'age' : ['33', '55', '63', '36', None, None, 'Missing']\n",
    "}"
   ],
   "metadata": {
    "collapsed": false,
    "ExecuteTime": {
     "end_time": "2023-10-26T07:01:27.177010100Z",
     "start_time": "2023-10-26T07:01:27.169815500Z"
    }
   },
   "id": "f8dfedc620c124f1"
  },
  {
   "cell_type": "markdown",
   "source": [
    "### Collecting data"
   ],
   "metadata": {
    "collapsed": false
   },
   "id": "de16068511b8adf1"
  },
  {
   "cell_type": "code",
   "execution_count": 4,
   "outputs": [],
   "source": [
    "df = pd.DataFrame(people)"
   ],
   "metadata": {
    "collapsed": false,
    "ExecuteTime": {
     "end_time": "2023-10-26T07:01:27.211968700Z",
     "start_time": "2023-10-26T07:01:27.178009900Z"
    }
   },
   "id": "e0940e3ad3d7b95d"
  },
  {
   "cell_type": "code",
   "execution_count": 5,
   "outputs": [
    {
     "data": {
      "text/plain": "  people     last                    email      age\n0  Corey  Schafer  CoreyMschafer@gmail.com       33\n1   Jane      Doe        JaneDoe@gmail.com       55\n2   John      Doe        JohnDoe@gmail.com       63\n3  Chris  Schafer   ChrisSchafer@gmail.com       36\n4    NaN      NaN                     None     None\n5   None      NaN                      NaN     None\n6     NA  Missing      Anonymous@gmail.com  Missing",
      "text/html": "<div>\n<style scoped>\n    .dataframe tbody tr th:only-of-type {\n        vertical-align: middle;\n    }\n\n    .dataframe tbody tr th {\n        vertical-align: top;\n    }\n\n    .dataframe thead th {\n        text-align: right;\n    }\n</style>\n<table border=\"1\" class=\"dataframe\">\n  <thead>\n    <tr style=\"text-align: right;\">\n      <th></th>\n      <th>people</th>\n      <th>last</th>\n      <th>email</th>\n      <th>age</th>\n    </tr>\n  </thead>\n  <tbody>\n    <tr>\n      <th>0</th>\n      <td>Corey</td>\n      <td>Schafer</td>\n      <td>CoreyMschafer@gmail.com</td>\n      <td>33</td>\n    </tr>\n    <tr>\n      <th>1</th>\n      <td>Jane</td>\n      <td>Doe</td>\n      <td>JaneDoe@gmail.com</td>\n      <td>55</td>\n    </tr>\n    <tr>\n      <th>2</th>\n      <td>John</td>\n      <td>Doe</td>\n      <td>JohnDoe@gmail.com</td>\n      <td>63</td>\n    </tr>\n    <tr>\n      <th>3</th>\n      <td>Chris</td>\n      <td>Schafer</td>\n      <td>ChrisSchafer@gmail.com</td>\n      <td>36</td>\n    </tr>\n    <tr>\n      <th>4</th>\n      <td>NaN</td>\n      <td>NaN</td>\n      <td>None</td>\n      <td>None</td>\n    </tr>\n    <tr>\n      <th>5</th>\n      <td>None</td>\n      <td>NaN</td>\n      <td>NaN</td>\n      <td>None</td>\n    </tr>\n    <tr>\n      <th>6</th>\n      <td>NA</td>\n      <td>Missing</td>\n      <td>Anonymous@gmail.com</td>\n      <td>Missing</td>\n    </tr>\n  </tbody>\n</table>\n</div>"
     },
     "execution_count": 5,
     "metadata": {},
     "output_type": "execute_result"
    }
   ],
   "source": [
    "df"
   ],
   "metadata": {
    "collapsed": false,
    "ExecuteTime": {
     "end_time": "2023-10-26T07:01:27.253866700Z",
     "start_time": "2023-10-26T07:01:27.199798400Z"
    }
   },
   "id": "18e2a06eb95594ce"
  },
  {
   "cell_type": "markdown",
   "source": [
    "### Data Cleaning"
   ],
   "metadata": {
    "collapsed": false
   },
   "id": "26080d28cf5b7eea"
  },
  {
   "cell_type": "code",
   "execution_count": 6,
   "outputs": [
    {
     "data": {
      "text/plain": "  people     last                    email      age\n0  Corey  Schafer  CoreyMschafer@gmail.com       33\n1   Jane      Doe        JaneDoe@gmail.com       55\n2   John      Doe        JohnDoe@gmail.com       63\n3  Chris  Schafer   ChrisSchafer@gmail.com       36\n6     NA  Missing      Anonymous@gmail.com  Missing",
      "text/html": "<div>\n<style scoped>\n    .dataframe tbody tr th:only-of-type {\n        vertical-align: middle;\n    }\n\n    .dataframe tbody tr th {\n        vertical-align: top;\n    }\n\n    .dataframe thead th {\n        text-align: right;\n    }\n</style>\n<table border=\"1\" class=\"dataframe\">\n  <thead>\n    <tr style=\"text-align: right;\">\n      <th></th>\n      <th>people</th>\n      <th>last</th>\n      <th>email</th>\n      <th>age</th>\n    </tr>\n  </thead>\n  <tbody>\n    <tr>\n      <th>0</th>\n      <td>Corey</td>\n      <td>Schafer</td>\n      <td>CoreyMschafer@gmail.com</td>\n      <td>33</td>\n    </tr>\n    <tr>\n      <th>1</th>\n      <td>Jane</td>\n      <td>Doe</td>\n      <td>JaneDoe@gmail.com</td>\n      <td>55</td>\n    </tr>\n    <tr>\n      <th>2</th>\n      <td>John</td>\n      <td>Doe</td>\n      <td>JohnDoe@gmail.com</td>\n      <td>63</td>\n    </tr>\n    <tr>\n      <th>3</th>\n      <td>Chris</td>\n      <td>Schafer</td>\n      <td>ChrisSchafer@gmail.com</td>\n      <td>36</td>\n    </tr>\n    <tr>\n      <th>6</th>\n      <td>NA</td>\n      <td>Missing</td>\n      <td>Anonymous@gmail.com</td>\n      <td>Missing</td>\n    </tr>\n  </tbody>\n</table>\n</div>"
     },
     "execution_count": 6,
     "metadata": {},
     "output_type": "execute_result"
    }
   ],
   "source": [
    "df.dropna()"
   ],
   "metadata": {
    "collapsed": false,
    "ExecuteTime": {
     "end_time": "2023-10-26T07:01:27.339185500Z",
     "start_time": "2023-10-26T07:01:27.235868400Z"
    }
   },
   "id": "edee9bfd542d7b35"
  },
  {
   "cell_type": "code",
   "execution_count": 7,
   "outputs": [
    {
     "data": {
      "text/plain": "  people     last                    email      age\n0  Corey  Schafer  CoreyMschafer@gmail.com       33\n1   Jane      Doe        JaneDoe@gmail.com       55\n2   John      Doe        JohnDoe@gmail.com       63\n3  Chris  Schafer   ChrisSchafer@gmail.com       36\n6     NA  Missing      Anonymous@gmail.com  Missing",
      "text/html": "<div>\n<style scoped>\n    .dataframe tbody tr th:only-of-type {\n        vertical-align: middle;\n    }\n\n    .dataframe tbody tr th {\n        vertical-align: top;\n    }\n\n    .dataframe thead th {\n        text-align: right;\n    }\n</style>\n<table border=\"1\" class=\"dataframe\">\n  <thead>\n    <tr style=\"text-align: right;\">\n      <th></th>\n      <th>people</th>\n      <th>last</th>\n      <th>email</th>\n      <th>age</th>\n    </tr>\n  </thead>\n  <tbody>\n    <tr>\n      <th>0</th>\n      <td>Corey</td>\n      <td>Schafer</td>\n      <td>CoreyMschafer@gmail.com</td>\n      <td>33</td>\n    </tr>\n    <tr>\n      <th>1</th>\n      <td>Jane</td>\n      <td>Doe</td>\n      <td>JaneDoe@gmail.com</td>\n      <td>55</td>\n    </tr>\n    <tr>\n      <th>2</th>\n      <td>John</td>\n      <td>Doe</td>\n      <td>JohnDoe@gmail.com</td>\n      <td>63</td>\n    </tr>\n    <tr>\n      <th>3</th>\n      <td>Chris</td>\n      <td>Schafer</td>\n      <td>ChrisSchafer@gmail.com</td>\n      <td>36</td>\n    </tr>\n    <tr>\n      <th>6</th>\n      <td>NA</td>\n      <td>Missing</td>\n      <td>Anonymous@gmail.com</td>\n      <td>Missing</td>\n    </tr>\n  </tbody>\n</table>\n</div>"
     },
     "execution_count": 7,
     "metadata": {},
     "output_type": "execute_result"
    }
   ],
   "source": [
    "df.dropna(axis='index', how='any')"
   ],
   "metadata": {
    "collapsed": false,
    "ExecuteTime": {
     "end_time": "2023-10-26T07:01:27.424840500Z",
     "start_time": "2023-10-26T07:01:27.264236700Z"
    }
   },
   "id": "3d7694209f923f93"
  },
  {
   "cell_type": "code",
   "execution_count": 8,
   "outputs": [
    {
     "data": {
      "text/plain": "  people     last                    email      age\n0  Corey  Schafer  CoreyMschafer@gmail.com       33\n1   Jane      Doe        JaneDoe@gmail.com       55\n2   John      Doe        JohnDoe@gmail.com       63\n3  Chris  Schafer   ChrisSchafer@gmail.com       36\n4    NaN      NaN                     None     None\n5   None      NaN                      NaN     None\n6     NA  Missing      Anonymous@gmail.com  Missing",
      "text/html": "<div>\n<style scoped>\n    .dataframe tbody tr th:only-of-type {\n        vertical-align: middle;\n    }\n\n    .dataframe tbody tr th {\n        vertical-align: top;\n    }\n\n    .dataframe thead th {\n        text-align: right;\n    }\n</style>\n<table border=\"1\" class=\"dataframe\">\n  <thead>\n    <tr style=\"text-align: right;\">\n      <th></th>\n      <th>people</th>\n      <th>last</th>\n      <th>email</th>\n      <th>age</th>\n    </tr>\n  </thead>\n  <tbody>\n    <tr>\n      <th>0</th>\n      <td>Corey</td>\n      <td>Schafer</td>\n      <td>CoreyMschafer@gmail.com</td>\n      <td>33</td>\n    </tr>\n    <tr>\n      <th>1</th>\n      <td>Jane</td>\n      <td>Doe</td>\n      <td>JaneDoe@gmail.com</td>\n      <td>55</td>\n    </tr>\n    <tr>\n      <th>2</th>\n      <td>John</td>\n      <td>Doe</td>\n      <td>JohnDoe@gmail.com</td>\n      <td>63</td>\n    </tr>\n    <tr>\n      <th>3</th>\n      <td>Chris</td>\n      <td>Schafer</td>\n      <td>ChrisSchafer@gmail.com</td>\n      <td>36</td>\n    </tr>\n    <tr>\n      <th>4</th>\n      <td>NaN</td>\n      <td>NaN</td>\n      <td>None</td>\n      <td>None</td>\n    </tr>\n    <tr>\n      <th>5</th>\n      <td>None</td>\n      <td>NaN</td>\n      <td>NaN</td>\n      <td>None</td>\n    </tr>\n    <tr>\n      <th>6</th>\n      <td>NA</td>\n      <td>Missing</td>\n      <td>Anonymous@gmail.com</td>\n      <td>Missing</td>\n    </tr>\n  </tbody>\n</table>\n</div>"
     },
     "execution_count": 8,
     "metadata": {},
     "output_type": "execute_result"
    }
   ],
   "source": [
    "df.dropna(axis='columns', how='all')"
   ],
   "metadata": {
    "collapsed": false,
    "ExecuteTime": {
     "end_time": "2023-10-26T07:01:27.453950400Z",
     "start_time": "2023-10-26T07:01:27.290127500Z"
    }
   },
   "id": "64062f895e1ce59c"
  },
  {
   "cell_type": "code",
   "execution_count": 9,
   "outputs": [
    {
     "data": {
      "text/plain": "Empty DataFrame\nColumns: []\nIndex: [0, 1, 2, 3, 4, 5, 6]",
      "text/html": "<div>\n<style scoped>\n    .dataframe tbody tr th:only-of-type {\n        vertical-align: middle;\n    }\n\n    .dataframe tbody tr th {\n        vertical-align: top;\n    }\n\n    .dataframe thead th {\n        text-align: right;\n    }\n</style>\n<table border=\"1\" class=\"dataframe\">\n  <thead>\n    <tr style=\"text-align: right;\">\n      <th></th>\n    </tr>\n  </thead>\n  <tbody>\n    <tr>\n      <th>0</th>\n    </tr>\n    <tr>\n      <th>1</th>\n    </tr>\n    <tr>\n      <th>2</th>\n    </tr>\n    <tr>\n      <th>3</th>\n    </tr>\n    <tr>\n      <th>4</th>\n    </tr>\n    <tr>\n      <th>5</th>\n    </tr>\n    <tr>\n      <th>6</th>\n    </tr>\n  </tbody>\n</table>\n</div>"
     },
     "execution_count": 9,
     "metadata": {},
     "output_type": "execute_result"
    }
   ],
   "source": [
    "df.dropna(axis='columns', how='any')"
   ],
   "metadata": {
    "collapsed": false,
    "ExecuteTime": {
     "end_time": "2023-10-26T07:01:27.455948900Z",
     "start_time": "2023-10-26T07:01:27.312100500Z"
    }
   },
   "id": "1f542cbe8f903541"
  },
  {
   "cell_type": "code",
   "execution_count": 10,
   "outputs": [
    {
     "data": {
      "text/plain": "  people     last                    email      age\n0  Corey  Schafer  CoreyMschafer@gmail.com       33\n1   Jane      Doe        JaneDoe@gmail.com       55\n2   John      Doe        JohnDoe@gmail.com       63\n3  Chris  Schafer   ChrisSchafer@gmail.com       36\n6     NA  Missing      Anonymous@gmail.com  Missing",
      "text/html": "<div>\n<style scoped>\n    .dataframe tbody tr th:only-of-type {\n        vertical-align: middle;\n    }\n\n    .dataframe tbody tr th {\n        vertical-align: top;\n    }\n\n    .dataframe thead th {\n        text-align: right;\n    }\n</style>\n<table border=\"1\" class=\"dataframe\">\n  <thead>\n    <tr style=\"text-align: right;\">\n      <th></th>\n      <th>people</th>\n      <th>last</th>\n      <th>email</th>\n      <th>age</th>\n    </tr>\n  </thead>\n  <tbody>\n    <tr>\n      <th>0</th>\n      <td>Corey</td>\n      <td>Schafer</td>\n      <td>CoreyMschafer@gmail.com</td>\n      <td>33</td>\n    </tr>\n    <tr>\n      <th>1</th>\n      <td>Jane</td>\n      <td>Doe</td>\n      <td>JaneDoe@gmail.com</td>\n      <td>55</td>\n    </tr>\n    <tr>\n      <th>2</th>\n      <td>John</td>\n      <td>Doe</td>\n      <td>JohnDoe@gmail.com</td>\n      <td>63</td>\n    </tr>\n    <tr>\n      <th>3</th>\n      <td>Chris</td>\n      <td>Schafer</td>\n      <td>ChrisSchafer@gmail.com</td>\n      <td>36</td>\n    </tr>\n    <tr>\n      <th>6</th>\n      <td>NA</td>\n      <td>Missing</td>\n      <td>Anonymous@gmail.com</td>\n      <td>Missing</td>\n    </tr>\n  </tbody>\n</table>\n</div>"
     },
     "execution_count": 10,
     "metadata": {},
     "output_type": "execute_result"
    }
   ],
   "source": [
    "df.dropna(axis='index', how='any', subset=['email'])"
   ],
   "metadata": {
    "collapsed": false,
    "ExecuteTime": {
     "end_time": "2023-10-26T07:01:27.461948500Z",
     "start_time": "2023-10-26T07:01:27.332448500Z"
    }
   },
   "id": "d34f5338295c6de4"
  },
  {
   "cell_type": "code",
   "execution_count": 11,
   "outputs": [
    {
     "data": {
      "text/plain": "  people     last                    email      age\n0  Corey  Schafer  CoreyMschafer@gmail.com       33\n1   Jane      Doe        JaneDoe@gmail.com       55\n2   John      Doe        JohnDoe@gmail.com       63\n3  Chris  Schafer   ChrisSchafer@gmail.com       36\n6     NA  Missing      Anonymous@gmail.com  Missing",
      "text/html": "<div>\n<style scoped>\n    .dataframe tbody tr th:only-of-type {\n        vertical-align: middle;\n    }\n\n    .dataframe tbody tr th {\n        vertical-align: top;\n    }\n\n    .dataframe thead th {\n        text-align: right;\n    }\n</style>\n<table border=\"1\" class=\"dataframe\">\n  <thead>\n    <tr style=\"text-align: right;\">\n      <th></th>\n      <th>people</th>\n      <th>last</th>\n      <th>email</th>\n      <th>age</th>\n    </tr>\n  </thead>\n  <tbody>\n    <tr>\n      <th>0</th>\n      <td>Corey</td>\n      <td>Schafer</td>\n      <td>CoreyMschafer@gmail.com</td>\n      <td>33</td>\n    </tr>\n    <tr>\n      <th>1</th>\n      <td>Jane</td>\n      <td>Doe</td>\n      <td>JaneDoe@gmail.com</td>\n      <td>55</td>\n    </tr>\n    <tr>\n      <th>2</th>\n      <td>John</td>\n      <td>Doe</td>\n      <td>JohnDoe@gmail.com</td>\n      <td>63</td>\n    </tr>\n    <tr>\n      <th>3</th>\n      <td>Chris</td>\n      <td>Schafer</td>\n      <td>ChrisSchafer@gmail.com</td>\n      <td>36</td>\n    </tr>\n    <tr>\n      <th>6</th>\n      <td>NA</td>\n      <td>Missing</td>\n      <td>Anonymous@gmail.com</td>\n      <td>Missing</td>\n    </tr>\n  </tbody>\n</table>\n</div>"
     },
     "execution_count": 11,
     "metadata": {},
     "output_type": "execute_result"
    }
   ],
   "source": [
    "df.dropna(axis='index', how='all', subset=['last','email'])"
   ],
   "metadata": {
    "collapsed": false,
    "ExecuteTime": {
     "end_time": "2023-10-26T07:01:27.463952900Z",
     "start_time": "2023-10-26T07:01:27.355745300Z"
    }
   },
   "id": "1b32daa734c00c3d"
  },
  {
   "cell_type": "code",
   "execution_count": 12,
   "outputs": [
    {
     "data": {
      "text/plain": "  people     last                    email      age\n0  Corey  Schafer  CoreyMschafer@gmail.com       33\n1   Jane      Doe        JaneDoe@gmail.com       55\n2   John      Doe        JohnDoe@gmail.com       63\n3  Chris  Schafer   ChrisSchafer@gmail.com       36\n6     NA  Missing      Anonymous@gmail.com  Missing",
      "text/html": "<div>\n<style scoped>\n    .dataframe tbody tr th:only-of-type {\n        vertical-align: middle;\n    }\n\n    .dataframe tbody tr th {\n        vertical-align: top;\n    }\n\n    .dataframe thead th {\n        text-align: right;\n    }\n</style>\n<table border=\"1\" class=\"dataframe\">\n  <thead>\n    <tr style=\"text-align: right;\">\n      <th></th>\n      <th>people</th>\n      <th>last</th>\n      <th>email</th>\n      <th>age</th>\n    </tr>\n  </thead>\n  <tbody>\n    <tr>\n      <th>0</th>\n      <td>Corey</td>\n      <td>Schafer</td>\n      <td>CoreyMschafer@gmail.com</td>\n      <td>33</td>\n    </tr>\n    <tr>\n      <th>1</th>\n      <td>Jane</td>\n      <td>Doe</td>\n      <td>JaneDoe@gmail.com</td>\n      <td>55</td>\n    </tr>\n    <tr>\n      <th>2</th>\n      <td>John</td>\n      <td>Doe</td>\n      <td>JohnDoe@gmail.com</td>\n      <td>63</td>\n    </tr>\n    <tr>\n      <th>3</th>\n      <td>Chris</td>\n      <td>Schafer</td>\n      <td>ChrisSchafer@gmail.com</td>\n      <td>36</td>\n    </tr>\n    <tr>\n      <th>6</th>\n      <td>NA</td>\n      <td>Missing</td>\n      <td>Anonymous@gmail.com</td>\n      <td>Missing</td>\n    </tr>\n  </tbody>\n</table>\n</div>"
     },
     "execution_count": 12,
     "metadata": {},
     "output_type": "execute_result"
    }
   ],
   "source": [
    "df.dropna(axis='index', how='all', subset=['last', 'email'])"
   ],
   "metadata": {
    "collapsed": false,
    "ExecuteTime": {
     "end_time": "2023-10-26T07:01:27.482948700Z",
     "start_time": "2023-10-26T07:01:27.372203Z"
    }
   },
   "id": "efb90124dc5e3da6"
  },
  {
   "cell_type": "code",
   "execution_count": 13,
   "outputs": [],
   "source": [
    "df = pd.DataFrame(people)"
   ],
   "metadata": {
    "collapsed": false,
    "ExecuteTime": {
     "end_time": "2023-10-26T07:01:27.517252100Z",
     "start_time": "2023-10-26T07:01:27.403936500Z"
    }
   },
   "id": "84711131227f7903"
  },
  {
   "cell_type": "code",
   "execution_count": 14,
   "outputs": [
    {
     "data": {
      "text/plain": "  people     last                    email      age\n0  Corey  Schafer  CoreyMschafer@gmail.com       33\n1   Jane      Doe        JaneDoe@gmail.com       55\n2   John      Doe        JohnDoe@gmail.com       63\n3  Chris  Schafer   ChrisSchafer@gmail.com       36\n4    NaN      NaN                     None     None\n5   None      NaN                      NaN     None\n6     NA  Missing      Anonymous@gmail.com  Missing",
      "text/html": "<div>\n<style scoped>\n    .dataframe tbody tr th:only-of-type {\n        vertical-align: middle;\n    }\n\n    .dataframe tbody tr th {\n        vertical-align: top;\n    }\n\n    .dataframe thead th {\n        text-align: right;\n    }\n</style>\n<table border=\"1\" class=\"dataframe\">\n  <thead>\n    <tr style=\"text-align: right;\">\n      <th></th>\n      <th>people</th>\n      <th>last</th>\n      <th>email</th>\n      <th>age</th>\n    </tr>\n  </thead>\n  <tbody>\n    <tr>\n      <th>0</th>\n      <td>Corey</td>\n      <td>Schafer</td>\n      <td>CoreyMschafer@gmail.com</td>\n      <td>33</td>\n    </tr>\n    <tr>\n      <th>1</th>\n      <td>Jane</td>\n      <td>Doe</td>\n      <td>JaneDoe@gmail.com</td>\n      <td>55</td>\n    </tr>\n    <tr>\n      <th>2</th>\n      <td>John</td>\n      <td>Doe</td>\n      <td>JohnDoe@gmail.com</td>\n      <td>63</td>\n    </tr>\n    <tr>\n      <th>3</th>\n      <td>Chris</td>\n      <td>Schafer</td>\n      <td>ChrisSchafer@gmail.com</td>\n      <td>36</td>\n    </tr>\n    <tr>\n      <th>4</th>\n      <td>NaN</td>\n      <td>NaN</td>\n      <td>None</td>\n      <td>None</td>\n    </tr>\n    <tr>\n      <th>5</th>\n      <td>None</td>\n      <td>NaN</td>\n      <td>NaN</td>\n      <td>None</td>\n    </tr>\n    <tr>\n      <th>6</th>\n      <td>NA</td>\n      <td>Missing</td>\n      <td>Anonymous@gmail.com</td>\n      <td>Missing</td>\n    </tr>\n  </tbody>\n</table>\n</div>"
     },
     "execution_count": 14,
     "metadata": {},
     "output_type": "execute_result"
    }
   ],
   "source": [
    "df"
   ],
   "metadata": {
    "collapsed": false,
    "ExecuteTime": {
     "end_time": "2023-10-26T07:01:33.813487800Z",
     "start_time": "2023-10-26T07:01:33.767235400Z"
    }
   },
   "id": "e16146d23959712"
  },
  {
   "cell_type": "code",
   "execution_count": 15,
   "outputs": [],
   "source": [
    "df.replace('NA', np.nan, inplace=True)\n",
    "df.replace('Missing', np.nan, inplace=True)"
   ],
   "metadata": {
    "collapsed": false,
    "ExecuteTime": {
     "end_time": "2023-10-26T07:02:43.362675700Z",
     "start_time": "2023-10-26T07:02:43.313607Z"
    }
   },
   "id": "b2f2adbcf3b26bdd"
  },
  {
   "cell_type": "code",
   "execution_count": 16,
   "outputs": [
    {
     "data": {
      "text/plain": "  people     last                    email   age\n0  Corey  Schafer  CoreyMschafer@gmail.com    33\n1   Jane      Doe        JaneDoe@gmail.com    55\n2   John      Doe        JohnDoe@gmail.com    63\n3  Chris  Schafer   ChrisSchafer@gmail.com    36\n4    NaN      NaN                     None  None\n5   None      NaN                      NaN  None\n6    NaN      NaN      Anonymous@gmail.com   NaN",
      "text/html": "<div>\n<style scoped>\n    .dataframe tbody tr th:only-of-type {\n        vertical-align: middle;\n    }\n\n    .dataframe tbody tr th {\n        vertical-align: top;\n    }\n\n    .dataframe thead th {\n        text-align: right;\n    }\n</style>\n<table border=\"1\" class=\"dataframe\">\n  <thead>\n    <tr style=\"text-align: right;\">\n      <th></th>\n      <th>people</th>\n      <th>last</th>\n      <th>email</th>\n      <th>age</th>\n    </tr>\n  </thead>\n  <tbody>\n    <tr>\n      <th>0</th>\n      <td>Corey</td>\n      <td>Schafer</td>\n      <td>CoreyMschafer@gmail.com</td>\n      <td>33</td>\n    </tr>\n    <tr>\n      <th>1</th>\n      <td>Jane</td>\n      <td>Doe</td>\n      <td>JaneDoe@gmail.com</td>\n      <td>55</td>\n    </tr>\n    <tr>\n      <th>2</th>\n      <td>John</td>\n      <td>Doe</td>\n      <td>JohnDoe@gmail.com</td>\n      <td>63</td>\n    </tr>\n    <tr>\n      <th>3</th>\n      <td>Chris</td>\n      <td>Schafer</td>\n      <td>ChrisSchafer@gmail.com</td>\n      <td>36</td>\n    </tr>\n    <tr>\n      <th>4</th>\n      <td>NaN</td>\n      <td>NaN</td>\n      <td>None</td>\n      <td>None</td>\n    </tr>\n    <tr>\n      <th>5</th>\n      <td>None</td>\n      <td>NaN</td>\n      <td>NaN</td>\n      <td>None</td>\n    </tr>\n    <tr>\n      <th>6</th>\n      <td>NaN</td>\n      <td>NaN</td>\n      <td>Anonymous@gmail.com</td>\n      <td>NaN</td>\n    </tr>\n  </tbody>\n</table>\n</div>"
     },
     "execution_count": 16,
     "metadata": {},
     "output_type": "execute_result"
    }
   ],
   "source": [
    "df"
   ],
   "metadata": {
    "collapsed": false,
    "ExecuteTime": {
     "end_time": "2023-10-26T07:02:44.722251300Z",
     "start_time": "2023-10-26T07:02:44.692345400Z"
    }
   },
   "id": "66a77121d23ce0ef"
  },
  {
   "cell_type": "code",
   "execution_count": 17,
   "outputs": [
    {
     "data": {
      "text/plain": "  people     last                    email age\n0  Corey  Schafer  CoreyMschafer@gmail.com  33\n1   Jane      Doe        JaneDoe@gmail.com  55\n2   John      Doe        JohnDoe@gmail.com  63\n3  Chris  Schafer   ChrisSchafer@gmail.com  36",
      "text/html": "<div>\n<style scoped>\n    .dataframe tbody tr th:only-of-type {\n        vertical-align: middle;\n    }\n\n    .dataframe tbody tr th {\n        vertical-align: top;\n    }\n\n    .dataframe thead th {\n        text-align: right;\n    }\n</style>\n<table border=\"1\" class=\"dataframe\">\n  <thead>\n    <tr style=\"text-align: right;\">\n      <th></th>\n      <th>people</th>\n      <th>last</th>\n      <th>email</th>\n      <th>age</th>\n    </tr>\n  </thead>\n  <tbody>\n    <tr>\n      <th>0</th>\n      <td>Corey</td>\n      <td>Schafer</td>\n      <td>CoreyMschafer@gmail.com</td>\n      <td>33</td>\n    </tr>\n    <tr>\n      <th>1</th>\n      <td>Jane</td>\n      <td>Doe</td>\n      <td>JaneDoe@gmail.com</td>\n      <td>55</td>\n    </tr>\n    <tr>\n      <th>2</th>\n      <td>John</td>\n      <td>Doe</td>\n      <td>JohnDoe@gmail.com</td>\n      <td>63</td>\n    </tr>\n    <tr>\n      <th>3</th>\n      <td>Chris</td>\n      <td>Schafer</td>\n      <td>ChrisSchafer@gmail.com</td>\n      <td>36</td>\n    </tr>\n  </tbody>\n</table>\n</div>"
     },
     "execution_count": 17,
     "metadata": {},
     "output_type": "execute_result"
    }
   ],
   "source": [
    "df.dropna()"
   ],
   "metadata": {
    "collapsed": false,
    "ExecuteTime": {
     "end_time": "2023-10-26T07:03:10.113647600Z",
     "start_time": "2023-10-26T07:03:10.044141100Z"
    }
   },
   "id": "b3a2896921a5440e"
  },
  {
   "cell_type": "code",
   "execution_count": 20,
   "outputs": [],
   "source": [
    "df.dropna(axis='index', how='all', subset=['last', 'email'], inplace=True)"
   ],
   "metadata": {
    "collapsed": false,
    "ExecuteTime": {
     "end_time": "2023-10-26T07:04:51.808771300Z",
     "start_time": "2023-10-26T07:04:51.775949200Z"
    }
   },
   "id": "b485152cbf2515f8"
  },
  {
   "cell_type": "code",
   "execution_count": 21,
   "outputs": [
    {
     "data": {
      "text/plain": "   people   last  email    age\n0   False  False  False  False\n1   False  False  False  False\n2   False  False  False  False\n3   False  False  False  False\n6    True   True  False   True",
      "text/html": "<div>\n<style scoped>\n    .dataframe tbody tr th:only-of-type {\n        vertical-align: middle;\n    }\n\n    .dataframe tbody tr th {\n        vertical-align: top;\n    }\n\n    .dataframe thead th {\n        text-align: right;\n    }\n</style>\n<table border=\"1\" class=\"dataframe\">\n  <thead>\n    <tr style=\"text-align: right;\">\n      <th></th>\n      <th>people</th>\n      <th>last</th>\n      <th>email</th>\n      <th>age</th>\n    </tr>\n  </thead>\n  <tbody>\n    <tr>\n      <th>0</th>\n      <td>False</td>\n      <td>False</td>\n      <td>False</td>\n      <td>False</td>\n    </tr>\n    <tr>\n      <th>1</th>\n      <td>False</td>\n      <td>False</td>\n      <td>False</td>\n      <td>False</td>\n    </tr>\n    <tr>\n      <th>2</th>\n      <td>False</td>\n      <td>False</td>\n      <td>False</td>\n      <td>False</td>\n    </tr>\n    <tr>\n      <th>3</th>\n      <td>False</td>\n      <td>False</td>\n      <td>False</td>\n      <td>False</td>\n    </tr>\n    <tr>\n      <th>6</th>\n      <td>True</td>\n      <td>True</td>\n      <td>False</td>\n      <td>True</td>\n    </tr>\n  </tbody>\n</table>\n</div>"
     },
     "execution_count": 21,
     "metadata": {},
     "output_type": "execute_result"
    }
   ],
   "source": [
    "df.isna()"
   ],
   "metadata": {
    "collapsed": false,
    "ExecuteTime": {
     "end_time": "2023-10-26T07:05:06.963161900Z",
     "start_time": "2023-10-26T07:05:06.944622700Z"
    }
   },
   "id": "9a8c5235cdc565ef"
  },
  {
   "cell_type": "code",
   "execution_count": 22,
   "outputs": [
    {
     "data": {
      "text/plain": "    people     last                    email      age\n0    Corey  Schafer  CoreyMschafer@gmail.com       33\n1     Jane      Doe        JaneDoe@gmail.com       55\n2     John      Doe        JohnDoe@gmail.com       63\n3    Chris  Schafer   ChrisSchafer@gmail.com       36\n6  MISSING  MISSING      Anonymous@gmail.com  MISSING",
      "text/html": "<div>\n<style scoped>\n    .dataframe tbody tr th:only-of-type {\n        vertical-align: middle;\n    }\n\n    .dataframe tbody tr th {\n        vertical-align: top;\n    }\n\n    .dataframe thead th {\n        text-align: right;\n    }\n</style>\n<table border=\"1\" class=\"dataframe\">\n  <thead>\n    <tr style=\"text-align: right;\">\n      <th></th>\n      <th>people</th>\n      <th>last</th>\n      <th>email</th>\n      <th>age</th>\n    </tr>\n  </thead>\n  <tbody>\n    <tr>\n      <th>0</th>\n      <td>Corey</td>\n      <td>Schafer</td>\n      <td>CoreyMschafer@gmail.com</td>\n      <td>33</td>\n    </tr>\n    <tr>\n      <th>1</th>\n      <td>Jane</td>\n      <td>Doe</td>\n      <td>JaneDoe@gmail.com</td>\n      <td>55</td>\n    </tr>\n    <tr>\n      <th>2</th>\n      <td>John</td>\n      <td>Doe</td>\n      <td>JohnDoe@gmail.com</td>\n      <td>63</td>\n    </tr>\n    <tr>\n      <th>3</th>\n      <td>Chris</td>\n      <td>Schafer</td>\n      <td>ChrisSchafer@gmail.com</td>\n      <td>36</td>\n    </tr>\n    <tr>\n      <th>6</th>\n      <td>MISSING</td>\n      <td>MISSING</td>\n      <td>Anonymous@gmail.com</td>\n      <td>MISSING</td>\n    </tr>\n  </tbody>\n</table>\n</div>"
     },
     "execution_count": 22,
     "metadata": {},
     "output_type": "execute_result"
    }
   ],
   "source": [
    "df.fillna('MISSING')"
   ],
   "metadata": {
    "collapsed": false,
    "ExecuteTime": {
     "end_time": "2023-10-26T07:05:18.366906400Z",
     "start_time": "2023-10-26T07:05:18.314470400Z"
    }
   },
   "id": "978904d6acf80439"
  },
  {
   "cell_type": "code",
   "execution_count": 23,
   "outputs": [],
   "source": [
    "df = pd.DataFrame(people)"
   ],
   "metadata": {
    "collapsed": false,
    "ExecuteTime": {
     "end_time": "2023-10-26T07:06:17.770708700Z",
     "start_time": "2023-10-26T07:06:17.593968200Z"
    }
   },
   "id": "6a48969ec30eb7f5"
  },
  {
   "cell_type": "code",
   "execution_count": 24,
   "outputs": [
    {
     "data": {
      "text/plain": "  people     last                    email      age\n0  Corey  Schafer  CoreyMschafer@gmail.com       33\n1   Jane      Doe        JaneDoe@gmail.com       55\n2   John      Doe        JohnDoe@gmail.com       63\n3  Chris  Schafer   ChrisSchafer@gmail.com       36\n4    NaN      NaN                     None     None\n5   None      NaN                      NaN     None\n6     NA  Missing      Anonymous@gmail.com  Missing",
      "text/html": "<div>\n<style scoped>\n    .dataframe tbody tr th:only-of-type {\n        vertical-align: middle;\n    }\n\n    .dataframe tbody tr th {\n        vertical-align: top;\n    }\n\n    .dataframe thead th {\n        text-align: right;\n    }\n</style>\n<table border=\"1\" class=\"dataframe\">\n  <thead>\n    <tr style=\"text-align: right;\">\n      <th></th>\n      <th>people</th>\n      <th>last</th>\n      <th>email</th>\n      <th>age</th>\n    </tr>\n  </thead>\n  <tbody>\n    <tr>\n      <th>0</th>\n      <td>Corey</td>\n      <td>Schafer</td>\n      <td>CoreyMschafer@gmail.com</td>\n      <td>33</td>\n    </tr>\n    <tr>\n      <th>1</th>\n      <td>Jane</td>\n      <td>Doe</td>\n      <td>JaneDoe@gmail.com</td>\n      <td>55</td>\n    </tr>\n    <tr>\n      <th>2</th>\n      <td>John</td>\n      <td>Doe</td>\n      <td>JohnDoe@gmail.com</td>\n      <td>63</td>\n    </tr>\n    <tr>\n      <th>3</th>\n      <td>Chris</td>\n      <td>Schafer</td>\n      <td>ChrisSchafer@gmail.com</td>\n      <td>36</td>\n    </tr>\n    <tr>\n      <th>4</th>\n      <td>NaN</td>\n      <td>NaN</td>\n      <td>None</td>\n      <td>None</td>\n    </tr>\n    <tr>\n      <th>5</th>\n      <td>None</td>\n      <td>NaN</td>\n      <td>NaN</td>\n      <td>None</td>\n    </tr>\n    <tr>\n      <th>6</th>\n      <td>NA</td>\n      <td>Missing</td>\n      <td>Anonymous@gmail.com</td>\n      <td>Missing</td>\n    </tr>\n  </tbody>\n</table>\n</div>"
     },
     "execution_count": 24,
     "metadata": {},
     "output_type": "execute_result"
    }
   ],
   "source": [
    "df"
   ],
   "metadata": {
    "collapsed": false,
    "ExecuteTime": {
     "end_time": "2023-10-26T07:06:21.679936200Z",
     "start_time": "2023-10-26T07:06:21.655084600Z"
    }
   },
   "id": "e4f934eca89ae801"
  },
  {
   "cell_type": "code",
   "execution_count": 25,
   "outputs": [
    {
     "data": {
      "text/plain": "  people     last                    email      age\n0  Corey  Schafer  CoreyMschafer@gmail.com       33\n1   Jane      Doe        JaneDoe@gmail.com       55\n2   John      Doe        JohnDoe@gmail.com       63\n3  Chris  Schafer   ChrisSchafer@gmail.com       36\n4      0        0                        0        0\n5      0        0                        0        0\n6     NA  Missing      Anonymous@gmail.com  Missing",
      "text/html": "<div>\n<style scoped>\n    .dataframe tbody tr th:only-of-type {\n        vertical-align: middle;\n    }\n\n    .dataframe tbody tr th {\n        vertical-align: top;\n    }\n\n    .dataframe thead th {\n        text-align: right;\n    }\n</style>\n<table border=\"1\" class=\"dataframe\">\n  <thead>\n    <tr style=\"text-align: right;\">\n      <th></th>\n      <th>people</th>\n      <th>last</th>\n      <th>email</th>\n      <th>age</th>\n    </tr>\n  </thead>\n  <tbody>\n    <tr>\n      <th>0</th>\n      <td>Corey</td>\n      <td>Schafer</td>\n      <td>CoreyMschafer@gmail.com</td>\n      <td>33</td>\n    </tr>\n    <tr>\n      <th>1</th>\n      <td>Jane</td>\n      <td>Doe</td>\n      <td>JaneDoe@gmail.com</td>\n      <td>55</td>\n    </tr>\n    <tr>\n      <th>2</th>\n      <td>John</td>\n      <td>Doe</td>\n      <td>JohnDoe@gmail.com</td>\n      <td>63</td>\n    </tr>\n    <tr>\n      <th>3</th>\n      <td>Chris</td>\n      <td>Schafer</td>\n      <td>ChrisSchafer@gmail.com</td>\n      <td>36</td>\n    </tr>\n    <tr>\n      <th>4</th>\n      <td>0</td>\n      <td>0</td>\n      <td>0</td>\n      <td>0</td>\n    </tr>\n    <tr>\n      <th>5</th>\n      <td>0</td>\n      <td>0</td>\n      <td>0</td>\n      <td>0</td>\n    </tr>\n    <tr>\n      <th>6</th>\n      <td>NA</td>\n      <td>Missing</td>\n      <td>Anonymous@gmail.com</td>\n      <td>Missing</td>\n    </tr>\n  </tbody>\n</table>\n</div>"
     },
     "execution_count": 25,
     "metadata": {},
     "output_type": "execute_result"
    }
   ],
   "source": [
    "df.fillna(0)"
   ],
   "metadata": {
    "collapsed": false,
    "ExecuteTime": {
     "end_time": "2023-10-26T07:06:45.546569Z",
     "start_time": "2023-10-26T07:06:45.492611900Z"
    }
   },
   "id": "6638c6df353a225e"
  },
  {
   "cell_type": "code",
   "execution_count": 26,
   "outputs": [
    {
     "data": {
      "text/plain": "people    object\nlast      object\nemail     object\nage       object\ndtype: object"
     },
     "execution_count": 26,
     "metadata": {},
     "output_type": "execute_result"
    }
   ],
   "source": [
    "df.dtypes"
   ],
   "metadata": {
    "collapsed": false,
    "ExecuteTime": {
     "end_time": "2023-10-26T07:06:55.255214Z",
     "start_time": "2023-10-26T07:06:55.219615400Z"
    }
   },
   "id": "990861baacb582e4"
  },
  {
   "cell_type": "code",
   "execution_count": 28,
   "outputs": [
    {
     "data": {
      "text/plain": "0         33\n1         55\n2         63\n3         36\n4       None\n5       None\n6    Missing\nName: age, dtype: object"
     },
     "execution_count": 28,
     "metadata": {},
     "output_type": "execute_result"
    }
   ],
   "source": [
    "df['age']"
   ],
   "metadata": {
    "collapsed": false,
    "ExecuteTime": {
     "end_time": "2023-10-26T07:08:15.647864700Z",
     "start_time": "2023-10-26T07:08:15.625200100Z"
    }
   },
   "id": "392c110a432b94a2"
  },
  {
   "cell_type": "code",
   "execution_count": 30,
   "outputs": [
    {
     "data": {
      "text/plain": "float"
     },
     "execution_count": 30,
     "metadata": {},
     "output_type": "execute_result"
    }
   ],
   "source": [
    "type(np.nan)"
   ],
   "metadata": {
    "collapsed": false,
    "ExecuteTime": {
     "end_time": "2023-10-26T07:08:47.505734300Z",
     "start_time": "2023-10-26T07:08:47.480631800Z"
    }
   },
   "id": "9c8dc15de0d00951"
  },
  {
   "cell_type": "code",
   "execution_count": 31,
   "outputs": [
    {
     "ename": "ValueError",
     "evalue": "could not convert string to float: 'Missing'",
     "output_type": "error",
     "traceback": [
      "\u001B[1;31m---------------------------------------------------------------------------\u001B[0m",
      "\u001B[1;31mValueError\u001B[0m                                Traceback (most recent call last)",
      "Cell \u001B[1;32mIn[31], line 1\u001B[0m\n\u001B[1;32m----> 1\u001B[0m df[\u001B[38;5;124m'\u001B[39m\u001B[38;5;124mage\u001B[39m\u001B[38;5;124m'\u001B[39m] \u001B[38;5;241m=\u001B[39m df[\u001B[38;5;124m'\u001B[39m\u001B[38;5;124mage\u001B[39m\u001B[38;5;124m'\u001B[39m]\u001B[38;5;241m.\u001B[39mastype(\u001B[38;5;28mfloat\u001B[39m)\n",
      "File \u001B[1;32m~\\anaconda3\\Lib\\site-packages\\pandas\\core\\generic.py:6240\u001B[0m, in \u001B[0;36mNDFrame.astype\u001B[1;34m(self, dtype, copy, errors)\u001B[0m\n\u001B[0;32m   6233\u001B[0m     results \u001B[38;5;241m=\u001B[39m [\n\u001B[0;32m   6234\u001B[0m         \u001B[38;5;28mself\u001B[39m\u001B[38;5;241m.\u001B[39miloc[:, i]\u001B[38;5;241m.\u001B[39mastype(dtype, copy\u001B[38;5;241m=\u001B[39mcopy)\n\u001B[0;32m   6235\u001B[0m         \u001B[38;5;28;01mfor\u001B[39;00m i \u001B[38;5;129;01min\u001B[39;00m \u001B[38;5;28mrange\u001B[39m(\u001B[38;5;28mlen\u001B[39m(\u001B[38;5;28mself\u001B[39m\u001B[38;5;241m.\u001B[39mcolumns))\n\u001B[0;32m   6236\u001B[0m     ]\n\u001B[0;32m   6238\u001B[0m \u001B[38;5;28;01melse\u001B[39;00m:\n\u001B[0;32m   6239\u001B[0m     \u001B[38;5;66;03m# else, only a single dtype is given\u001B[39;00m\n\u001B[1;32m-> 6240\u001B[0m     new_data \u001B[38;5;241m=\u001B[39m \u001B[38;5;28mself\u001B[39m\u001B[38;5;241m.\u001B[39m_mgr\u001B[38;5;241m.\u001B[39mastype(dtype\u001B[38;5;241m=\u001B[39mdtype, copy\u001B[38;5;241m=\u001B[39mcopy, errors\u001B[38;5;241m=\u001B[39merrors)\n\u001B[0;32m   6241\u001B[0m     \u001B[38;5;28;01mreturn\u001B[39;00m \u001B[38;5;28mself\u001B[39m\u001B[38;5;241m.\u001B[39m_constructor(new_data)\u001B[38;5;241m.\u001B[39m__finalize__(\u001B[38;5;28mself\u001B[39m, method\u001B[38;5;241m=\u001B[39m\u001B[38;5;124m\"\u001B[39m\u001B[38;5;124mastype\u001B[39m\u001B[38;5;124m\"\u001B[39m)\n\u001B[0;32m   6243\u001B[0m \u001B[38;5;66;03m# GH 33113: handle empty frame or series\u001B[39;00m\n",
      "File \u001B[1;32m~\\anaconda3\\Lib\\site-packages\\pandas\\core\\internals\\managers.py:448\u001B[0m, in \u001B[0;36mBaseBlockManager.astype\u001B[1;34m(self, dtype, copy, errors)\u001B[0m\n\u001B[0;32m    447\u001B[0m \u001B[38;5;28;01mdef\u001B[39;00m \u001B[38;5;21mastype\u001B[39m(\u001B[38;5;28mself\u001B[39m: T, dtype, copy: \u001B[38;5;28mbool\u001B[39m \u001B[38;5;241m=\u001B[39m \u001B[38;5;28;01mFalse\u001B[39;00m, errors: \u001B[38;5;28mstr\u001B[39m \u001B[38;5;241m=\u001B[39m \u001B[38;5;124m\"\u001B[39m\u001B[38;5;124mraise\u001B[39m\u001B[38;5;124m\"\u001B[39m) \u001B[38;5;241m-\u001B[39m\u001B[38;5;241m>\u001B[39m T:\n\u001B[1;32m--> 448\u001B[0m     \u001B[38;5;28;01mreturn\u001B[39;00m \u001B[38;5;28mself\u001B[39m\u001B[38;5;241m.\u001B[39mapply(\u001B[38;5;124m\"\u001B[39m\u001B[38;5;124mastype\u001B[39m\u001B[38;5;124m\"\u001B[39m, dtype\u001B[38;5;241m=\u001B[39mdtype, copy\u001B[38;5;241m=\u001B[39mcopy, errors\u001B[38;5;241m=\u001B[39merrors)\n",
      "File \u001B[1;32m~\\anaconda3\\Lib\\site-packages\\pandas\\core\\internals\\managers.py:352\u001B[0m, in \u001B[0;36mBaseBlockManager.apply\u001B[1;34m(self, f, align_keys, ignore_failures, **kwargs)\u001B[0m\n\u001B[0;32m    350\u001B[0m         applied \u001B[38;5;241m=\u001B[39m b\u001B[38;5;241m.\u001B[39mapply(f, \u001B[38;5;241m*\u001B[39m\u001B[38;5;241m*\u001B[39mkwargs)\n\u001B[0;32m    351\u001B[0m     \u001B[38;5;28;01melse\u001B[39;00m:\n\u001B[1;32m--> 352\u001B[0m         applied \u001B[38;5;241m=\u001B[39m \u001B[38;5;28mgetattr\u001B[39m(b, f)(\u001B[38;5;241m*\u001B[39m\u001B[38;5;241m*\u001B[39mkwargs)\n\u001B[0;32m    353\u001B[0m \u001B[38;5;28;01mexcept\u001B[39;00m (\u001B[38;5;167;01mTypeError\u001B[39;00m, \u001B[38;5;167;01mNotImplementedError\u001B[39;00m):\n\u001B[0;32m    354\u001B[0m     \u001B[38;5;28;01mif\u001B[39;00m \u001B[38;5;129;01mnot\u001B[39;00m ignore_failures:\n",
      "File \u001B[1;32m~\\anaconda3\\Lib\\site-packages\\pandas\\core\\internals\\blocks.py:526\u001B[0m, in \u001B[0;36mBlock.astype\u001B[1;34m(self, dtype, copy, errors)\u001B[0m\n\u001B[0;32m    508\u001B[0m \u001B[38;5;250m\u001B[39m\u001B[38;5;124;03m\"\"\"\u001B[39;00m\n\u001B[0;32m    509\u001B[0m \u001B[38;5;124;03mCoerce to the new dtype.\u001B[39;00m\n\u001B[0;32m    510\u001B[0m \n\u001B[1;32m   (...)\u001B[0m\n\u001B[0;32m    522\u001B[0m \u001B[38;5;124;03mBlock\u001B[39;00m\n\u001B[0;32m    523\u001B[0m \u001B[38;5;124;03m\"\"\"\u001B[39;00m\n\u001B[0;32m    524\u001B[0m values \u001B[38;5;241m=\u001B[39m \u001B[38;5;28mself\u001B[39m\u001B[38;5;241m.\u001B[39mvalues\n\u001B[1;32m--> 526\u001B[0m new_values \u001B[38;5;241m=\u001B[39m astype_array_safe(values, dtype, copy\u001B[38;5;241m=\u001B[39mcopy, errors\u001B[38;5;241m=\u001B[39merrors)\n\u001B[0;32m    528\u001B[0m new_values \u001B[38;5;241m=\u001B[39m maybe_coerce_values(new_values)\n\u001B[0;32m    529\u001B[0m newb \u001B[38;5;241m=\u001B[39m \u001B[38;5;28mself\u001B[39m\u001B[38;5;241m.\u001B[39mmake_block(new_values)\n",
      "File \u001B[1;32m~\\anaconda3\\Lib\\site-packages\\pandas\\core\\dtypes\\astype.py:299\u001B[0m, in \u001B[0;36mastype_array_safe\u001B[1;34m(values, dtype, copy, errors)\u001B[0m\n\u001B[0;32m    296\u001B[0m     \u001B[38;5;28;01mreturn\u001B[39;00m values\u001B[38;5;241m.\u001B[39mcopy()\n\u001B[0;32m    298\u001B[0m \u001B[38;5;28;01mtry\u001B[39;00m:\n\u001B[1;32m--> 299\u001B[0m     new_values \u001B[38;5;241m=\u001B[39m astype_array(values, dtype, copy\u001B[38;5;241m=\u001B[39mcopy)\n\u001B[0;32m    300\u001B[0m \u001B[38;5;28;01mexcept\u001B[39;00m (\u001B[38;5;167;01mValueError\u001B[39;00m, \u001B[38;5;167;01mTypeError\u001B[39;00m):\n\u001B[0;32m    301\u001B[0m     \u001B[38;5;66;03m# e.g. astype_nansafe can fail on object-dtype of strings\u001B[39;00m\n\u001B[0;32m    302\u001B[0m     \u001B[38;5;66;03m#  trying to convert to float\u001B[39;00m\n\u001B[0;32m    303\u001B[0m     \u001B[38;5;28;01mif\u001B[39;00m errors \u001B[38;5;241m==\u001B[39m \u001B[38;5;124m\"\u001B[39m\u001B[38;5;124mignore\u001B[39m\u001B[38;5;124m\"\u001B[39m:\n",
      "File \u001B[1;32m~\\anaconda3\\Lib\\site-packages\\pandas\\core\\dtypes\\astype.py:230\u001B[0m, in \u001B[0;36mastype_array\u001B[1;34m(values, dtype, copy)\u001B[0m\n\u001B[0;32m    227\u001B[0m     values \u001B[38;5;241m=\u001B[39m values\u001B[38;5;241m.\u001B[39mastype(dtype, copy\u001B[38;5;241m=\u001B[39mcopy)\n\u001B[0;32m    229\u001B[0m \u001B[38;5;28;01melse\u001B[39;00m:\n\u001B[1;32m--> 230\u001B[0m     values \u001B[38;5;241m=\u001B[39m astype_nansafe(values, dtype, copy\u001B[38;5;241m=\u001B[39mcopy)\n\u001B[0;32m    232\u001B[0m \u001B[38;5;66;03m# in pandas we don't store numpy str dtypes, so convert to object\u001B[39;00m\n\u001B[0;32m    233\u001B[0m \u001B[38;5;28;01mif\u001B[39;00m \u001B[38;5;28misinstance\u001B[39m(dtype, np\u001B[38;5;241m.\u001B[39mdtype) \u001B[38;5;129;01mand\u001B[39;00m \u001B[38;5;28missubclass\u001B[39m(values\u001B[38;5;241m.\u001B[39mdtype\u001B[38;5;241m.\u001B[39mtype, \u001B[38;5;28mstr\u001B[39m):\n",
      "File \u001B[1;32m~\\anaconda3\\Lib\\site-packages\\pandas\\core\\dtypes\\astype.py:170\u001B[0m, in \u001B[0;36mastype_nansafe\u001B[1;34m(arr, dtype, copy, skipna)\u001B[0m\n\u001B[0;32m    166\u001B[0m     \u001B[38;5;28;01mraise\u001B[39;00m \u001B[38;5;167;01mValueError\u001B[39;00m(msg)\n\u001B[0;32m    168\u001B[0m \u001B[38;5;28;01mif\u001B[39;00m copy \u001B[38;5;129;01mor\u001B[39;00m is_object_dtype(arr\u001B[38;5;241m.\u001B[39mdtype) \u001B[38;5;129;01mor\u001B[39;00m is_object_dtype(dtype):\n\u001B[0;32m    169\u001B[0m     \u001B[38;5;66;03m# Explicit copy, or required since NumPy can't view from / to object.\u001B[39;00m\n\u001B[1;32m--> 170\u001B[0m     \u001B[38;5;28;01mreturn\u001B[39;00m arr\u001B[38;5;241m.\u001B[39mastype(dtype, copy\u001B[38;5;241m=\u001B[39m\u001B[38;5;28;01mTrue\u001B[39;00m)\n\u001B[0;32m    172\u001B[0m \u001B[38;5;28;01mreturn\u001B[39;00m arr\u001B[38;5;241m.\u001B[39mastype(dtype, copy\u001B[38;5;241m=\u001B[39mcopy)\n",
      "\u001B[1;31mValueError\u001B[0m: could not convert string to float: 'Missing'"
     ]
    }
   ],
   "source": [
    "df['age'] = df['age'].astype(float)"
   ],
   "metadata": {
    "collapsed": false,
    "ExecuteTime": {
     "end_time": "2023-10-26T07:09:14.698027Z",
     "start_time": "2023-10-26T07:09:13.761562400Z"
    }
   },
   "id": "44618b1fa320f32"
  },
  {
   "cell_type": "code",
   "execution_count": 33,
   "outputs": [],
   "source": [
    "df['age'].replace('Missing', np.nan, inplace=True)"
   ],
   "metadata": {
    "collapsed": false,
    "ExecuteTime": {
     "end_time": "2023-10-26T07:09:49.886909900Z",
     "start_time": "2023-10-26T07:09:49.866809300Z"
    }
   },
   "id": "bbecedd6f8119b16"
  },
  {
   "cell_type": "code",
   "execution_count": 34,
   "outputs": [
    {
     "data": {
      "text/plain": "  people     last                    email   age\n0  Corey  Schafer  CoreyMschafer@gmail.com    33\n1   Jane      Doe        JaneDoe@gmail.com    55\n2   John      Doe        JohnDoe@gmail.com    63\n3  Chris  Schafer   ChrisSchafer@gmail.com    36\n4    NaN      NaN                     None  None\n5   None      NaN                      NaN  None\n6     NA  Missing      Anonymous@gmail.com   NaN",
      "text/html": "<div>\n<style scoped>\n    .dataframe tbody tr th:only-of-type {\n        vertical-align: middle;\n    }\n\n    .dataframe tbody tr th {\n        vertical-align: top;\n    }\n\n    .dataframe thead th {\n        text-align: right;\n    }\n</style>\n<table border=\"1\" class=\"dataframe\">\n  <thead>\n    <tr style=\"text-align: right;\">\n      <th></th>\n      <th>people</th>\n      <th>last</th>\n      <th>email</th>\n      <th>age</th>\n    </tr>\n  </thead>\n  <tbody>\n    <tr>\n      <th>0</th>\n      <td>Corey</td>\n      <td>Schafer</td>\n      <td>CoreyMschafer@gmail.com</td>\n      <td>33</td>\n    </tr>\n    <tr>\n      <th>1</th>\n      <td>Jane</td>\n      <td>Doe</td>\n      <td>JaneDoe@gmail.com</td>\n      <td>55</td>\n    </tr>\n    <tr>\n      <th>2</th>\n      <td>John</td>\n      <td>Doe</td>\n      <td>JohnDoe@gmail.com</td>\n      <td>63</td>\n    </tr>\n    <tr>\n      <th>3</th>\n      <td>Chris</td>\n      <td>Schafer</td>\n      <td>ChrisSchafer@gmail.com</td>\n      <td>36</td>\n    </tr>\n    <tr>\n      <th>4</th>\n      <td>NaN</td>\n      <td>NaN</td>\n      <td>None</td>\n      <td>None</td>\n    </tr>\n    <tr>\n      <th>5</th>\n      <td>None</td>\n      <td>NaN</td>\n      <td>NaN</td>\n      <td>None</td>\n    </tr>\n    <tr>\n      <th>6</th>\n      <td>NA</td>\n      <td>Missing</td>\n      <td>Anonymous@gmail.com</td>\n      <td>NaN</td>\n    </tr>\n  </tbody>\n</table>\n</div>"
     },
     "execution_count": 34,
     "metadata": {},
     "output_type": "execute_result"
    }
   ],
   "source": [
    "df"
   ],
   "metadata": {
    "collapsed": false,
    "ExecuteTime": {
     "end_time": "2023-10-26T07:09:51.371347800Z",
     "start_time": "2023-10-26T07:09:51.344014800Z"
    }
   },
   "id": "f65b4b0a7cb8f81d"
  },
  {
   "cell_type": "code",
   "execution_count": 35,
   "outputs": [],
   "source": [
    "df['age'] = df['age'].astype(float)"
   ],
   "metadata": {
    "collapsed": false,
    "ExecuteTime": {
     "end_time": "2023-10-26T07:10:16.469613100Z",
     "start_time": "2023-10-26T07:10:16.432482300Z"
    }
   },
   "id": "c3e1f6763745c6c0"
  },
  {
   "cell_type": "code",
   "execution_count": 36,
   "outputs": [
    {
     "data": {
      "text/plain": "  people     last                    email   age\n0  Corey  Schafer  CoreyMschafer@gmail.com  33.0\n1   Jane      Doe        JaneDoe@gmail.com  55.0\n2   John      Doe        JohnDoe@gmail.com  63.0\n3  Chris  Schafer   ChrisSchafer@gmail.com  36.0\n4    NaN      NaN                     None   NaN\n5   None      NaN                      NaN   NaN\n6     NA  Missing      Anonymous@gmail.com   NaN",
      "text/html": "<div>\n<style scoped>\n    .dataframe tbody tr th:only-of-type {\n        vertical-align: middle;\n    }\n\n    .dataframe tbody tr th {\n        vertical-align: top;\n    }\n\n    .dataframe thead th {\n        text-align: right;\n    }\n</style>\n<table border=\"1\" class=\"dataframe\">\n  <thead>\n    <tr style=\"text-align: right;\">\n      <th></th>\n      <th>people</th>\n      <th>last</th>\n      <th>email</th>\n      <th>age</th>\n    </tr>\n  </thead>\n  <tbody>\n    <tr>\n      <th>0</th>\n      <td>Corey</td>\n      <td>Schafer</td>\n      <td>CoreyMschafer@gmail.com</td>\n      <td>33.0</td>\n    </tr>\n    <tr>\n      <th>1</th>\n      <td>Jane</td>\n      <td>Doe</td>\n      <td>JaneDoe@gmail.com</td>\n      <td>55.0</td>\n    </tr>\n    <tr>\n      <th>2</th>\n      <td>John</td>\n      <td>Doe</td>\n      <td>JohnDoe@gmail.com</td>\n      <td>63.0</td>\n    </tr>\n    <tr>\n      <th>3</th>\n      <td>Chris</td>\n      <td>Schafer</td>\n      <td>ChrisSchafer@gmail.com</td>\n      <td>36.0</td>\n    </tr>\n    <tr>\n      <th>4</th>\n      <td>NaN</td>\n      <td>NaN</td>\n      <td>None</td>\n      <td>NaN</td>\n    </tr>\n    <tr>\n      <th>5</th>\n      <td>None</td>\n      <td>NaN</td>\n      <td>NaN</td>\n      <td>NaN</td>\n    </tr>\n    <tr>\n      <th>6</th>\n      <td>NA</td>\n      <td>Missing</td>\n      <td>Anonymous@gmail.com</td>\n      <td>NaN</td>\n    </tr>\n  </tbody>\n</table>\n</div>"
     },
     "execution_count": 36,
     "metadata": {},
     "output_type": "execute_result"
    }
   ],
   "source": [
    "df"
   ],
   "metadata": {
    "collapsed": false,
    "ExecuteTime": {
     "end_time": "2023-10-26T07:10:18.400553300Z",
     "start_time": "2023-10-26T07:10:18.363030500Z"
    }
   },
   "id": "26fdaaecc8004259"
  },
  {
   "cell_type": "code",
   "execution_count": 37,
   "outputs": [
    {
     "data": {
      "text/plain": "people     object\nlast       object\nemail      object\nage       float64\ndtype: object"
     },
     "execution_count": 37,
     "metadata": {},
     "output_type": "execute_result"
    }
   ],
   "source": [
    "df.dtypes"
   ],
   "metadata": {
    "collapsed": false,
    "ExecuteTime": {
     "end_time": "2023-10-26T07:10:27.211398Z",
     "start_time": "2023-10-26T07:10:27.162972600Z"
    }
   },
   "id": "84d66d5368478758"
  },
  {
   "cell_type": "code",
   "execution_count": 38,
   "outputs": [
    {
     "data": {
      "text/plain": "46.75"
     },
     "execution_count": 38,
     "metadata": {},
     "output_type": "execute_result"
    }
   ],
   "source": [
    "df['age'].mean()"
   ],
   "metadata": {
    "collapsed": false,
    "ExecuteTime": {
     "end_time": "2023-10-26T07:10:43.781777Z",
     "start_time": "2023-10-26T07:10:43.730187200Z"
    }
   },
   "id": "fb62105697587d3"
  },
  {
   "cell_type": "markdown",
   "source": [
    "### Collect bigger data"
   ],
   "metadata": {
    "collapsed": false
   },
   "id": "f48e4ad9174c665d"
  },
  {
   "cell_type": "code",
   "execution_count": 40,
   "outputs": [],
   "source": [
    "import pandas as pd"
   ],
   "metadata": {
    "collapsed": false,
    "ExecuteTime": {
     "end_time": "2023-10-26T07:13:01.651153900Z",
     "start_time": "2023-10-26T07:13:01.622365900Z"
    }
   },
   "id": "ba70151dc7548a2a"
  },
  {
   "cell_type": "code",
   "execution_count": 46,
   "outputs": [],
   "source": [
    "na_vals = ['NA', 'Missing']\n",
    "df = pd.read_csv('survey_results_public.csv', index_col='Respondent', na_values=na_vals)\n",
    "schema_df = pd.read_csv('survey_results_schema.csv', index_col='Column')"
   ],
   "metadata": {
    "collapsed": false,
    "ExecuteTime": {
     "end_time": "2023-10-26T07:16:30.441782300Z",
     "start_time": "2023-10-26T07:16:28.782334500Z"
    }
   },
   "id": "cc9ac7abcf3fbe89"
  },
  {
   "cell_type": "code",
   "execution_count": 47,
   "outputs": [],
   "source": [
    "pd.set_option('display.max_columns', 85)\n",
    "pd.set_option('display.max_rows', 85)"
   ],
   "metadata": {
    "collapsed": false,
    "ExecuteTime": {
     "end_time": "2023-10-26T07:16:31.384849100Z",
     "start_time": "2023-10-26T07:16:31.375335700Z"
    }
   },
   "id": "118b6f059bf20d6d"
  },
  {
   "cell_type": "code",
   "execution_count": 48,
   "outputs": [
    {
     "data": {
      "text/plain": "                                                 Professional  \\\nRespondent                                                      \n1                                                     Student   \n2                                                     Student   \n3                                      Professional developer   \n4           Professional non-developer who sometimes write...   \n5                                      Professional developer   \n\n                         ProgramHobby         Country      University  \\\nRespondent                                                              \n1                           Yes, both   United States              No   \n2                           Yes, both  United Kingdom  Yes, full-time   \n3                           Yes, both  United Kingdom              No   \n4                           Yes, both   United States              No   \n5           Yes, I program as a hobby     Switzerland              No   \n\n                                  EmploymentStatus  \\\nRespondent                                           \n1           Not employed, and not looking for work   \n2                               Employed part-time   \n3                               Employed full-time   \n4                               Employed full-time   \n5                               Employed full-time   \n\n                                              FormalEducation  \\\nRespondent                                                      \n1                                            Secondary school   \n2           Some college/university study without earning ...   \n3                                           Bachelor's degree   \n4                                             Doctoral degree   \n5                                             Master's degree   \n\n                                           MajorUndergrad  \\\nRespondent                                                  \n1                                                     NaN   \n2                Computer science or software engineering   \n3                Computer science or software engineering   \n4           A non-computer-focused engineering discipline   \n5                Computer science or software engineering   \n\n                                                   HomeRemote  \\\nRespondent                                                      \n1                                                         NaN   \n2                       More than half, but not all, the time   \n3           Less than half the time, but at least one day ...   \n4           Less than half the time, but at least one day ...   \n5                                                       Never   \n\n                         CompanySize  \\\nRespondent                             \n1                                NaN   \n2                 20 to 99 employees   \n3           10,000 or more employees   \n4           10,000 or more employees   \n5                 10 to 19 employees   \n\n                                                  CompanyType  \\\nRespondent                                                      \n1                                                         NaN   \n2           Privately-held limited company, not in startup...   \n3                                 Publicly-traded corporation   \n4           Non-profit/non-governmental organization or pr...   \n5           Privately-held limited company, not in startup...   \n\n                YearsProgram     YearsCodedJob YearsCodedJobPast  \\\nRespondent                                                         \n1               2 to 3 years               NaN               NaN   \n2              9 to 10 years               NaN               NaN   \n3           20 or more years  20 or more years               NaN   \n4             14 to 15 years     9 to 10 years               NaN   \n5           20 or more years    10 to 11 years               NaN   \n\n                                                DeveloperType  \\\nRespondent                                                      \n1                                                         NaN   \n2                                                         NaN   \n3                                                       Other   \n4                                                         NaN   \n5           Mobile developer; Graphics programming; Deskto...   \n\n           WebDeveloperType MobileDeveloperType NonDeveloperType  \\\nRespondent                                                         \n1                       NaN                 NaN              NaN   \n2                       NaN                 NaN              NaN   \n3                       NaN                 NaN              NaN   \n4                       NaN                 NaN   Data scientist   \n5                       NaN                 NaN              NaN   \n\n            CareerSatisfaction  JobSatisfaction ExCoderReturn ExCoderNotForMe  \\\nRespondent                                                                      \n1                          NaN              NaN           NaN             NaN   \n2                          NaN              NaN           NaN             NaN   \n3                          8.0              9.0           NaN             NaN   \n4                          6.0              3.0           NaN             NaN   \n5                          6.0              8.0           NaN             NaN   \n\n           ExCoderBalance ExCoder10Years ExCoderBelonged ExCoderSkills  \\\nRespondent                                                               \n1                     NaN            NaN             NaN           NaN   \n2                     NaN            NaN             NaN           NaN   \n3                     NaN            NaN             NaN           NaN   \n4                     NaN            NaN             NaN           NaN   \n5                     NaN            NaN             NaN           NaN   \n\n           ExCoderWillNotCode ExCoderActive                  PronounceGIF  \\\nRespondent                                                                  \n1                         NaN           NaN  With a soft \"g,\" like \"jiff\"   \n2                         NaN           NaN  With a hard \"g,\" like \"gift\"   \n3                         NaN           NaN  With a hard \"g,\" like \"gift\"   \n4                         NaN           NaN  With a soft \"g,\" like \"jiff\"   \n5                         NaN           NaN  With a soft \"g,\" like \"jiff\"   \n\n            ProblemSolving  BuildingThings LearningNewTech   BoringDetails  \\\nRespondent                                                                   \n1           Strongly agree  Strongly agree           Agree        Disagree   \n2                      NaN             NaN             NaN             NaN   \n3           Strongly agree  Strongly agree  Strongly agree  Somewhat agree   \n4           Strongly agree  Strongly agree  Strongly agree        Disagree   \n5                      NaN             NaN             NaN             NaN   \n\n               JobSecurity DiversityImportant AnnoyingUI FriendsDevelopers  \\\nRespondent                                                                   \n1           Strongly agree              Agree      Agree          Disagree   \n2                      NaN                NaN        NaN               NaN   \n3                    Agree     Strongly agree      Agree    Somewhat agree   \n4           Somewhat agree              Agree      Agree             Agree   \n5                      NaN                NaN        NaN               NaN   \n\n             RightWrongWay UnderstandComputers     SeriousWork  \\\nRespondent                                                       \n1           Somewhat agree            Disagree  Strongly agree   \n2                      NaN                 NaN             NaN   \n3                 Disagree            Disagree           Agree   \n4           Somewhat agree   Strongly disagree  Strongly agree   \n5                      NaN                 NaN             NaN   \n\n           InvestTimeTools        WorkPayCare KinshipDevelopers  ...  \\\nRespondent                                                       ...   \n1           Strongly agree  Strongly disagree             Agree  ...   \n2                      NaN                NaN               NaN  ...   \n3           Somewhat agree           Disagree    Somewhat agree  ...   \n4                    Agree           Disagree    Strongly agree  ...   \n5                      NaN                NaN               NaN  ...   \n\n           EquipmentSatisfiedStorage EquipmentSatisfiedRW   InfluenceInternet  \\\nRespondent                                                                      \n1                     Very satisfied            Satisfied  Not very satisfied   \n2                          Satisfied   Somewhat satisfied           Satisfied   \n3                          Satisfied   Somewhat satisfied      Very satisfied   \n4                                NaN                  NaN                 NaN   \n5                          Satisfied            Satisfied           Satisfied   \n\n           InfluenceWorkstation    InfluenceHardware     InfluenceServers  \\\nRespondent                                                                  \n1                           NaN                  NaN                  NaN   \n2           No influence at all  No influence at all  No influence at all   \n3            A lot of influence       Some influence       Some influence   \n4                           NaN                  NaN                  NaN   \n5                           NaN                  NaN                  NaN   \n\n             InfluenceTechStack    InfluenceDeptTech    InfluenceVizTools  \\\nRespondent                                                                  \n1                           NaN                  NaN                  NaN   \n2           No influence at all  No influence at all  No influence at all   \n3                Some influence   A lot of influence       Some influence   \n4                           NaN                  NaN                  NaN   \n5                           NaN                  NaN                  NaN   \n\n              InfluenceDatabase       InfluenceCloud InfluenceConsultants  \\\nRespondent                                                                  \n1                           NaN                  NaN                  NaN   \n2           No influence at all  No influence at all  No influence at all   \n3                Some influence       Some influence       Some influence   \n4                           NaN                  NaN                  NaN   \n5                           NaN                  NaN                  NaN   \n\n           InfluenceRecruitment InfluenceCommunication  \\\nRespondent                                               \n1                           NaN                    NaN   \n2           No influence at all    No influence at all   \n3                Some influence         Some influence   \n4                           NaN                    NaN   \n5                           NaN                    NaN   \n\n                                       StackOverflowDescribes  \\\nRespondent                                                      \n1           I have created a CV or Developer Story on Stac...   \n2           I have created a CV or Developer Story on Stac...   \n3           I have created a CV or Developer Story on Stac...   \n4           I have created a CV or Developer Story on Stac...   \n5                                                         NaN   \n\n           StackOverflowSatisfaction  \\\nRespondent                             \n1                                9.0   \n2                                8.0   \n3                                8.0   \n4                               10.0   \n5                                NaN   \n\n                                         StackOverflowDevices  \\\nRespondent                                                      \n1                                            Desktop; iOS app   \n2           Desktop; iOS browser; iOS app; Android browser...   \n3                               Desktop; iOS browser; iOS app   \n4                               Desktop; iOS browser; iOS app   \n5                                                         NaN   \n\n           StackOverflowFoundAnswer StackOverflowCopiedCode  \\\nRespondent                                                    \n1           At least once each week     Haven't done at all   \n2                     Several times           Several times   \n3                     Once or twice     Haven't done at all   \n4           At least once each week           Several times   \n5                               NaN                     NaN   \n\n            StackOverflowJobListing StackOverflowCompanyPage  \\\nRespondent                                                     \n1                     Once or twice      Haven't done at all   \n2                     Once or twice            Once or twice   \n3               Haven't done at all      Haven't done at all   \n4           At least once each week            Several times   \n5                               NaN                      NaN   \n\n             StackOverflowJobSearch StackOverflowNewQuestion  \\\nRespondent                                                     \n1               Haven't done at all            Several times   \n2                     Once or twice      Haven't done at all   \n3               Haven't done at all      Haven't done at all   \n4           At least once each week            Several times   \n5                               NaN                      NaN   \n\n               StackOverflowAnswer    StackOverflowMetaChat  \\\nRespondent                                                    \n1                    Several times            Once or twice   \n2                    Several times  At least once each week   \n3           At least once each day   At least once each day   \n4           At least once each day   At least once each day   \n5                              NaN                      NaN   \n\n           StackOverflowAdsRelevant StackOverflowAdsDistracting  \\\nRespondent                                                        \n1                    Somewhat agree           Strongly disagree   \n2                          Disagree           Strongly disagree   \n3                          Disagree                    Disagree   \n4                             Agree           Strongly disagree   \n5                               NaN                         NaN   \n\n           StackOverflowModeration StackOverflowCommunity  \\\nRespondent                                                  \n1                Strongly disagree         Strongly agree   \n2                Strongly disagree         Strongly agree   \n3                Strongly disagree         Strongly agree   \n4                Strongly disagree         Strongly agree   \n5                              NaN                    NaN   \n\n           StackOverflowHelpful StackOverflowBetter StackOverflowWhatDo  \\\nRespondent                                                                \n1                         Agree      Strongly agree      Strongly agree   \n2                         Agree      Strongly agree      Strongly agree   \n3                         Agree               Agree               Agree   \n4                Strongly agree               Agree      Strongly agree   \n5                           NaN                 NaN                 NaN   \n\n           StackOverflowMakeMoney Gender HighestEducationParents  \\\nRespondent                                                         \n1               Strongly disagree   Male             High school   \n2               Strongly disagree   Male       A master's degree   \n3                        Disagree   Male   A professional degree   \n4                        Disagree   Male       A doctoral degree   \n5                             NaN    NaN                     NaN   \n\n                                    Race         SurveyLong  \\\nRespondent                                                    \n1           White or of European descent  Strongly disagree   \n2           White or of European descent     Somewhat agree   \n3           White or of European descent     Somewhat agree   \n4           White or of European descent              Agree   \n5                                    NaN                NaN   \n\n           QuestionsInteresting QuestionsConfusing InterestedAnswers  \\\nRespondent                                                             \n1                Strongly agree           Disagree    Strongly agree   \n2                Somewhat agree           Disagree    Strongly agree   \n3                         Agree           Disagree             Agree   \n4                         Agree     Somewhat agree    Strongly agree   \n5                           NaN                NaN               NaN   \n\n              Salary ExpectedSalary  \nRespondent                           \n1                NaN            NaN  \n2                NaN        37500.0  \n3           113750.0            NaN  \n4                NaN            NaN  \n5                NaN            NaN  \n\n[5 rows x 153 columns]",
      "text/html": "<div>\n<style scoped>\n    .dataframe tbody tr th:only-of-type {\n        vertical-align: middle;\n    }\n\n    .dataframe tbody tr th {\n        vertical-align: top;\n    }\n\n    .dataframe thead th {\n        text-align: right;\n    }\n</style>\n<table border=\"1\" class=\"dataframe\">\n  <thead>\n    <tr style=\"text-align: right;\">\n      <th></th>\n      <th>Professional</th>\n      <th>ProgramHobby</th>\n      <th>Country</th>\n      <th>University</th>\n      <th>EmploymentStatus</th>\n      <th>FormalEducation</th>\n      <th>MajorUndergrad</th>\n      <th>HomeRemote</th>\n      <th>CompanySize</th>\n      <th>CompanyType</th>\n      <th>YearsProgram</th>\n      <th>YearsCodedJob</th>\n      <th>YearsCodedJobPast</th>\n      <th>DeveloperType</th>\n      <th>WebDeveloperType</th>\n      <th>MobileDeveloperType</th>\n      <th>NonDeveloperType</th>\n      <th>CareerSatisfaction</th>\n      <th>JobSatisfaction</th>\n      <th>ExCoderReturn</th>\n      <th>ExCoderNotForMe</th>\n      <th>ExCoderBalance</th>\n      <th>ExCoder10Years</th>\n      <th>ExCoderBelonged</th>\n      <th>ExCoderSkills</th>\n      <th>ExCoderWillNotCode</th>\n      <th>ExCoderActive</th>\n      <th>PronounceGIF</th>\n      <th>ProblemSolving</th>\n      <th>BuildingThings</th>\n      <th>LearningNewTech</th>\n      <th>BoringDetails</th>\n      <th>JobSecurity</th>\n      <th>DiversityImportant</th>\n      <th>AnnoyingUI</th>\n      <th>FriendsDevelopers</th>\n      <th>RightWrongWay</th>\n      <th>UnderstandComputers</th>\n      <th>SeriousWork</th>\n      <th>InvestTimeTools</th>\n      <th>WorkPayCare</th>\n      <th>KinshipDevelopers</th>\n      <th>...</th>\n      <th>EquipmentSatisfiedStorage</th>\n      <th>EquipmentSatisfiedRW</th>\n      <th>InfluenceInternet</th>\n      <th>InfluenceWorkstation</th>\n      <th>InfluenceHardware</th>\n      <th>InfluenceServers</th>\n      <th>InfluenceTechStack</th>\n      <th>InfluenceDeptTech</th>\n      <th>InfluenceVizTools</th>\n      <th>InfluenceDatabase</th>\n      <th>InfluenceCloud</th>\n      <th>InfluenceConsultants</th>\n      <th>InfluenceRecruitment</th>\n      <th>InfluenceCommunication</th>\n      <th>StackOverflowDescribes</th>\n      <th>StackOverflowSatisfaction</th>\n      <th>StackOverflowDevices</th>\n      <th>StackOverflowFoundAnswer</th>\n      <th>StackOverflowCopiedCode</th>\n      <th>StackOverflowJobListing</th>\n      <th>StackOverflowCompanyPage</th>\n      <th>StackOverflowJobSearch</th>\n      <th>StackOverflowNewQuestion</th>\n      <th>StackOverflowAnswer</th>\n      <th>StackOverflowMetaChat</th>\n      <th>StackOverflowAdsRelevant</th>\n      <th>StackOverflowAdsDistracting</th>\n      <th>StackOverflowModeration</th>\n      <th>StackOverflowCommunity</th>\n      <th>StackOverflowHelpful</th>\n      <th>StackOverflowBetter</th>\n      <th>StackOverflowWhatDo</th>\n      <th>StackOverflowMakeMoney</th>\n      <th>Gender</th>\n      <th>HighestEducationParents</th>\n      <th>Race</th>\n      <th>SurveyLong</th>\n      <th>QuestionsInteresting</th>\n      <th>QuestionsConfusing</th>\n      <th>InterestedAnswers</th>\n      <th>Salary</th>\n      <th>ExpectedSalary</th>\n    </tr>\n    <tr>\n      <th>Respondent</th>\n      <th></th>\n      <th></th>\n      <th></th>\n      <th></th>\n      <th></th>\n      <th></th>\n      <th></th>\n      <th></th>\n      <th></th>\n      <th></th>\n      <th></th>\n      <th></th>\n      <th></th>\n      <th></th>\n      <th></th>\n      <th></th>\n      <th></th>\n      <th></th>\n      <th></th>\n      <th></th>\n      <th></th>\n      <th></th>\n      <th></th>\n      <th></th>\n      <th></th>\n      <th></th>\n      <th></th>\n      <th></th>\n      <th></th>\n      <th></th>\n      <th></th>\n      <th></th>\n      <th></th>\n      <th></th>\n      <th></th>\n      <th></th>\n      <th></th>\n      <th></th>\n      <th></th>\n      <th></th>\n      <th></th>\n      <th></th>\n      <th></th>\n      <th></th>\n      <th></th>\n      <th></th>\n      <th></th>\n      <th></th>\n      <th></th>\n      <th></th>\n      <th></th>\n      <th></th>\n      <th></th>\n      <th></th>\n      <th></th>\n      <th></th>\n      <th></th>\n      <th></th>\n      <th></th>\n      <th></th>\n      <th></th>\n      <th></th>\n      <th></th>\n      <th></th>\n      <th></th>\n      <th></th>\n      <th></th>\n      <th></th>\n      <th></th>\n      <th></th>\n      <th></th>\n      <th></th>\n      <th></th>\n      <th></th>\n      <th></th>\n      <th></th>\n      <th></th>\n      <th></th>\n      <th></th>\n      <th></th>\n      <th></th>\n      <th></th>\n      <th></th>\n      <th></th>\n      <th></th>\n    </tr>\n  </thead>\n  <tbody>\n    <tr>\n      <th>1</th>\n      <td>Student</td>\n      <td>Yes, both</td>\n      <td>United States</td>\n      <td>No</td>\n      <td>Not employed, and not looking for work</td>\n      <td>Secondary school</td>\n      <td>NaN</td>\n      <td>NaN</td>\n      <td>NaN</td>\n      <td>NaN</td>\n      <td>2 to 3 years</td>\n      <td>NaN</td>\n      <td>NaN</td>\n      <td>NaN</td>\n      <td>NaN</td>\n      <td>NaN</td>\n      <td>NaN</td>\n      <td>NaN</td>\n      <td>NaN</td>\n      <td>NaN</td>\n      <td>NaN</td>\n      <td>NaN</td>\n      <td>NaN</td>\n      <td>NaN</td>\n      <td>NaN</td>\n      <td>NaN</td>\n      <td>NaN</td>\n      <td>With a soft \"g,\" like \"jiff\"</td>\n      <td>Strongly agree</td>\n      <td>Strongly agree</td>\n      <td>Agree</td>\n      <td>Disagree</td>\n      <td>Strongly agree</td>\n      <td>Agree</td>\n      <td>Agree</td>\n      <td>Disagree</td>\n      <td>Somewhat agree</td>\n      <td>Disagree</td>\n      <td>Strongly agree</td>\n      <td>Strongly agree</td>\n      <td>Strongly disagree</td>\n      <td>Agree</td>\n      <td>...</td>\n      <td>Very satisfied</td>\n      <td>Satisfied</td>\n      <td>Not very satisfied</td>\n      <td>NaN</td>\n      <td>NaN</td>\n      <td>NaN</td>\n      <td>NaN</td>\n      <td>NaN</td>\n      <td>NaN</td>\n      <td>NaN</td>\n      <td>NaN</td>\n      <td>NaN</td>\n      <td>NaN</td>\n      <td>NaN</td>\n      <td>I have created a CV or Developer Story on Stac...</td>\n      <td>9.0</td>\n      <td>Desktop; iOS app</td>\n      <td>At least once each week</td>\n      <td>Haven't done at all</td>\n      <td>Once or twice</td>\n      <td>Haven't done at all</td>\n      <td>Haven't done at all</td>\n      <td>Several times</td>\n      <td>Several times</td>\n      <td>Once or twice</td>\n      <td>Somewhat agree</td>\n      <td>Strongly disagree</td>\n      <td>Strongly disagree</td>\n      <td>Strongly agree</td>\n      <td>Agree</td>\n      <td>Strongly agree</td>\n      <td>Strongly agree</td>\n      <td>Strongly disagree</td>\n      <td>Male</td>\n      <td>High school</td>\n      <td>White or of European descent</td>\n      <td>Strongly disagree</td>\n      <td>Strongly agree</td>\n      <td>Disagree</td>\n      <td>Strongly agree</td>\n      <td>NaN</td>\n      <td>NaN</td>\n    </tr>\n    <tr>\n      <th>2</th>\n      <td>Student</td>\n      <td>Yes, both</td>\n      <td>United Kingdom</td>\n      <td>Yes, full-time</td>\n      <td>Employed part-time</td>\n      <td>Some college/university study without earning ...</td>\n      <td>Computer science or software engineering</td>\n      <td>More than half, but not all, the time</td>\n      <td>20 to 99 employees</td>\n      <td>Privately-held limited company, not in startup...</td>\n      <td>9 to 10 years</td>\n      <td>NaN</td>\n      <td>NaN</td>\n      <td>NaN</td>\n      <td>NaN</td>\n      <td>NaN</td>\n      <td>NaN</td>\n      <td>NaN</td>\n      <td>NaN</td>\n      <td>NaN</td>\n      <td>NaN</td>\n      <td>NaN</td>\n      <td>NaN</td>\n      <td>NaN</td>\n      <td>NaN</td>\n      <td>NaN</td>\n      <td>NaN</td>\n      <td>With a hard \"g,\" like \"gift\"</td>\n      <td>NaN</td>\n      <td>NaN</td>\n      <td>NaN</td>\n      <td>NaN</td>\n      <td>NaN</td>\n      <td>NaN</td>\n      <td>NaN</td>\n      <td>NaN</td>\n      <td>NaN</td>\n      <td>NaN</td>\n      <td>NaN</td>\n      <td>NaN</td>\n      <td>NaN</td>\n      <td>NaN</td>\n      <td>...</td>\n      <td>Satisfied</td>\n      <td>Somewhat satisfied</td>\n      <td>Satisfied</td>\n      <td>No influence at all</td>\n      <td>No influence at all</td>\n      <td>No influence at all</td>\n      <td>No influence at all</td>\n      <td>No influence at all</td>\n      <td>No influence at all</td>\n      <td>No influence at all</td>\n      <td>No influence at all</td>\n      <td>No influence at all</td>\n      <td>No influence at all</td>\n      <td>No influence at all</td>\n      <td>I have created a CV or Developer Story on Stac...</td>\n      <td>8.0</td>\n      <td>Desktop; iOS browser; iOS app; Android browser...</td>\n      <td>Several times</td>\n      <td>Several times</td>\n      <td>Once or twice</td>\n      <td>Once or twice</td>\n      <td>Once or twice</td>\n      <td>Haven't done at all</td>\n      <td>Several times</td>\n      <td>At least once each week</td>\n      <td>Disagree</td>\n      <td>Strongly disagree</td>\n      <td>Strongly disagree</td>\n      <td>Strongly agree</td>\n      <td>Agree</td>\n      <td>Strongly agree</td>\n      <td>Strongly agree</td>\n      <td>Strongly disagree</td>\n      <td>Male</td>\n      <td>A master's degree</td>\n      <td>White or of European descent</td>\n      <td>Somewhat agree</td>\n      <td>Somewhat agree</td>\n      <td>Disagree</td>\n      <td>Strongly agree</td>\n      <td>NaN</td>\n      <td>37500.0</td>\n    </tr>\n    <tr>\n      <th>3</th>\n      <td>Professional developer</td>\n      <td>Yes, both</td>\n      <td>United Kingdom</td>\n      <td>No</td>\n      <td>Employed full-time</td>\n      <td>Bachelor's degree</td>\n      <td>Computer science or software engineering</td>\n      <td>Less than half the time, but at least one day ...</td>\n      <td>10,000 or more employees</td>\n      <td>Publicly-traded corporation</td>\n      <td>20 or more years</td>\n      <td>20 or more years</td>\n      <td>NaN</td>\n      <td>Other</td>\n      <td>NaN</td>\n      <td>NaN</td>\n      <td>NaN</td>\n      <td>8.0</td>\n      <td>9.0</td>\n      <td>NaN</td>\n      <td>NaN</td>\n      <td>NaN</td>\n      <td>NaN</td>\n      <td>NaN</td>\n      <td>NaN</td>\n      <td>NaN</td>\n      <td>NaN</td>\n      <td>With a hard \"g,\" like \"gift\"</td>\n      <td>Strongly agree</td>\n      <td>Strongly agree</td>\n      <td>Strongly agree</td>\n      <td>Somewhat agree</td>\n      <td>Agree</td>\n      <td>Strongly agree</td>\n      <td>Agree</td>\n      <td>Somewhat agree</td>\n      <td>Disagree</td>\n      <td>Disagree</td>\n      <td>Agree</td>\n      <td>Somewhat agree</td>\n      <td>Disagree</td>\n      <td>Somewhat agree</td>\n      <td>...</td>\n      <td>Satisfied</td>\n      <td>Somewhat satisfied</td>\n      <td>Very satisfied</td>\n      <td>A lot of influence</td>\n      <td>Some influence</td>\n      <td>Some influence</td>\n      <td>Some influence</td>\n      <td>A lot of influence</td>\n      <td>Some influence</td>\n      <td>Some influence</td>\n      <td>Some influence</td>\n      <td>Some influence</td>\n      <td>Some influence</td>\n      <td>Some influence</td>\n      <td>I have created a CV or Developer Story on Stac...</td>\n      <td>8.0</td>\n      <td>Desktop; iOS browser; iOS app</td>\n      <td>Once or twice</td>\n      <td>Haven't done at all</td>\n      <td>Haven't done at all</td>\n      <td>Haven't done at all</td>\n      <td>Haven't done at all</td>\n      <td>Haven't done at all</td>\n      <td>At least once each day</td>\n      <td>At least once each day</td>\n      <td>Disagree</td>\n      <td>Disagree</td>\n      <td>Strongly disagree</td>\n      <td>Strongly agree</td>\n      <td>Agree</td>\n      <td>Agree</td>\n      <td>Agree</td>\n      <td>Disagree</td>\n      <td>Male</td>\n      <td>A professional degree</td>\n      <td>White or of European descent</td>\n      <td>Somewhat agree</td>\n      <td>Agree</td>\n      <td>Disagree</td>\n      <td>Agree</td>\n      <td>113750.0</td>\n      <td>NaN</td>\n    </tr>\n    <tr>\n      <th>4</th>\n      <td>Professional non-developer who sometimes write...</td>\n      <td>Yes, both</td>\n      <td>United States</td>\n      <td>No</td>\n      <td>Employed full-time</td>\n      <td>Doctoral degree</td>\n      <td>A non-computer-focused engineering discipline</td>\n      <td>Less than half the time, but at least one day ...</td>\n      <td>10,000 or more employees</td>\n      <td>Non-profit/non-governmental organization or pr...</td>\n      <td>14 to 15 years</td>\n      <td>9 to 10 years</td>\n      <td>NaN</td>\n      <td>NaN</td>\n      <td>NaN</td>\n      <td>NaN</td>\n      <td>Data scientist</td>\n      <td>6.0</td>\n      <td>3.0</td>\n      <td>NaN</td>\n      <td>NaN</td>\n      <td>NaN</td>\n      <td>NaN</td>\n      <td>NaN</td>\n      <td>NaN</td>\n      <td>NaN</td>\n      <td>NaN</td>\n      <td>With a soft \"g,\" like \"jiff\"</td>\n      <td>Strongly agree</td>\n      <td>Strongly agree</td>\n      <td>Strongly agree</td>\n      <td>Disagree</td>\n      <td>Somewhat agree</td>\n      <td>Agree</td>\n      <td>Agree</td>\n      <td>Agree</td>\n      <td>Somewhat agree</td>\n      <td>Strongly disagree</td>\n      <td>Strongly agree</td>\n      <td>Agree</td>\n      <td>Disagree</td>\n      <td>Strongly agree</td>\n      <td>...</td>\n      <td>NaN</td>\n      <td>NaN</td>\n      <td>NaN</td>\n      <td>NaN</td>\n      <td>NaN</td>\n      <td>NaN</td>\n      <td>NaN</td>\n      <td>NaN</td>\n      <td>NaN</td>\n      <td>NaN</td>\n      <td>NaN</td>\n      <td>NaN</td>\n      <td>NaN</td>\n      <td>NaN</td>\n      <td>I have created a CV or Developer Story on Stac...</td>\n      <td>10.0</td>\n      <td>Desktop; iOS browser; iOS app</td>\n      <td>At least once each week</td>\n      <td>Several times</td>\n      <td>At least once each week</td>\n      <td>Several times</td>\n      <td>At least once each week</td>\n      <td>Several times</td>\n      <td>At least once each day</td>\n      <td>At least once each day</td>\n      <td>Agree</td>\n      <td>Strongly disagree</td>\n      <td>Strongly disagree</td>\n      <td>Strongly agree</td>\n      <td>Strongly agree</td>\n      <td>Agree</td>\n      <td>Strongly agree</td>\n      <td>Disagree</td>\n      <td>Male</td>\n      <td>A doctoral degree</td>\n      <td>White or of European descent</td>\n      <td>Agree</td>\n      <td>Agree</td>\n      <td>Somewhat agree</td>\n      <td>Strongly agree</td>\n      <td>NaN</td>\n      <td>NaN</td>\n    </tr>\n    <tr>\n      <th>5</th>\n      <td>Professional developer</td>\n      <td>Yes, I program as a hobby</td>\n      <td>Switzerland</td>\n      <td>No</td>\n      <td>Employed full-time</td>\n      <td>Master's degree</td>\n      <td>Computer science or software engineering</td>\n      <td>Never</td>\n      <td>10 to 19 employees</td>\n      <td>Privately-held limited company, not in startup...</td>\n      <td>20 or more years</td>\n      <td>10 to 11 years</td>\n      <td>NaN</td>\n      <td>Mobile developer; Graphics programming; Deskto...</td>\n      <td>NaN</td>\n      <td>NaN</td>\n      <td>NaN</td>\n      <td>6.0</td>\n      <td>8.0</td>\n      <td>NaN</td>\n      <td>NaN</td>\n      <td>NaN</td>\n      <td>NaN</td>\n      <td>NaN</td>\n      <td>NaN</td>\n      <td>NaN</td>\n      <td>NaN</td>\n      <td>With a soft \"g,\" like \"jiff\"</td>\n      <td>NaN</td>\n      <td>NaN</td>\n      <td>NaN</td>\n      <td>NaN</td>\n      <td>NaN</td>\n      <td>NaN</td>\n      <td>NaN</td>\n      <td>NaN</td>\n      <td>NaN</td>\n      <td>NaN</td>\n      <td>NaN</td>\n      <td>NaN</td>\n      <td>NaN</td>\n      <td>NaN</td>\n      <td>...</td>\n      <td>Satisfied</td>\n      <td>Satisfied</td>\n      <td>Satisfied</td>\n      <td>NaN</td>\n      <td>NaN</td>\n      <td>NaN</td>\n      <td>NaN</td>\n      <td>NaN</td>\n      <td>NaN</td>\n      <td>NaN</td>\n      <td>NaN</td>\n      <td>NaN</td>\n      <td>NaN</td>\n      <td>NaN</td>\n      <td>NaN</td>\n      <td>NaN</td>\n      <td>NaN</td>\n      <td>NaN</td>\n      <td>NaN</td>\n      <td>NaN</td>\n      <td>NaN</td>\n      <td>NaN</td>\n      <td>NaN</td>\n      <td>NaN</td>\n      <td>NaN</td>\n      <td>NaN</td>\n      <td>NaN</td>\n      <td>NaN</td>\n      <td>NaN</td>\n      <td>NaN</td>\n      <td>NaN</td>\n      <td>NaN</td>\n      <td>NaN</td>\n      <td>NaN</td>\n      <td>NaN</td>\n      <td>NaN</td>\n      <td>NaN</td>\n      <td>NaN</td>\n      <td>NaN</td>\n      <td>NaN</td>\n      <td>NaN</td>\n      <td>NaN</td>\n    </tr>\n  </tbody>\n</table>\n<p>5 rows × 153 columns</p>\n</div>"
     },
     "execution_count": 48,
     "metadata": {},
     "output_type": "execute_result"
    }
   ],
   "source": [
    "df.head()"
   ],
   "metadata": {
    "collapsed": false,
    "ExecuteTime": {
     "end_time": "2023-10-26T07:16:31.916765500Z",
     "start_time": "2023-10-26T07:16:31.869523500Z"
    }
   },
   "id": "79f856d774d9314b"
  },
  {
   "cell_type": "code",
   "execution_count": 51,
   "outputs": [],
   "source": [
    "df['JobSatisfaction'] = df['JobSatisfaction'].astype(float)"
   ],
   "metadata": {
    "collapsed": false,
    "ExecuteTime": {
     "end_time": "2023-10-26T08:12:36.450021Z",
     "start_time": "2023-10-26T08:12:36.419312600Z"
    }
   },
   "id": "7e291126cec44257"
  },
  {
   "cell_type": "code",
   "execution_count": 54,
   "outputs": [
    {
     "data": {
      "text/plain": "array([nan,  9.,  3.,  8.,  6.,  7.,  5.,  4., 10.,  2.,  0.,  1.])"
     },
     "execution_count": 54,
     "metadata": {},
     "output_type": "execute_result"
    }
   ],
   "source": [
    "df['JobSatisfaction'].unique()"
   ],
   "metadata": {
    "collapsed": false,
    "ExecuteTime": {
     "end_time": "2023-10-26T08:12:57.045720100Z",
     "start_time": "2023-10-26T08:12:57.023197100Z"
    }
   },
   "id": "56cd75eef1469f1e"
  },
  {
   "cell_type": "code",
   "execution_count": 56,
   "outputs": [
    {
     "data": {
      "text/plain": "<bound method NDFrame.astype of Respondent\n1         NaN\n2         NaN\n3         9.0\n4         3.0\n5         8.0\n         ... \n51388     3.0\n51389     NaN\n51390    10.0\n51391     7.0\n51392     8.0\nName: JobSatisfaction, Length: 51392, dtype: float64>"
     },
     "execution_count": 56,
     "metadata": {},
     "output_type": "execute_result"
    }
   ],
   "source": [
    "df['JobSatisfaction'].astype"
   ],
   "metadata": {
    "collapsed": false,
    "ExecuteTime": {
     "end_time": "2023-10-26T08:13:30.136357100Z",
     "start_time": "2023-10-26T08:13:30.113737Z"
    }
   },
   "id": "9b5b30f6f4fc62b9"
  },
  {
   "cell_type": "code",
   "execution_count": 57,
   "outputs": [
    {
     "data": {
      "text/plain": "6.957078462452943"
     },
     "execution_count": 57,
     "metadata": {},
     "output_type": "execute_result"
    }
   ],
   "source": [
    "df['JobSatisfaction'].mean()"
   ],
   "metadata": {
    "collapsed": false,
    "ExecuteTime": {
     "end_time": "2023-10-26T08:15:16.628361300Z",
     "start_time": "2023-10-26T08:15:16.584566800Z"
    }
   },
   "id": "26de88881a4fcdd4"
  },
  {
   "cell_type": "code",
   "execution_count": 59,
   "outputs": [
    {
     "data": {
      "text/plain": "7.0"
     },
     "execution_count": 59,
     "metadata": {},
     "output_type": "execute_result"
    }
   ],
   "source": [
    "df['JobSatisfaction'].median()"
   ],
   "metadata": {
    "collapsed": false,
    "ExecuteTime": {
     "end_time": "2023-10-26T08:15:43.021287500Z",
     "start_time": "2023-10-26T08:15:42.995072100Z"
    }
   },
   "id": "4d626c92de17f18"
  },
  {
   "cell_type": "code",
   "execution_count": null,
   "outputs": [],
   "source": [],
   "metadata": {
    "collapsed": false
   },
   "id": "ec3ad36d574323e2"
  }
 ],
 "metadata": {
  "kernelspec": {
   "display_name": "Python 3",
   "language": "python",
   "name": "python3"
  },
  "language_info": {
   "codemirror_mode": {
    "name": "ipython",
    "version": 2
   },
   "file_extension": ".py",
   "mimetype": "text/x-python",
   "name": "python",
   "nbconvert_exporter": "python",
   "pygments_lexer": "ipython2",
   "version": "2.7.6"
  }
 },
 "nbformat": 4,
 "nbformat_minor": 5
}
