{
 "cells": [
  {
   "cell_type": "markdown",
   "source": [
    "### Time Method"
   ],
   "metadata": {
    "collapsed": false
   },
   "id": "3c9c648b0c9e3386"
  },
  {
   "cell_type": "code",
   "execution_count": 1,
   "outputs": [],
   "source": [
    "import numpy as np\n",
    "import pandas as pd\n",
    "\n",
    "from datetime import datetime"
   ],
   "metadata": {
    "collapsed": false,
    "ExecuteTime": {
     "end_time": "2023-10-25T17:00:45.392904900Z",
     "start_time": "2023-10-25T17:00:44.580987100Z"
    }
   },
   "id": "2679fabc649653d6"
  },
  {
   "cell_type": "code",
   "execution_count": 2,
   "outputs": [],
   "source": [
    "myyear = 2015\n",
    "mymonth = 1\n",
    "myday = 1\n",
    "myhour = 2\n",
    "mymin = 30\n",
    "mysec = 15"
   ],
   "metadata": {
    "collapsed": false,
    "ExecuteTime": {
     "end_time": "2023-10-25T17:01:16.874605900Z",
     "start_time": "2023-10-25T17:01:16.858647400Z"
    }
   },
   "id": "c18d1a595ddc7ebf"
  },
  {
   "cell_type": "code",
   "execution_count": 3,
   "outputs": [],
   "source": [
    "mydate = datetime(myyear, mymonth, myday)"
   ],
   "metadata": {
    "collapsed": false,
    "ExecuteTime": {
     "end_time": "2023-10-25T17:01:39.453119400Z",
     "start_time": "2023-10-25T17:01:39.442510Z"
    }
   },
   "id": "f4f91357e5cfcf82"
  },
  {
   "cell_type": "code",
   "execution_count": 4,
   "outputs": [
    {
     "data": {
      "text/plain": "datetime.datetime(2015, 1, 1, 0, 0)"
     },
     "execution_count": 4,
     "metadata": {},
     "output_type": "execute_result"
    }
   ],
   "source": [
    "mydate"
   ],
   "metadata": {
    "collapsed": false,
    "ExecuteTime": {
     "end_time": "2023-10-25T17:01:41.616662500Z",
     "start_time": "2023-10-25T17:01:41.583452Z"
    }
   },
   "id": "25639309fbb44910"
  },
  {
   "cell_type": "code",
   "execution_count": 5,
   "outputs": [],
   "source": [
    "mydatetime = datetime(myyear, mymonth,myday, myhour, mymin, mysec)"
   ],
   "metadata": {
    "collapsed": false,
    "ExecuteTime": {
     "end_time": "2023-10-25T17:02:32.310323800Z",
     "start_time": "2023-10-25T17:02:32.231318200Z"
    }
   },
   "id": "dca12c575ec879b0"
  },
  {
   "cell_type": "code",
   "execution_count": 7,
   "outputs": [
    {
     "data": {
      "text/plain": "datetime.datetime(2015, 1, 1, 2, 30, 15)"
     },
     "execution_count": 7,
     "metadata": {},
     "output_type": "execute_result"
    }
   ],
   "source": [
    "mydatetime"
   ],
   "metadata": {
    "collapsed": false,
    "ExecuteTime": {
     "end_time": "2023-10-25T17:02:39.791150600Z",
     "start_time": "2023-10-25T17:02:39.781164800Z"
    }
   },
   "id": "9a24e730042ebaaa"
  },
  {
   "cell_type": "code",
   "execution_count": 8,
   "outputs": [
    {
     "data": {
      "text/plain": "2015"
     },
     "execution_count": 8,
     "metadata": {},
     "output_type": "execute_result"
    }
   ],
   "source": [
    "mydatetime.year"
   ],
   "metadata": {
    "collapsed": false,
    "ExecuteTime": {
     "end_time": "2023-10-25T17:02:49.518735Z",
     "start_time": "2023-10-25T17:02:49.440396600Z"
    }
   },
   "id": "6965f3af3a239314"
  },
  {
   "cell_type": "code",
   "execution_count": 9,
   "outputs": [],
   "source": [
    "myser = pd.Series(['Nov 3, 1990', '2000-01-01', None])"
   ],
   "metadata": {
    "collapsed": false,
    "ExecuteTime": {
     "end_time": "2023-10-25T17:03:21.361815300Z",
     "start_time": "2023-10-25T17:03:21.313841800Z"
    }
   },
   "id": "75a544124001aa41"
  },
  {
   "cell_type": "code",
   "execution_count": 10,
   "outputs": [
    {
     "data": {
      "text/plain": "0    Nov 3, 1990\n1     2000-01-01\n2           None\ndtype: object"
     },
     "execution_count": 10,
     "metadata": {},
     "output_type": "execute_result"
    }
   ],
   "source": [
    "myser"
   ],
   "metadata": {
    "collapsed": false,
    "ExecuteTime": {
     "end_time": "2023-10-25T17:03:23.123514600Z",
     "start_time": "2023-10-25T17:03:23.092102400Z"
    }
   },
   "id": "fb1279a56e55de8d"
  },
  {
   "cell_type": "code",
   "execution_count": 12,
   "outputs": [],
   "source": [
    "timeser = pd.to_datetime(myser)"
   ],
   "metadata": {
    "collapsed": false,
    "ExecuteTime": {
     "end_time": "2023-10-25T17:05:11.340141500Z",
     "start_time": "2023-10-25T17:05:11.321941200Z"
    }
   },
   "id": "ced4414909875090"
  },
  {
   "cell_type": "code",
   "execution_count": 13,
   "outputs": [
    {
     "data": {
      "text/plain": "0   1990-11-03\n1   2000-01-01\n2          NaT\ndtype: datetime64[ns]"
     },
     "execution_count": 13,
     "metadata": {},
     "output_type": "execute_result"
    }
   ],
   "source": [
    "timeser"
   ],
   "metadata": {
    "collapsed": false,
    "ExecuteTime": {
     "end_time": "2023-10-25T17:05:15.143229800Z",
     "start_time": "2023-10-25T17:05:15.126526400Z"
    }
   },
   "id": "c811218842b98954"
  },
  {
   "cell_type": "code",
   "execution_count": 15,
   "outputs": [
    {
     "data": {
      "text/plain": "1990"
     },
     "execution_count": 15,
     "metadata": {},
     "output_type": "execute_result"
    }
   ],
   "source": [
    "timeser[0].year"
   ],
   "metadata": {
    "collapsed": false,
    "ExecuteTime": {
     "end_time": "2023-10-25T17:05:36.841446100Z",
     "start_time": "2023-10-25T17:05:36.825597Z"
    }
   },
   "id": "c668b85a44a82b65"
  },
  {
   "cell_type": "code",
   "execution_count": 16,
   "outputs": [],
   "source": [
    "obvi_euro_date =  '31-12-2000'"
   ],
   "metadata": {
    "collapsed": false,
    "ExecuteTime": {
     "end_time": "2023-10-25T17:06:05.134032100Z",
     "start_time": "2023-10-25T17:06:05.103455500Z"
    }
   },
   "id": "de81641def79c555"
  },
  {
   "cell_type": "code",
   "execution_count": 18,
   "outputs": [
    {
     "name": "stderr",
     "output_type": "stream",
     "text": [
      "C:\\Users\\datas\\AppData\\Local\\Temp\\ipykernel_5428\\3019810549.py:1: UserWarning: Parsing dates in DD/MM/YYYY format when dayfirst=False (the default) was specified. This may lead to inconsistently parsed dates! Specify a format to ensure consistent parsing.\n",
      "  pd.to_datetime(obvi_euro_date)\n"
     ]
    },
    {
     "data": {
      "text/plain": "Timestamp('2000-12-31 00:00:00')"
     },
     "execution_count": 18,
     "metadata": {},
     "output_type": "execute_result"
    }
   ],
   "source": [
    "pd.to_datetime(obvi_euro_date)"
   ],
   "metadata": {
    "collapsed": false,
    "ExecuteTime": {
     "end_time": "2023-10-25T17:06:40.363524700Z",
     "start_time": "2023-10-25T17:06:40.350194100Z"
    }
   },
   "id": "792be4fd049940d3"
  },
  {
   "cell_type": "code",
   "execution_count": 19,
   "outputs": [],
   "source": [
    "euro_date = '10-12-2000'"
   ],
   "metadata": {
    "collapsed": false,
    "ExecuteTime": {
     "end_time": "2023-10-25T17:07:43.984889300Z",
     "start_time": "2023-10-25T17:07:43.967118800Z"
    }
   },
   "id": "f6f15835f86f08f2"
  },
  {
   "cell_type": "code",
   "execution_count": 20,
   "outputs": [
    {
     "data": {
      "text/plain": "Timestamp('2000-10-12 00:00:00')"
     },
     "execution_count": 20,
     "metadata": {},
     "output_type": "execute_result"
    }
   ],
   "source": [
    "pd.to_datetime(euro_date)"
   ],
   "metadata": {
    "collapsed": false,
    "ExecuteTime": {
     "end_time": "2023-10-25T17:07:57.731519100Z",
     "start_time": "2023-10-25T17:07:57.714405500Z"
    }
   },
   "id": "1752ce1b2d5895dc"
  },
  {
   "cell_type": "code",
   "execution_count": 23,
   "outputs": [
    {
     "data": {
      "text/plain": "1990"
     },
     "execution_count": 23,
     "metadata": {},
     "output_type": "execute_result"
    }
   ],
   "source": [
    "timeser[0].year"
   ],
   "metadata": {
    "collapsed": false,
    "ExecuteTime": {
     "end_time": "2023-10-25T17:12:57.363121100Z",
     "start_time": "2023-10-25T17:12:57.340949400Z"
    }
   },
   "id": "ede7ad633bc4ea54"
  },
  {
   "cell_type": "code",
   "execution_count": 24,
   "outputs": [],
   "source": [
    "style_date = '12--Dec--2000'"
   ],
   "metadata": {
    "collapsed": false,
    "ExecuteTime": {
     "end_time": "2023-10-25T17:13:13.912457100Z",
     "start_time": "2023-10-25T17:13:13.900878700Z"
    }
   },
   "id": "a290aba825592646"
  },
  {
   "cell_type": "markdown",
   "source": [
    "### Custom Time String Formatting"
   ],
   "metadata": {
    "collapsed": false
   },
   "id": "ce817a3badf58dc5"
  },
  {
   "cell_type": "code",
   "execution_count": 25,
   "outputs": [
    {
     "data": {
      "text/plain": "Timestamp('2000-12-12 00:00:00')"
     },
     "execution_count": 25,
     "metadata": {},
     "output_type": "execute_result"
    }
   ],
   "source": [
    "pd.to_datetime(style_date, format='%d--%b--%Y')"
   ],
   "metadata": {
    "collapsed": false,
    "ExecuteTime": {
     "end_time": "2023-10-25T17:15:22.294693100Z",
     "start_time": "2023-10-25T17:15:22.263051200Z"
    }
   },
   "id": "cbd013a118ba0e9f"
  },
  {
   "cell_type": "code",
   "execution_count": 26,
   "outputs": [],
   "source": [
    "custom_date = '12th of Dec 2000'"
   ],
   "metadata": {
    "collapsed": false,
    "ExecuteTime": {
     "end_time": "2023-10-25T17:16:15.210047500Z",
     "start_time": "2023-10-25T17:16:15.200386400Z"
    }
   },
   "id": "f81fdf0b1dc545f3"
  },
  {
   "cell_type": "code",
   "execution_count": 27,
   "outputs": [
    {
     "data": {
      "text/plain": "Timestamp('2000-12-12 00:00:00')"
     },
     "execution_count": 27,
     "metadata": {},
     "output_type": "execute_result"
    }
   ],
   "source": [
    "pd.to_datetime(custom_date)"
   ],
   "metadata": {
    "collapsed": false,
    "ExecuteTime": {
     "end_time": "2023-10-25T17:16:21.624375200Z",
     "start_time": "2023-10-25T17:16:21.529565200Z"
    }
   },
   "id": "9964d148bfde618a"
  },
  {
   "cell_type": "code",
   "execution_count": null,
   "outputs": [],
   "source": [],
   "metadata": {
    "collapsed": false
   },
   "id": "d8a1be3855d98813"
  }
 ],
 "metadata": {
  "kernelspec": {
   "display_name": "Python 3",
   "language": "python",
   "name": "python3"
  },
  "language_info": {
   "codemirror_mode": {
    "name": "ipython",
    "version": 2
   },
   "file_extension": ".py",
   "mimetype": "text/x-python",
   "name": "python",
   "nbconvert_exporter": "python",
   "pygments_lexer": "ipython2",
   "version": "2.7.6"
  }
 },
 "nbformat": 4,
 "nbformat_minor": 5
}
