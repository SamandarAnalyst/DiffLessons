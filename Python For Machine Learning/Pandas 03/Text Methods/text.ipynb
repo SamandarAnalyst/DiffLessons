{
 "cells": [
  {
   "cell_type": "code",
   "execution_count": 1,
   "id": "initial_id",
   "metadata": {
    "collapsed": true,
    "ExecuteTime": {
     "end_time": "2023-10-24T10:02:02.572463400Z",
     "start_time": "2023-10-24T10:02:01.426947Z"
    }
   },
   "outputs": [],
   "source": [
    "import numpy as np\n",
    "import pandas as pd"
   ]
  },
  {
   "cell_type": "code",
   "execution_count": 2,
   "outputs": [],
   "source": [
    "email = 'jose@gmail.com'"
   ],
   "metadata": {
    "collapsed": false,
    "ExecuteTime": {
     "end_time": "2023-10-24T10:04:32.604907Z",
     "start_time": "2023-10-24T10:04:32.567614300Z"
    }
   },
   "id": "aaf9ab9960cc411d"
  },
  {
   "cell_type": "code",
   "execution_count": 3,
   "outputs": [
    {
     "data": {
      "text/plain": "['jose', 'gmail.com']"
     },
     "execution_count": 3,
     "metadata": {},
     "output_type": "execute_result"
    }
   ],
   "source": [
    "email.split('@')"
   ],
   "metadata": {
    "collapsed": false,
    "ExecuteTime": {
     "end_time": "2023-10-24T10:04:48.175983700Z",
     "start_time": "2023-10-24T10:04:48.160730Z"
    }
   },
   "id": "f3a8a3f1318bc3ca"
  },
  {
   "cell_type": "code",
   "execution_count": 4,
   "outputs": [],
   "source": [
    "names = pd.Series(['andrew', 'bobo', 'claire', 'david', '5'])"
   ],
   "metadata": {
    "collapsed": false,
    "ExecuteTime": {
     "end_time": "2023-10-24T10:05:28.905290100Z",
     "start_time": "2023-10-24T10:05:28.899438800Z"
    }
   },
   "id": "dff526d889d21bf4"
  },
  {
   "cell_type": "code",
   "execution_count": 5,
   "outputs": [
    {
     "data": {
      "text/plain": "0    andrew\n1      bobo\n2    claire\n3     david\n4         5\ndtype: object"
     },
     "execution_count": 5,
     "metadata": {},
     "output_type": "execute_result"
    }
   ],
   "source": [
    "names"
   ],
   "metadata": {
    "collapsed": false,
    "ExecuteTime": {
     "end_time": "2023-10-24T10:05:30.927908Z",
     "start_time": "2023-10-24T10:05:30.912368Z"
    }
   },
   "id": "1faca5714c1fca18"
  },
  {
   "cell_type": "code",
   "execution_count": 6,
   "outputs": [
    {
     "data": {
      "text/plain": "0    ANDREW\n1      BOBO\n2    CLAIRE\n3     DAVID\n4         5\ndtype: object"
     },
     "execution_count": 6,
     "metadata": {},
     "output_type": "execute_result"
    }
   ],
   "source": [
    "names.str.upper()"
   ],
   "metadata": {
    "collapsed": false,
    "ExecuteTime": {
     "end_time": "2023-10-24T10:05:45.769276400Z",
     "start_time": "2023-10-24T10:05:45.723845600Z"
    }
   },
   "id": "d73705aa75e4d6c"
  },
  {
   "cell_type": "code",
   "execution_count": 7,
   "outputs": [
    {
     "data": {
      "text/plain": "0    andrew\n1      bobo\n2    claire\n3     david\n4         5\ndtype: object"
     },
     "execution_count": 7,
     "metadata": {},
     "output_type": "execute_result"
    }
   ],
   "source": [
    "names"
   ],
   "metadata": {
    "collapsed": false,
    "ExecuteTime": {
     "end_time": "2023-10-24T10:05:50.948680500Z",
     "start_time": "2023-10-24T10:05:50.931961900Z"
    }
   },
   "id": "cf8a99d92b14cc8b"
  },
  {
   "cell_type": "code",
   "execution_count": 8,
   "outputs": [
    {
     "data": {
      "text/plain": "False"
     },
     "execution_count": 8,
     "metadata": {},
     "output_type": "execute_result"
    }
   ],
   "source": [
    "email.isdigit()"
   ],
   "metadata": {
    "collapsed": false,
    "ExecuteTime": {
     "end_time": "2023-10-24T10:06:25.247999200Z",
     "start_time": "2023-10-24T10:06:25.238286600Z"
    }
   },
   "id": "2c32d8598a9af25b"
  },
  {
   "cell_type": "code",
   "execution_count": 9,
   "outputs": [
    {
     "data": {
      "text/plain": "0    False\n1    False\n2    False\n3    False\n4     True\ndtype: bool"
     },
     "execution_count": 9,
     "metadata": {},
     "output_type": "execute_result"
    }
   ],
   "source": [
    "names.str.isdigit()"
   ],
   "metadata": {
    "collapsed": false,
    "ExecuteTime": {
     "end_time": "2023-10-24T10:07:02.651074700Z",
     "start_time": "2023-10-24T10:07:02.634385800Z"
    }
   },
   "id": "6a1c7cb8395dd312"
  },
  {
   "cell_type": "code",
   "execution_count": 11,
   "outputs": [],
   "source": [
    "tech_finance = ['GOOG, APPL, AMZN', 'JPM, BAC, GS']"
   ],
   "metadata": {
    "collapsed": false,
    "ExecuteTime": {
     "end_time": "2023-10-24T10:09:02.942778600Z",
     "start_time": "2023-10-24T10:09:02.927656800Z"
    }
   },
   "id": "20feef37e7d9b44c"
  },
  {
   "cell_type": "code",
   "execution_count": 12,
   "outputs": [],
   "source": [
    "tickers = pd.Series(tech_finance)"
   ],
   "metadata": {
    "collapsed": false,
    "ExecuteTime": {
     "end_time": "2023-10-24T10:09:20.314268100Z",
     "start_time": "2023-10-24T10:09:20.295916300Z"
    }
   },
   "id": "718448167adaed04"
  },
  {
   "cell_type": "code",
   "execution_count": 13,
   "outputs": [
    {
     "data": {
      "text/plain": "0    GOOG, APPL, AMZN\n1        JPM, BAC, GS\ndtype: object"
     },
     "execution_count": 13,
     "metadata": {},
     "output_type": "execute_result"
    }
   ],
   "source": [
    "tickers"
   ],
   "metadata": {
    "collapsed": false,
    "ExecuteTime": {
     "end_time": "2023-10-24T10:09:22.332511700Z",
     "start_time": "2023-10-24T10:09:22.313497400Z"
    }
   },
   "id": "90a62abbbb9f79de"
  },
  {
   "cell_type": "code",
   "execution_count": 15,
   "outputs": [
    {
     "data": {
      "text/plain": "0    GOOG\n1     JPM\ndtype: object"
     },
     "execution_count": 15,
     "metadata": {},
     "output_type": "execute_result"
    }
   ],
   "source": [
    "tickers.str.split(',').str[0]"
   ],
   "metadata": {
    "collapsed": false,
    "ExecuteTime": {
     "end_time": "2023-10-24T10:10:26.366461700Z",
     "start_time": "2023-10-24T10:10:26.335284200Z"
    }
   },
   "id": "297071a3256ce67d"
  },
  {
   "cell_type": "code",
   "execution_count": 16,
   "outputs": [],
   "source": [
    "tech = 'GOOG, APPL, AMZN'"
   ],
   "metadata": {
    "collapsed": false,
    "ExecuteTime": {
     "end_time": "2023-10-24T10:10:50.377320800Z",
     "start_time": "2023-10-24T10:10:50.372954900Z"
    }
   },
   "id": "44872e374a000e43"
  },
  {
   "cell_type": "code",
   "execution_count": 18,
   "outputs": [
    {
     "data": {
      "text/plain": "'GOOG'"
     },
     "execution_count": 18,
     "metadata": {},
     "output_type": "execute_result"
    }
   ],
   "source": [
    "tech.split(',')[0]"
   ],
   "metadata": {
    "collapsed": false,
    "ExecuteTime": {
     "end_time": "2023-10-24T10:11:11.314988600Z",
     "start_time": "2023-10-24T10:11:11.283438600Z"
    }
   },
   "id": "5f3e737ef722751d"
  },
  {
   "cell_type": "code",
   "execution_count": 19,
   "outputs": [],
   "source": [
    "messy_names = pd.Series(['andrew  ', \"bo;bo\", '  claire  '])"
   ],
   "metadata": {
    "collapsed": false,
    "ExecuteTime": {
     "end_time": "2023-10-24T10:12:36.895807100Z",
     "start_time": "2023-10-24T10:12:36.879791300Z"
    }
   },
   "id": "2ebea769d292cf32"
  },
  {
   "cell_type": "code",
   "execution_count": 21,
   "outputs": [
    {
     "data": {
      "text/plain": "0      andrew  \n1         bo;bo\n2      claire  \ndtype: object"
     },
     "execution_count": 21,
     "metadata": {},
     "output_type": "execute_result"
    }
   ],
   "source": [
    "messy_names"
   ],
   "metadata": {
    "collapsed": false,
    "ExecuteTime": {
     "end_time": "2023-10-24T10:12:42.392786700Z",
     "start_time": "2023-10-24T10:12:42.376751600Z"
    }
   },
   "id": "e6ae6bceb6130939"
  },
  {
   "cell_type": "code",
   "execution_count": 27,
   "outputs": [],
   "source": [
    "messy_names = messy_names.str.replace(';','').str.strip().str.capitalize()"
   ],
   "metadata": {
    "collapsed": false,
    "ExecuteTime": {
     "end_time": "2023-10-24T10:14:23.419655700Z",
     "start_time": "2023-10-24T10:14:23.387993200Z"
    }
   },
   "id": "ab0b165aef01b2c"
  },
  {
   "cell_type": "code",
   "execution_count": 28,
   "outputs": [
    {
     "data": {
      "text/plain": "0    Andrew\n1      Bobo\n2    Claire\ndtype: object"
     },
     "execution_count": 28,
     "metadata": {},
     "output_type": "execute_result"
    }
   ],
   "source": [
    "messy_names"
   ],
   "metadata": {
    "collapsed": false,
    "ExecuteTime": {
     "end_time": "2023-10-24T10:14:24.059218500Z",
     "start_time": "2023-10-24T10:14:24.035380200Z"
    }
   },
   "id": "ab8723ba75086f75"
  },
  {
   "cell_type": "code",
   "execution_count": null,
   "outputs": [],
   "source": [],
   "metadata": {
    "collapsed": false
   },
   "id": "e3fbd02f8ca3018"
  }
 ],
 "metadata": {
  "kernelspec": {
   "display_name": "Python 3",
   "language": "python",
   "name": "python3"
  },
  "language_info": {
   "codemirror_mode": {
    "name": "ipython",
    "version": 2
   },
   "file_extension": ".py",
   "mimetype": "text/x-python",
   "name": "python",
   "nbconvert_exporter": "python",
   "pygments_lexer": "ipython2",
   "version": "2.7.6"
  }
 },
 "nbformat": 4,
 "nbformat_minor": 5
}
